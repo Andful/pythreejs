{
 "cells": [
  {
   "cell_type": "markdown",
   "metadata": {},
   "source": [
    "# Thick line geometry"
   ]
  },
  {
   "cell_type": "markdown",
   "metadata": {},
   "source": [
    "Three.js has some example code for thick lines via an instance-based geometry. Since WebGL does not guarantee support for line thickness greater than 1 for GL lines, pytheejs includes these objects by default."
   ]
  },
  {
   "cell_type": "code",
   "execution_count": 1,
   "metadata": {},
   "outputs": [],
   "source": [
    "from pythreejs import *\n",
    "from IPython.display import display\n",
    "from ipywidgets import VBox, HBox, Checkbox, jslink\n",
    "import numpy as np"
   ]
  },
  {
   "cell_type": "markdown",
   "metadata": {},
   "source": [
    "First, let's set up a normal GL line for comparison. Depending on your OS/browser combination, this might not respect the `linewidth` argument. E.g. most browsers on Windows does not support linewidth greater than 1, due to lack of support in the ANGLE library that most browsers rely on."
   ]
  },
  {
   "cell_type": "code",
   "execution_count": 2,
   "metadata": {},
   "outputs": [
    {
     "data": {
      "application/vnd.jupyter.widget-view+json": {
       "model_id": "e9d938378e454939be34ae348ad32690",
       "version_major": 2,
       "version_minor": 0
      },
      "text/plain": [
       "Preview(child=LineSegments(geometry=BufferGeometry(attributes={'position': BufferAttribute(array=array([[0., 0…"
      ]
     },
     "metadata": {},
     "output_type": "display_data"
    }
   ],
   "source": [
    "g1 = BufferGeometry(\n",
    "    attributes={\n",
    "        'position': BufferAttribute(np.array([\n",
    "            [0, 0, 0], [1, 1, 1],\n",
    "            [2, 2, 2], [4, 4, 4]\n",
    "        ], dtype=np.float32), normalized=False),\n",
    "        'color': BufferAttribute(np.array([\n",
    "            [1, 0, 0], [1, 0, 0],\n",
    "            [0, 1, 0], [0, 0, 1]\n",
    "        ], dtype=np.float32), normalized=False),\n",
    "    },\n",
    ")\n",
    "m1 = LineBasicMaterial(vertexColors='VertexColors', linewidth=10)\n",
    "line1 = LineSegments(g1, m1)\n",
    "line1"
   ]
  },
  {
   "cell_type": "markdown",
   "metadata": {},
   "source": [
    "Next, we'll set up two variants of the instance geometry based lines. One with a single color, and one with vertex colors."
   ]
  },
  {
   "cell_type": "code",
   "execution_count": 3,
   "metadata": {},
   "outputs": [
    {
     "data": {
      "application/vnd.jupyter.widget-view+json": {
       "model_id": "703c984f929c444a810a0812bd1c90ce",
       "version_major": 2,
       "version_minor": 0
      },
      "text/plain": [
       "Preview(child=LineSegments2(geometry=LineSegmentsGeometry(positions=array([[[0., 0., 0.],\n",
       "        [1., 1., 1.]…"
      ]
     },
     "metadata": {},
     "output_type": "display_data"
    }
   ],
   "source": [
    "g2 = LineSegmentsGeometry(\n",
    "    positions=[\n",
    "        [[0, 0, 0], [1, 1, 1]],\n",
    "        [[2, 2, 2], [4, 4, 4]]\n",
    "    ],\n",
    ")\n",
    "m2 = LineMaterial(linewidth=10, color='cyan')\n",
    "line2 = LineSegments2(g2, m2)\n",
    "line2"
   ]
  },
  {
   "cell_type": "code",
   "execution_count": 4,
   "metadata": {},
   "outputs": [
    {
     "data": {
      "application/vnd.jupyter.widget-view+json": {
       "model_id": "4c31a9701e714a65931767b0d50adb6c",
       "version_major": 2,
       "version_minor": 0
      },
      "text/plain": [
       "Preview(child=LineSegments2(geometry=LineSegmentsGeometry(colors=array([[[1., 0., 0.],\n",
       "        [1., 0., 0.]],\n",
       "…"
      ]
     },
     "metadata": {},
     "output_type": "display_data"
    }
   ],
   "source": [
    "g3 = LineSegmentsGeometry(\n",
    "    positions=[\n",
    "        [[0, 0, 0], [1, 1, 1]],\n",
    "        [[2, 2, 2], [4, 4, 4]]\n",
    "    ],\n",
    "    colors=[\n",
    "        [[1, 0, 0], [1, 0, 0]],\n",
    "        [[0, 1, 0], [0, 0, 1]]\n",
    "    ],\n",
    ")\n",
    "m3 = LineMaterial(linewidth=10, vertexColors='VertexColors')\n",
    "line3 = LineSegments2(g3, m3)\n",
    "line3"
   ]
  },
  {
   "cell_type": "markdown",
   "metadata": {},
   "source": [
    "Finally, let's set up a simple scenea and renderer, and add some checkboxes so we can toggle the visibility of the different lines."
   ]
  },
  {
   "cell_type": "code",
   "execution_count": 5,
   "metadata": {},
   "outputs": [],
   "source": [
    "view_width = 600\n",
    "view_height = 400\n",
    "camera = PerspectiveCamera(position=[10, 0, 0], aspect=view_width/view_height)\n",
    "key_light = DirectionalLight(position=[0, 10, 10])\n",
    "ambient_light = AmbientLight()"
   ]
  },
  {
   "cell_type": "code",
   "execution_count": 6,
   "metadata": {},
   "outputs": [],
   "source": [
    "scene = Scene(children=[line1, line2, line3, camera, key_light, ambient_light])\n",
    "controller = OrbitControls(controlling=camera, screenSpacePanning=False)\n",
    "renderer = Renderer(camera=camera, scene=scene, controls=[controller],\n",
    "                    width=view_width, height=view_height)"
   ]
  },
  {
   "cell_type": "code",
   "execution_count": 7,
   "metadata": {},
   "outputs": [
    {
     "data": {
      "application/vnd.jupyter.widget-view+json": {
       "model_id": "688f57ae5b234dc1b5263f3c0411118e",
       "version_major": 2,
       "version_minor": 0
      },
      "text/plain": [
       "VBox(children=(Renderer(camera=PerspectiveCamera(aspect=1.5, position=(10.0, 0.0, 0.0), quaternion=(0.0, 0.0, …"
      ]
     },
     "metadata": {},
     "output_type": "display_data"
    }
   ],
   "source": [
    "chks = [\n",
    "    Checkbox(True, description='GL line'),\n",
    "    Checkbox(True, description='Fat line (single color)'),\n",
    "    Checkbox(True, description='Fat line (vertex colors)'),\n",
    "]\n",
    "jslink((chks[0], 'value'), (line1, 'visible'))\n",
    "jslink((chks[1], 'value'), (line2, 'visible'))\n",
    "jslink((chks[2], 'value'), (line3, 'visible'))\n",
    "VBox([renderer, HBox(chks)])"
   ]
  },
  {
   "cell_type": "markdown",
   "metadata": {},
   "source": [
    "For reference, the code below shows how you would recreate the line geometry and material from the kernel. The only significant difference is that you need to declare the render view resolution on material creation, while the included `LineMaterial` automatically sets this."
   ]
  },
  {
   "cell_type": "code",
   "execution_count": 8,
   "metadata": {},
   "outputs": [],
   "source": [
    "# The line segment points and colors.\n",
    "# Each array of six is one instance/segment [x1, y1, z1, x2, y2, z2]\n",
    "posInstBuffer = InstancedInterleavedBuffer( np.array([\n",
    "    [0, 0, 0, 1, 1, 1],\n",
    "    [2, 2, 2, 4, 4, 4]\n",
    "], dtype=np.float32))\n",
    "colInstBuffer = InstancedInterleavedBuffer( np.array([\n",
    "    [1, 0, 0, 1, 0, 0],\n",
    "    [0, 1, 0, 0, 0, 1]\n",
    "], dtype=np.float32))\n",
    "\n",
    "# This uses InstancedBufferGeometry, so that the geometry is reused for each line segment\n",
    "lineGeo = InstancedBufferGeometry(attributes={\n",
    "    # Helper line geometry (2x4 grid), that is instanced\n",
    "    'position': BufferAttribute(np.array([\n",
    "        [ 1,  2, 0], [1,  2, 0],\n",
    "        [-1,  1, 0], [1,  1, 0],\n",
    "        [-1,  0, 0], [1,  0, 0],\n",
    "        [-1, -1, 0], [1, -1, 0]\n",
    "    ], dtype=np.float32)),\n",
    "    'uv': BufferAttribute(np.array([\n",
    "        [-1,  2], [1,  2],\n",
    "        [-1,  1], [1,  1],\n",
    "        [-1, -1], [1, -1],\n",
    "        [-1, -2], [1, -2]\n",
    "    ], dtype=np.float32)),\n",
    "    'index': BufferAttribute(np.array([\n",
    "        0, 2, 1,\n",
    "        2, 3, 1,\n",
    "        2, 4, 3,\n",
    "        4, 5, 3,\n",
    "        4, 6, 5,\n",
    "        6, 7, 5\n",
    "    ], dtype=np.uint8)),\n",
    "    # The line segments are split into start/end for each instance:\n",
    "    'instanceStart': InterleavedBufferAttribute(posInstBuffer, 3, 0),\n",
    "    'instanceEnd': InterleavedBufferAttribute(posInstBuffer, 3, 3),\n",
    "    'instanceColorStart': InterleavedBufferAttribute(colInstBuffer, 3, 0),\n",
    "    'instanceColorEnd': InterleavedBufferAttribute(colInstBuffer, 3, 3),\n",
    "})"
   ]
  },
  {
   "cell_type": "code",
   "execution_count": 9,
   "metadata": {},
   "outputs": [],
   "source": [
    "# The line material shader:\n",
    "lineMat = ShaderMaterial(\n",
    "    vertexShader='''\n",
    "#include <common>\n",
    "#include <color_pars_vertex>\n",
    "#include <fog_pars_vertex>\n",
    "#include <logdepthbuf_pars_vertex>\n",
    "#include <clipping_planes_pars_vertex>\n",
    "\n",
    "uniform float linewidth;\n",
    "uniform vec2 resolution;\n",
    "\n",
    "attribute vec3 instanceStart;\n",
    "attribute vec3 instanceEnd;\n",
    "\n",
    "attribute vec3 instanceColorStart;\n",
    "attribute vec3 instanceColorEnd;\n",
    "\n",
    "varying vec2 vUv;\n",
    "\n",
    "void trimSegment( const in vec4 start, inout vec4 end ) {\n",
    "\n",
    "    // trim end segment so it terminates between the camera plane and the near plane\n",
    "\n",
    "    // conservative estimate of the near plane\n",
    "    float a = projectionMatrix[ 2 ][ 2 ]; // 3nd entry in 3th column\n",
    "    float b = projectionMatrix[ 3 ][ 2 ]; // 3nd entry in 4th column\n",
    "    float nearEstimate = - 0.5 * b / a;\n",
    "\n",
    "    float alpha = ( nearEstimate - start.z ) / ( end.z - start.z );\n",
    "\n",
    "    end.xyz = mix( start.xyz, end.xyz, alpha );\n",
    "\n",
    "}\n",
    "\n",
    "void main() {\n",
    "\n",
    "    #ifdef USE_COLOR\n",
    "\n",
    "        vColor.xyz = ( position.y < 0.5 ) ? instanceColorStart : instanceColorEnd;\n",
    "\n",
    "    #endif\n",
    "    \n",
    "    float aspect = resolution.x / resolution.y;\n",
    "\n",
    "    vUv = uv;\n",
    "    \n",
    "    // camera space\n",
    "    vec4 start = modelViewMatrix * vec4( instanceStart, 1.0 );\n",
    "    vec4 end = modelViewMatrix * vec4( instanceEnd, 1.0 );\n",
    "\n",
    "    // special case for perspective projection, and segments that terminate either in, or behind, the camera plane\n",
    "    // clearly the gpu firmware has a way of addressing this issue when projecting into ndc space\n",
    "    // but we need to perform ndc-space calculations in the shader, so we must address this issue directly\n",
    "    // perhaps there is a more elegant solution -- WestLangley\n",
    "\n",
    "    bool perspective = ( projectionMatrix[ 2 ][ 3 ] == - 1.0 ); // 4th entry in the 3rd column\n",
    "\n",
    "    if ( perspective ) {\n",
    "\n",
    "        if ( start.z < 0.0 && end.z >= 0.0 ) {\n",
    "\n",
    "            trimSegment( start, end );\n",
    "\n",
    "        } else if ( end.z < 0.0 && start.z >= 0.0 ) {\n",
    "\n",
    "            trimSegment( end, start );\n",
    "\n",
    "        }\n",
    "\n",
    "    }\n",
    "\n",
    "    // clip space\n",
    "    vec4 clipStart = projectionMatrix * start;\n",
    "    vec4 clipEnd = projectionMatrix * end;\n",
    "\n",
    "    // ndc space\n",
    "    vec2 ndcStart = clipStart.xy / clipStart.w;\n",
    "    vec2 ndcEnd = clipEnd.xy / clipEnd.w;\n",
    "\n",
    "    // direction\n",
    "    vec2 dir = ndcEnd - ndcStart;\n",
    "\n",
    "    // account for clip-space aspect ratio\n",
    "    dir.x *= aspect;\n",
    "    dir = normalize( dir );\n",
    "\n",
    "    // perpendicular to dir\n",
    "    vec2 offset = vec2( dir.y, - dir.x );\n",
    "\n",
    "    // undo aspect ratio adjustment\n",
    "    dir.x /= aspect;\n",
    "    offset.x /= aspect;\n",
    "\n",
    "    // sign flip\n",
    "    if ( position.x < 0.0 ) offset *= - 1.0;\n",
    "\n",
    "    // endcaps\n",
    "    if ( position.y < 0.0 ) {\n",
    "\n",
    "        offset += - dir;\n",
    "\n",
    "    } else if ( position.y > 1.0 ) {\n",
    "\n",
    "        offset += dir;\n",
    "\n",
    "    }\n",
    "\n",
    "    // adjust for linewidth\n",
    "    offset *= linewidth;\n",
    "    \n",
    "    // adjust for clip-space to screen-space conversion // maybe resolution should be based on viewport ...\n",
    "    offset /= resolution.y;\n",
    "\n",
    "    // select end\n",
    "    vec4 clip = ( position.y < 0.5 ) ? clipStart : clipEnd;\n",
    "\n",
    "    // back to clip space\n",
    "    offset *= clip.w;\n",
    "\n",
    "    clip.xy += offset;\n",
    "\n",
    "    gl_Position = clip;\n",
    "    \n",
    "    vec4 mvPosition = ( position.y < 0.5 ) ? start : end; // this is an approximation\n",
    "\n",
    "    #include <logdepthbuf_vertex>\n",
    "    #include <clipping_planes_vertex>\n",
    "    #include <fog_vertex>\n",
    "}\n",
    "''',\n",
    "    fragmentShader='''\n",
    "uniform vec3 diffuse;\n",
    "uniform float opacity;\n",
    "\n",
    "varying float vLineDistance;\n",
    "\n",
    "#include <common>\n",
    "#include <color_pars_fragment>\n",
    "#include <fog_pars_fragment>\n",
    "#include <logdepthbuf_pars_fragment>\n",
    "#include <clipping_planes_pars_fragment>\n",
    "\n",
    "varying vec2 vUv;\n",
    "\n",
    "void main() {\n",
    "\n",
    "    #include <clipping_planes_fragment>\n",
    "\n",
    "\n",
    "    if ( abs( vUv.y ) > 1.0 ) {\n",
    "\n",
    "        float a = vUv.x;\n",
    "        float b = ( vUv.y > 0.0 ) ? vUv.y - 1.0 : vUv.y + 1.0;\n",
    "        float len2 = a * a + b * b;\n",
    "\n",
    "        if ( len2 > 1.0 ) discard;\n",
    "\n",
    "    }\n",
    "\n",
    "    vec4 diffuseColor = vec4( diffuse, opacity );\n",
    "\n",
    "    #include <logdepthbuf_fragment>\n",
    "    #include <color_fragment>\n",
    "\n",
    "    gl_FragColor = vec4( diffuseColor.rgb, diffuseColor.a );\n",
    "\n",
    "    #include <premultiplied_alpha_fragment>\n",
    "    #include <tonemapping_fragment>\n",
    "    #include <encodings_fragment>\n",
    "    #include <fog_fragment>\n",
    "\n",
    "}\n",
    "''',\n",
    "    vertexColors='VertexColors',\n",
    "    uniforms=dict(\n",
    "        linewidth={'value': 10.0},\n",
    "        resolution={'value': (100., 100.)},\n",
    "        **UniformsLib['common']\n",
    "    )\n",
    ")"
   ]
  },
  {
   "cell_type": "code",
   "execution_count": 10,
   "metadata": {},
   "outputs": [
    {
     "data": {
      "application/vnd.jupyter.widget-view+json": {
       "model_id": "dfa4965558084761bbc74988558d7aa3",
       "version_major": 2,
       "version_minor": 0
      },
      "text/plain": [
       "Preview(child=Mesh(geometry=InstancedBufferGeometry(attributes={'position': BufferAttribute(array=array([[ 1.,…"
      ]
     },
     "metadata": {},
     "output_type": "display_data"
    }
   ],
   "source": [
    "Mesh(lineGeo, lineMat)"
   ]
  },
  {
   "cell_type": "code",
   "execution_count": null,
   "metadata": {},
   "outputs": [],
   "source": []
  }
 ],
 "metadata": {
  "kernelspec": {
   "display_name": "Python 3",
   "language": "python",
   "name": "python3"
  },
  "language_info": {
   "codemirror_mode": {
    "name": "ipython",
    "version": 3
   },
   "file_extension": ".py",
   "mimetype": "text/x-python",
   "name": "python",
   "nbconvert_exporter": "python",
   "pygments_lexer": "ipython3",
   "version": "3.6.6"
  },
  "widgets": {
   "application/vnd.jupyter.widget-state+json": {
    "state": {
     "001bbf71462b47138c8a96733fa3f2ff": {
      "buffers": [
       {
        "data": "AAAAAAAAAAAAAAAAAACAPwAAgD8AAIA/AAAAQAAAAEAAAABAAACAQAAAgEAAAIBA",
        "encoding": "base64",
        "path": [
         "positions",
         "buffer"
        ]
       }
      ],
      "model_module": "jupyter-threejs",
      "model_module_version": "~1.1.0",
      "model_name": "LineSegmentsGeometryModel",
      "state": {
       "_model_module_version": "~1.1.0",
       "_view_module": null,
       "_view_module_version": "",
       "positions": {
        "dtype": "float32",
        "shape": [
         2,
         2,
         3
        ]
       }
      }
     },
     "0411162eb5f24cd9ad19e7509559271b": {
      "model_module": "jupyter-threejs",
      "model_module_version": "~1.1.0",
      "model_name": "AmbientLightModel",
      "state": {
       "_model_module_version": "~1.1.0",
       "_view_module": null,
       "_view_module_version": ""
      }
     },
     "0ae924783b914d2590c1265e07fa074c": {
      "model_module": "jupyter-threejs",
      "model_module_version": "~1.1.0",
      "model_name": "LineSegmentsModel",
      "state": {
       "_model_module_version": "~1.1.0",
       "_view_module": null,
       "_view_module_version": "",
       "geometry": "IPY_MODEL_80d77c0166ee468aaaeb010a85ab2e31",
       "material": "IPY_MODEL_fbf2997a3c15445b83bbb41b40c56176"
      }
     },
     "0b899e6c032c4540a02c9b1a0917a321": {
      "model_module": "jupyter-threejs",
      "model_module_version": "~1.1.0",
      "model_name": "RendererModel",
      "state": {
       "_height": 400,
       "_model_module_version": "~1.1.0",
       "_view_module_version": "~1.1.0",
       "_width": 600,
       "camera": "IPY_MODEL_d651bbadf9f042d38fef8ccf97c12be2",
       "controls": [
        "IPY_MODEL_f948f26cb6e14fde865664049ea97af8"
       ],
       "layout": "IPY_MODEL_6c2c1a984110413e9e21cbed6fa47c38",
       "scene": "IPY_MODEL_ee38d624b3d14c2bab0f0f029e74faf4",
       "shadowMap": "IPY_MODEL_5d10dfa83c384bd1a877ac5e4912259e"
      }
     },
     "0e9f6f70acd24d29bcae3f454329496c": {
      "model_module": "jupyter-threejs",
      "model_module_version": "~1.1.0",
      "model_name": "WebGLShadowMapModel",
      "state": {
       "_model_module_version": "~1.1.0",
       "_view_module": null,
       "_view_module_version": ""
      }
     },
     "12f118bb2e6f4cb7b6c166e39b8710f9": {
      "model_module": "jupyter-threejs",
      "model_module_version": "~1.1.0",
      "model_name": "InterleavedBufferAttributeModel",
      "state": {
       "_model_module_version": "~1.1.0",
       "_view_module": null,
       "_view_module_version": "",
       "data": "IPY_MODEL_9d901e7ffc514f7d94b4daca81c98cd6",
       "itemSize": 3,
       "offset": 3
      }
     },
     "12f2ee1bcc984bce932521826813345d": {
      "model_module": "@jupyter-widgets/base",
      "model_module_version": "1.1.0",
      "model_name": "LayoutModel",
      "state": {}
     },
     "1489c4bf78364bc9ab76c0ce82cc64df": {
      "buffers": [
       {
        "data": "AACAPwAAAAAAAAAAAACAPwAAAAAAAAAAAAAAAAAAgD8AAAAAAAAAAAAAAAAAAIA/",
        "encoding": "base64",
        "path": [
         "colors",
         "buffer"
        ]
       },
       {
        "data": "AAAAAAAAAAAAAAAAAACAPwAAgD8AAIA/AAAAQAAAAEAAAABAAACAQAAAgEAAAIBA",
        "encoding": "base64",
        "path": [
         "positions",
         "buffer"
        ]
       }
      ],
      "model_module": "jupyter-threejs",
      "model_module_version": "~1.1.0",
      "model_name": "LineSegmentsGeometryModel",
      "state": {
       "_model_module_version": "~1.1.0",
       "_view_module": null,
       "_view_module_version": "",
       "colors": {
        "dtype": "float32",
        "shape": [
         2,
         2,
         3
        ]
       },
       "positions": {
        "dtype": "float32",
        "shape": [
         2,
         2,
         3
        ]
       }
      }
     },
     "183cbe8c61f94916a55a4d76052b1e35": {
      "model_module": "jupyter-threejs",
      "model_module_version": "~1.1.0",
      "model_name": "WebGLShadowMapModel",
      "state": {
       "_model_module_version": "~1.1.0",
       "_view_module": null,
       "_view_module_version": ""
      }
     },
     "204a22a39f2f4d5d8a06c158a3baebef": {
      "model_module": "@jupyter-widgets/controls",
      "model_module_version": "1.3.0",
      "model_name": "DescriptionStyleModel",
      "state": {
       "description_width": ""
      }
     },
     "21adb95cdffd4d9b8bc11c9adf1715d9": {
      "model_module": "@jupyter-widgets/controls",
      "model_module_version": "1.3.0",
      "model_name": "HBoxModel",
      "state": {
       "children": [
        "IPY_MODEL_91dacad4b4d34e30a0a2ae9aba264d7d",
        "IPY_MODEL_cd1e28aa7c9d4f4f962cd467df8a5b07",
        "IPY_MODEL_fd23a5155bc74015bb706dd8ce31ce45"
       ],
       "layout": "IPY_MODEL_7bbba8c253544b66aab1ad0bf8aeb821"
      }
     },
     "39d04191cfc443b89fd019efa11de0a1": {
      "model_module": "jupyter-threejs",
      "model_module_version": "~1.1.0",
      "model_name": "LineMaterialModel",
      "state": {
       "_model_module_version": "~1.1.0",
       "_view_module": null,
       "_view_module_version": "",
       "color": "cyan",
       "linewidth": 10
      }
     },
     "3d4b7181279a4c29a7032e4f8fe9cd00": {
      "buffers": [
       {
        "data": "AAIBAgMBAgQDBAUDBAYFBgcF",
        "encoding": "base64",
        "path": [
         "array",
         "buffer"
        ]
       }
      ],
      "model_module": "jupyter-threejs",
      "model_module_version": "~1.1.0",
      "model_name": "BufferAttributeModel",
      "state": {
       "_model_module_version": "~1.1.0",
       "_view_module": null,
       "_view_module_version": "",
       "array": {
        "dtype": "uint8",
        "shape": [
         18
        ]
       },
       "normalized": true,
       "version": 2
      }
     },
     "4162614cb6fe4ad9bdb427c925a13c83": {
      "model_module": "@jupyter-widgets/base",
      "model_module_version": "1.1.0",
      "model_name": "LayoutModel",
      "state": {}
     },
     "4331708d632c40ac811bd963e8851391": {
      "model_module": "@jupyter-widgets/base",
      "model_module_version": "1.1.0",
      "model_name": "LayoutModel",
      "state": {}
     },
     "4c31a9701e714a65931767b0d50adb6c": {
      "model_module": "jupyter-threejs",
      "model_module_version": "~1.1.0",
      "model_name": "PreviewModel",
      "state": {
       "_alpha": false,
       "_model_module_version": "~1.1.0",
       "_view_module_version": "~1.1.0",
       "child": "IPY_MODEL_dcea25e85b964df0af07760bccece8fd",
       "layout": "IPY_MODEL_4331708d632c40ac811bd963e8851391",
       "shadowMap": "IPY_MODEL_837a2d071a784f0fab3effc7c7c86e4f"
      }
     },
     "558b00af-c95d-4c55-860f-a5f1d5f3fd0d": {
      "model_module": "jupyter-threejs",
      "model_module_version": "1.1.0",
      "model_name": "Object3DModel",
      "state": {}
     },
     "5711596e98e44d14ae7f29779bfa8a4a": {
      "model_module": "@jupyter-widgets/base",
      "model_module_version": "1.1.0",
      "model_name": "LayoutModel",
      "state": {}
     },
     "581f2dd8-f428-4834-8744-aae43ac690c1": {
      "model_module": "jupyter-threejs",
      "model_module_version": "1.1.0",
      "model_name": "DirectionalLightShadowModel",
      "state": {
       "camera": "IPY_MODEL_a38a1cec-36ab-425d-a90e-e9bbc02dea96"
      }
     },
     "5c78995d102d4532a6841ae8779ca63b": {
      "model_module": "@jupyter-widgets/base",
      "model_module_version": "1.1.0",
      "model_name": "LayoutModel",
      "state": {}
     },
     "5d10dfa83c384bd1a877ac5e4912259e": {
      "model_module": "jupyter-threejs",
      "model_module_version": "~1.1.0",
      "model_name": "WebGLShadowMapModel",
      "state": {
       "_model_module_version": "~1.1.0",
       "_view_module": null,
       "_view_module_version": ""
      }
     },
     "66f8f1bc3b1845988995e97aa31447ca": {
      "model_module": "@jupyter-widgets/controls",
      "model_module_version": "1.3.0",
      "model_name": "DescriptionStyleModel",
      "state": {
       "description_width": ""
      }
     },
     "688f57ae5b234dc1b5263f3c0411118e": {
      "model_module": "@jupyter-widgets/controls",
      "model_module_version": "1.3.0",
      "model_name": "VBoxModel",
      "state": {
       "children": [
        "IPY_MODEL_0b899e6c032c4540a02c9b1a0917a321",
        "IPY_MODEL_21adb95cdffd4d9b8bc11c9adf1715d9"
       ],
       "layout": "IPY_MODEL_c9b57b582d38409bbf2a6c4cbdacba4a"
      }
     },
     "6c2c1a984110413e9e21cbed6fa47c38": {
      "model_module": "@jupyter-widgets/base",
      "model_module_version": "1.1.0",
      "model_name": "LayoutModel",
      "state": {}
     },
     "6e3cac0397524a5b833a86f3e21dc47c": {
      "model_module": "jupyter-threejs",
      "model_module_version": "~1.1.0",
      "model_name": "InterleavedBufferAttributeModel",
      "state": {
       "_model_module_version": "~1.1.0",
       "_view_module": null,
       "_view_module_version": "",
       "data": "IPY_MODEL_d34a80b320e342a996ac4664b4261e43",
       "itemSize": 3
      }
     },
     "703c984f929c444a810a0812bd1c90ce": {
      "model_module": "jupyter-threejs",
      "model_module_version": "~1.1.0",
      "model_name": "PreviewModel",
      "state": {
       "_alpha": false,
       "_model_module_version": "~1.1.0",
       "_view_module_version": "~1.1.0",
       "child": "IPY_MODEL_8c703318bce9460194d0186fa7ebada1",
       "layout": "IPY_MODEL_5711596e98e44d14ae7f29779bfa8a4a",
       "shadowMap": "IPY_MODEL_0e9f6f70acd24d29bcae3f454329496c"
      }
     },
     "732330fea38f408085f1ce7cc2592a60": {
      "model_module": "jupyter-threejs",
      "model_module_version": "~1.1.0",
      "model_name": "DirectionalLightModel",
      "state": {
       "_model_module_version": "~1.1.0",
       "_view_module": null,
       "_view_module_version": "",
       "matrixWorldNeedsUpdate": true,
       "position": [
        0,
        10,
        10
       ],
       "shadow": "IPY_MODEL_581f2dd8-f428-4834-8744-aae43ac690c1",
       "target": "IPY_MODEL_558b00af-c95d-4c55-860f-a5f1d5f3fd0d"
      }
     },
     "7bbba8c253544b66aab1ad0bf8aeb821": {
      "model_module": "@jupyter-widgets/base",
      "model_module_version": "1.1.0",
      "model_name": "LayoutModel",
      "state": {}
     },
     "7cf27469678b4b639a248a5a802d8fa8": {
      "buffers": [
       {
        "data": "AACAPwAAAAAAAAAAAACAPwAAAAAAAAAAAAAAAAAAgD8AAAAAAAAAAAAAAAAAAIA/",
        "encoding": "base64",
        "path": [
         "array",
         "buffer"
        ]
       }
      ],
      "model_module": "jupyter-threejs",
      "model_module_version": "~1.1.0",
      "model_name": "BufferAttributeModel",
      "state": {
       "_model_module_version": "~1.1.0",
       "_view_module": null,
       "_view_module_version": "",
       "array": {
        "dtype": "float32",
        "shape": [
         4,
         3
        ]
       },
       "version": 2
      }
     },
     "80d77c0166ee468aaaeb010a85ab2e31": {
      "model_module": "jupyter-threejs",
      "model_module_version": "~1.1.0",
      "model_name": "BufferGeometryModel",
      "state": {
       "_model_module_version": "~1.1.0",
       "_view_module": null,
       "_view_module_version": "",
       "attributes": {
        "color": "IPY_MODEL_7cf27469678b4b639a248a5a802d8fa8",
        "position": "IPY_MODEL_a6bd8dc0b44e4a12bf13639bda4f9314"
       }
      }
     },
     "837a2d071a784f0fab3effc7c7c86e4f": {
      "model_module": "jupyter-threejs",
      "model_module_version": "~1.1.0",
      "model_name": "WebGLShadowMapModel",
      "state": {
       "_model_module_version": "~1.1.0",
       "_view_module": null,
       "_view_module_version": ""
      }
     },
     "8c703318bce9460194d0186fa7ebada1": {
      "model_module": "jupyter-threejs",
      "model_module_version": "~1.1.0",
      "model_name": "LineSegments2Model",
      "state": {
       "_model_module_version": "~1.1.0",
       "_view_module": null,
       "_view_module_version": "",
       "geometry": "IPY_MODEL_001bbf71462b47138c8a96733fa3f2ff",
       "material": "IPY_MODEL_39d04191cfc443b89fd019efa11de0a1",
       "morphTargetInfluences": []
      }
     },
     "91dacad4b4d34e30a0a2ae9aba264d7d": {
      "model_module": "@jupyter-widgets/controls",
      "model_module_version": "1.3.0",
      "model_name": "CheckboxModel",
      "state": {
       "description": "GL line",
       "disabled": false,
       "layout": "IPY_MODEL_c1333500c9644439b7e0e46b8a93d7fc",
       "style": "IPY_MODEL_dd306b0008dc4b97b0e826657658b2b0",
       "value": true
      }
     },
     "9d901e7ffc514f7d94b4daca81c98cd6": {
      "buffers": [
       {
        "data": "AACAPwAAAAAAAAAAAACAPwAAAAAAAAAAAAAAAAAAgD8AAAAAAAAAAAAAAAAAAIA/",
        "encoding": "base64",
        "path": [
         "array",
         "buffer"
        ]
       }
      ],
      "model_module": "jupyter-threejs",
      "model_module_version": "~1.1.0",
      "model_name": "InstancedInterleavedBufferModel",
      "state": {
       "_model_module_version": "~1.1.0",
       "_view_module": null,
       "_view_module_version": "",
       "array": {
        "dtype": "float32",
        "shape": [
         2,
         6
        ]
       },
       "version": 2
      }
     },
     "9e3abedbf12d4a9da463341df9224dc4": {
      "model_module": "jupyter-threejs",
      "model_module_version": "~1.1.0",
      "model_name": "InterleavedBufferAttributeModel",
      "state": {
       "_model_module_version": "~1.1.0",
       "_view_module": null,
       "_view_module_version": "",
       "data": "IPY_MODEL_d34a80b320e342a996ac4664b4261e43",
       "itemSize": 3,
       "offset": 3
      }
     },
     "a38a1cec-36ab-425d-a90e-e9bbc02dea96": {
      "model_module": "jupyter-threejs",
      "model_module_version": "1.1.0",
      "model_name": "OrthographicCameraModel",
      "state": {
       "bottom": -5,
       "far": 500,
       "left": -5,
       "near": 0.5,
       "projectionMatrix": [
        0.2,
        0,
        0,
        0,
        0,
        0.2,
        0,
        0,
        0,
        0,
        -0.004004004004004004,
        0,
        0,
        0,
        -1.002002002002002,
        1
       ],
       "right": 5,
       "top": 5
      }
     },
     "a6bd8dc0b44e4a12bf13639bda4f9314": {
      "buffers": [
       {
        "data": "AAAAAAAAAAAAAAAAAACAPwAAgD8AAIA/AAAAQAAAAEAAAABAAACAQAAAgEAAAIBA",
        "encoding": "base64",
        "path": [
         "array",
         "buffer"
        ]
       }
      ],
      "model_module": "jupyter-threejs",
      "model_module_version": "~1.1.0",
      "model_name": "BufferAttributeModel",
      "state": {
       "_model_module_version": "~1.1.0",
       "_view_module": null,
       "_view_module_version": "",
       "array": {
        "dtype": "float32",
        "shape": [
         4,
         3
        ]
       },
       "version": 2
      }
     },
     "ae498e15742f4c9bba2cf1dfb1ab006a": {
      "buffers": [
       {
        "data": "AACAvwAAAEAAAIA/AAAAQAAAgL8AAIA/AACAPwAAgD8AAIC/AACAvwAAgD8AAIC/AACAvwAAAMAAAIA/AAAAwA==",
        "encoding": "base64",
        "path": [
         "array",
         "buffer"
        ]
       }
      ],
      "model_module": "jupyter-threejs",
      "model_module_version": "~1.1.0",
      "model_name": "BufferAttributeModel",
      "state": {
       "_model_module_version": "~1.1.0",
       "_view_module": null,
       "_view_module_version": "",
       "array": {
        "dtype": "float32",
        "shape": [
         8,
         2
        ]
       },
       "normalized": true,
       "version": 2
      }
     },
     "b15c17ab7b70448db1e9760eb20d81bc": {
      "model_module": "jupyter-threejs",
      "model_module_version": "~1.1.0",
      "model_name": "InstancedBufferGeometryModel",
      "state": {
       "_model_module_version": "~1.1.0",
       "_view_module": null,
       "_view_module_version": "",
       "attributes": {
        "index": "IPY_MODEL_3d4b7181279a4c29a7032e4f8fe9cd00",
        "instanceColorEnd": "IPY_MODEL_12f118bb2e6f4cb7b6c166e39b8710f9",
        "instanceColorStart": "IPY_MODEL_c7d676507af84023b1be8f3a7547434c",
        "instanceEnd": "IPY_MODEL_9e3abedbf12d4a9da463341df9224dc4",
        "instanceStart": "IPY_MODEL_6e3cac0397524a5b833a86f3e21dc47c",
        "position": "IPY_MODEL_b1cc5f883950458493ce0be300308151",
        "uv": "IPY_MODEL_ae498e15742f4c9bba2cf1dfb1ab006a"
       }
      }
     },
     "b1cc5f883950458493ce0be300308151": {
      "buffers": [
       {
        "data": "AACAPwAAAEAAAAAAAACAPwAAAEAAAAAAAACAvwAAgD8AAAAAAACAPwAAgD8AAAAAAACAvwAAAAAAAAAAAACAPwAAAAAAAAAAAACAvwAAgL8AAAAAAACAPwAAgL8AAAAA",
        "encoding": "base64",
        "path": [
         "array",
         "buffer"
        ]
       }
      ],
      "model_module": "jupyter-threejs",
      "model_module_version": "~1.1.0",
      "model_name": "BufferAttributeModel",
      "state": {
       "_model_module_version": "~1.1.0",
       "_view_module": null,
       "_view_module_version": "",
       "array": {
        "dtype": "float32",
        "shape": [
         8,
         3
        ]
       },
       "normalized": true,
       "version": 2
      }
     },
     "b6934b1768ba476588acc943b1a0d2dd": {
      "model_module": "jupyter-threejs",
      "model_module_version": "~1.1.0",
      "model_name": "LineMaterialModel",
      "state": {
       "_model_module_version": "~1.1.0",
       "_view_module": null,
       "_view_module_version": "",
       "linewidth": 10,
       "vertexColors": "VertexColors"
      }
     },
     "c1333500c9644439b7e0e46b8a93d7fc": {
      "model_module": "@jupyter-widgets/base",
      "model_module_version": "1.1.0",
      "model_name": "LayoutModel",
      "state": {}
     },
     "c7d676507af84023b1be8f3a7547434c": {
      "model_module": "jupyter-threejs",
      "model_module_version": "~1.1.0",
      "model_name": "InterleavedBufferAttributeModel",
      "state": {
       "_model_module_version": "~1.1.0",
       "_view_module": null,
       "_view_module_version": "",
       "data": "IPY_MODEL_9d901e7ffc514f7d94b4daca81c98cd6",
       "itemSize": 3
      }
     },
     "c9b57b582d38409bbf2a6c4cbdacba4a": {
      "model_module": "@jupyter-widgets/base",
      "model_module_version": "1.1.0",
      "model_name": "LayoutModel",
      "state": {}
     },
     "cd1e28aa7c9d4f4f962cd467df8a5b07": {
      "model_module": "@jupyter-widgets/controls",
      "model_module_version": "1.3.0",
      "model_name": "CheckboxModel",
      "state": {
       "description": "Fat line (single color)",
       "disabled": false,
       "layout": "IPY_MODEL_d1d66f8b4b004ef78860d05405ecd20e",
       "style": "IPY_MODEL_204a22a39f2f4d5d8a06c158a3baebef",
       "value": true
      }
     },
     "d1d66f8b4b004ef78860d05405ecd20e": {
      "model_module": "@jupyter-widgets/base",
      "model_module_version": "1.1.0",
      "model_name": "LayoutModel",
      "state": {}
     },
     "d34a80b320e342a996ac4664b4261e43": {
      "buffers": [
       {
        "data": "AAAAAAAAAAAAAAAAAACAPwAAgD8AAIA/AAAAQAAAAEAAAABAAACAQAAAgEAAAIBA",
        "encoding": "base64",
        "path": [
         "array",
         "buffer"
        ]
       }
      ],
      "model_module": "jupyter-threejs",
      "model_module_version": "~1.1.0",
      "model_name": "InstancedInterleavedBufferModel",
      "state": {
       "_model_module_version": "~1.1.0",
       "_view_module": null,
       "_view_module_version": "",
       "array": {
        "dtype": "float32",
        "shape": [
         2,
         6
        ]
       },
       "version": 2
      }
     },
     "d651bbadf9f042d38fef8ccf97c12be2": {
      "model_module": "jupyter-threejs",
      "model_module_version": "~1.1.0",
      "model_name": "PerspectiveCameraModel",
      "state": {
       "_model_module_version": "~1.1.0",
       "_view_module": null,
       "_view_module_version": "",
       "aspect": 1.5,
       "position": [
        10,
        0,
        0
       ],
       "projectionMatrix": [
        1.4296712803397058,
        0,
        0,
        0,
        0,
        2.1445069205095586,
        0,
        0,
        0,
        0,
        -1.00010000500025,
        -1,
        0,
        0,
        -0.200010000500025,
        0
       ]
      }
     },
     "dcea25e85b964df0af07760bccece8fd": {
      "model_module": "jupyter-threejs",
      "model_module_version": "~1.1.0",
      "model_name": "LineSegments2Model",
      "state": {
       "_model_module_version": "~1.1.0",
       "_view_module": null,
       "_view_module_version": "",
       "geometry": "IPY_MODEL_1489c4bf78364bc9ab76c0ce82cc64df",
       "material": "IPY_MODEL_b6934b1768ba476588acc943b1a0d2dd",
       "morphTargetInfluences": []
      }
     },
     "dd306b0008dc4b97b0e826657658b2b0": {
      "model_module": "@jupyter-widgets/controls",
      "model_module_version": "1.3.0",
      "model_name": "DescriptionStyleModel",
      "state": {
       "description_width": ""
      }
     },
     "dfa4965558084761bbc74988558d7aa3": {
      "model_module": "jupyter-threejs",
      "model_module_version": "~1.1.0",
      "model_name": "PreviewModel",
      "state": {
       "_alpha": false,
       "_model_module_version": "~1.1.0",
       "_view_module_version": "~1.1.0",
       "child": "IPY_MODEL_f8f0d23890fe4904aea9ca0f4598b7b7",
       "layout": "IPY_MODEL_5c78995d102d4532a6841ae8779ca63b",
       "shadowMap": "IPY_MODEL_e32a692f82ea428e8d5b1387f7d1ba62"
      }
     },
     "e20722e05d1b410a8d118394d07b987e": {
      "model_module": "@jupyter-widgets/controls",
      "model_module_version": "1.3.0",
      "model_name": "LinkModel",
      "state": {
       "source": [
        "IPY_MODEL_cd1e28aa7c9d4f4f962cd467df8a5b07",
        "value"
       ],
       "target": [
        "IPY_MODEL_8c703318bce9460194d0186fa7ebada1",
        "visible"
       ]
      }
     },
     "e32a692f82ea428e8d5b1387f7d1ba62": {
      "model_module": "jupyter-threejs",
      "model_module_version": "~1.1.0",
      "model_name": "WebGLShadowMapModel",
      "state": {
       "_model_module_version": "~1.1.0",
       "_view_module": null,
       "_view_module_version": ""
      }
     },
     "e9d938378e454939be34ae348ad32690": {
      "model_module": "jupyter-threejs",
      "model_module_version": "~1.1.0",
      "model_name": "PreviewModel",
      "state": {
       "_alpha": false,
       "_model_module_version": "~1.1.0",
       "_view_module_version": "~1.1.0",
       "child": "IPY_MODEL_0ae924783b914d2590c1265e07fa074c",
       "layout": "IPY_MODEL_12f2ee1bcc984bce932521826813345d",
       "shadowMap": "IPY_MODEL_183cbe8c61f94916a55a4d76052b1e35"
      }
     },
     "eaa290abd75949288815dbb7505b692d": {
      "model_module": "jupyter-threejs",
      "model_module_version": "~1.1.0",
      "model_name": "ShaderMaterialModel",
      "state": {
       "_model_module_version": "~1.1.0",
       "_view_module": null,
       "_view_module_version": "",
       "fragmentShader": "\nuniform vec3 diffuse;\nuniform float opacity;\n\nvarying float vLineDistance;\n\n#include <common>\n#include <color_pars_fragment>\n#include <fog_pars_fragment>\n#include <logdepthbuf_pars_fragment>\n#include <clipping_planes_pars_fragment>\n\nvarying vec2 vUv;\n\nvoid main() {\n\n    #include <clipping_planes_fragment>\n\n\n    if ( abs( vUv.y ) > 1.0 ) {\n\n        float a = vUv.x;\n        float b = ( vUv.y > 0.0 ) ? vUv.y - 1.0 : vUv.y + 1.0;\n        float len2 = a * a + b * b;\n\n        if ( len2 > 1.0 ) discard;\n\n    }\n\n    vec4 diffuseColor = vec4( diffuse, opacity );\n\n    #include <logdepthbuf_fragment>\n    #include <color_fragment>\n\n    gl_FragColor = vec4( diffuseColor.rgb, diffuseColor.a );\n\n    #include <premultiplied_alpha_fragment>\n    #include <tonemapping_fragment>\n    #include <encodings_fragment>\n    #include <fog_fragment>\n\n}\n",
       "uniforms": {
        "alphaMap": {
         "value": null
        },
        "diffuse": {
         "type": "c",
         "value": "#eeeeee"
        },
        "linewidth": {
         "value": 10
        },
        "map": {
         "value": null
        },
        "opacity": {
         "value": 1
        },
        "resolution": {
         "type": "v2",
         "value": [
          100,
          100
         ]
        },
        "uvTransform": {
         "type": "m3",
         "value": [
          1,
          0,
          0,
          0,
          1,
          0,
          0,
          0,
          1
         ]
        }
       },
       "vertexColors": "VertexColors",
       "vertexShader": "\n#include <common>\n#include <color_pars_vertex>\n#include <fog_pars_vertex>\n#include <logdepthbuf_pars_vertex>\n#include <clipping_planes_pars_vertex>\n\nuniform float linewidth;\nuniform vec2 resolution;\n\nattribute vec3 instanceStart;\nattribute vec3 instanceEnd;\n\nattribute vec3 instanceColorStart;\nattribute vec3 instanceColorEnd;\n\nvarying vec2 vUv;\n\nvoid trimSegment( const in vec4 start, inout vec4 end ) {\n\n    // trim end segment so it terminates between the camera plane and the near plane\n\n    // conservative estimate of the near plane\n    float a = projectionMatrix[ 2 ][ 2 ]; // 3nd entry in 3th column\n    float b = projectionMatrix[ 3 ][ 2 ]; // 3nd entry in 4th column\n    float nearEstimate = - 0.5 * b / a;\n\n    float alpha = ( nearEstimate - start.z ) / ( end.z - start.z );\n\n    end.xyz = mix( start.xyz, end.xyz, alpha );\n\n}\n\nvoid main() {\n\n    #ifdef USE_COLOR\n\n        vColor.xyz = ( position.y < 0.5 ) ? instanceColorStart : instanceColorEnd;\n\n    #endif\n    \n    float aspect = resolution.x / resolution.y;\n\n    vUv = uv;\n    \n    // camera space\n    vec4 start = modelViewMatrix * vec4( instanceStart, 1.0 );\n    vec4 end = modelViewMatrix * vec4( instanceEnd, 1.0 );\n\n    // special case for perspective projection, and segments that terminate either in, or behind, the camera plane\n    // clearly the gpu firmware has a way of addressing this issue when projecting into ndc space\n    // but we need to perform ndc-space calculations in the shader, so we must address this issue directly\n    // perhaps there is a more elegant solution -- WestLangley\n\n    bool perspective = ( projectionMatrix[ 2 ][ 3 ] == - 1.0 ); // 4th entry in the 3rd column\n\n    if ( perspective ) {\n\n        if ( start.z < 0.0 && end.z >= 0.0 ) {\n\n            trimSegment( start, end );\n\n        } else if ( end.z < 0.0 && start.z >= 0.0 ) {\n\n            trimSegment( end, start );\n\n        }\n\n    }\n\n    // clip space\n    vec4 clipStart = projectionMatrix * start;\n    vec4 clipEnd = projectionMatrix * end;\n\n    // ndc space\n    vec2 ndcStart = clipStart.xy / clipStart.w;\n    vec2 ndcEnd = clipEnd.xy / clipEnd.w;\n\n    // direction\n    vec2 dir = ndcEnd - ndcStart;\n\n    // account for clip-space aspect ratio\n    dir.x *= aspect;\n    dir = normalize( dir );\n\n    // perpendicular to dir\n    vec2 offset = vec2( dir.y, - dir.x );\n\n    // undo aspect ratio adjustment\n    dir.x /= aspect;\n    offset.x /= aspect;\n\n    // sign flip\n    if ( position.x < 0.0 ) offset *= - 1.0;\n\n    // endcaps\n    if ( position.y < 0.0 ) {\n\n        offset += - dir;\n\n    } else if ( position.y > 1.0 ) {\n\n        offset += dir;\n\n    }\n\n    // adjust for linewidth\n    offset *= linewidth;\n    \n    // adjust for clip-space to screen-space conversion // maybe resolution should be based on viewport ...\n    offset /= resolution.y;\n\n    // select end\n    vec4 clip = ( position.y < 0.5 ) ? clipStart : clipEnd;\n\n    // back to clip space\n    offset *= clip.w;\n\n    clip.xy += offset;\n\n    gl_Position = clip;\n    \n    vec4 mvPosition = ( position.y < 0.5 ) ? start : end; // this is an approximation\n\n    #include <logdepthbuf_vertex>\n    #include <clipping_planes_vertex>\n    #include <fog_vertex>\n}\n"
      }
     },
     "ee38d624b3d14c2bab0f0f029e74faf4": {
      "model_module": "jupyter-threejs",
      "model_module_version": "~1.1.0",
      "model_name": "SceneModel",
      "state": {
       "_model_module_version": "~1.1.0",
       "_view_module": null,
       "_view_module_version": "",
       "children": [
        "IPY_MODEL_0ae924783b914d2590c1265e07fa074c",
        "IPY_MODEL_8c703318bce9460194d0186fa7ebada1",
        "IPY_MODEL_dcea25e85b964df0af07760bccece8fd",
        "IPY_MODEL_d651bbadf9f042d38fef8ccf97c12be2",
        "IPY_MODEL_732330fea38f408085f1ce7cc2592a60",
        "IPY_MODEL_0411162eb5f24cd9ad19e7509559271b"
       ]
      }
     },
     "f4038da5ed6943329e3ef44e3cf5e02f": {
      "model_module": "@jupyter-widgets/controls",
      "model_module_version": "1.3.0",
      "model_name": "LinkModel",
      "state": {
       "source": [
        "IPY_MODEL_fd23a5155bc74015bb706dd8ce31ce45",
        "value"
       ],
       "target": [
        "IPY_MODEL_dcea25e85b964df0af07760bccece8fd",
        "visible"
       ]
      }
     },
     "f8f0d23890fe4904aea9ca0f4598b7b7": {
      "model_module": "jupyter-threejs",
      "model_module_version": "~1.1.0",
      "model_name": "MeshModel",
      "state": {
       "_model_module_version": "~1.1.0",
       "_view_module": null,
       "_view_module_version": "",
       "geometry": "IPY_MODEL_b15c17ab7b70448db1e9760eb20d81bc",
       "material": "IPY_MODEL_eaa290abd75949288815dbb7505b692d",
       "morphTargetInfluences": []
      }
     },
     "f948f26cb6e14fde865664049ea97af8": {
      "model_module": "jupyter-threejs",
      "model_module_version": "~1.1.0",
      "model_name": "OrbitControlsModel",
      "state": {
       "_model_module_version": "~1.1.0",
       "_view_module": null,
       "_view_module_version": "",
       "controlling": "IPY_MODEL_d651bbadf9f042d38fef8ccf97c12be2",
       "maxAzimuthAngle": "inf",
       "maxDistance": "inf",
       "maxZoom": "inf",
       "minAzimuthAngle": "-inf"
      }
     },
     "fbf2997a3c15445b83bbb41b40c56176": {
      "model_module": "jupyter-threejs",
      "model_module_version": "~1.1.0",
      "model_name": "LineBasicMaterialModel",
      "state": {
       "_model_module_version": "~1.1.0",
       "_view_module": null,
       "_view_module_version": "",
       "linewidth": 10,
       "vertexColors": "VertexColors"
      }
     },
     "fd23a5155bc74015bb706dd8ce31ce45": {
      "model_module": "@jupyter-widgets/controls",
      "model_module_version": "1.3.0",
      "model_name": "CheckboxModel",
      "state": {
       "description": "Fat line (vertex colors)",
       "disabled": false,
       "layout": "IPY_MODEL_4162614cb6fe4ad9bdb427c925a13c83",
       "style": "IPY_MODEL_66f8f1bc3b1845988995e97aa31447ca",
       "value": true
      }
     },
     "febdf9b3c7104d759fd73ac336e89df2": {
      "model_module": "@jupyter-widgets/controls",
      "model_module_version": "1.3.0",
      "model_name": "LinkModel",
      "state": {
       "source": [
        "IPY_MODEL_91dacad4b4d34e30a0a2ae9aba264d7d",
        "value"
       ],
       "target": [
        "IPY_MODEL_0ae924783b914d2590c1265e07fa074c",
        "visible"
       ]
      }
     }
    },
    "version_major": 2,
    "version_minor": 0
   }
  }
 },
 "nbformat": 4,
 "nbformat_minor": 2
}
