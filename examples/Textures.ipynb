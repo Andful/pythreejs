{
 "cells": [
  {
   "cell_type": "code",
   "execution_count": null,
   "metadata": {},
   "outputs": [],
   "source": [
    "from pythreejs import *\n",
    "from IPython.display import display\n",
    "from math import pi"
   ]
  },
  {
   "cell_type": "code",
   "execution_count": null,
   "metadata": {},
   "outputs": [],
   "source": [
    "checker_tex = ImageTexture(imageUri='img/checkerboard.png')\n",
    "earth_tex = ImageTexture(imageUri='img/earth.jpg')"
   ]
  },
  {
   "cell_type": "code",
   "execution_count": null,
   "metadata": {},
   "outputs": [],
   "source": [
    "checker_tex"
   ]
  },
  {
   "cell_type": "code",
   "execution_count": null,
   "metadata": {},
   "outputs": [],
   "source": [
    "earth_tex"
   ]
  },
  {
   "cell_type": "code",
   "execution_count": null,
   "metadata": {},
   "outputs": [],
   "source": [
    "#\n",
    "# Create checkerboard pattern\n",
    "#\n",
    "\n",
    "# tex dims need to be power of two.\n",
    "arr_w = 256\n",
    "arr_h = 256\n",
    "\n",
    "import numpy as np\n",
    "\n",
    "def gen_checkers(width, height, n_checkers_x, n_checkers_y):\n",
    "    array = np.ones((width, height, 3), dtype='float32')\n",
    "    \n",
    "    # width in texels of each checker\n",
    "    checker_w = width / n_checkers_x\n",
    "    checker_h = height / n_checkers_y\n",
    "    \n",
    "\n",
    "    for y in range(arr_h):\n",
    "        for x in range(arr_w):\n",
    "            color_key = int(x / checker_w) + int(y / checker_h)\n",
    "            if color_key % 2 == 0:\n",
    "                array[x, y, :] = [ 0, 0, 0 ]\n",
    "            else:\n",
    "                array[x, y, :] = [ 1, 1, 1 ]\n",
    "    return array\n",
    "                \n",
    "\n",
    "data_tex = DataTexture(\n",
    "    data=gen_checkers(arr_w, arr_h, 4, 4),\n",
    "    format=\"RGBFormat\",\n",
    "    type=\"FloatType\"\n",
    ")"
   ]
  },
  {
   "cell_type": "code",
   "execution_count": null,
   "metadata": {},
   "outputs": [],
   "source": [
    "data_tex"
   ]
  },
  {
   "cell_type": "code",
   "execution_count": null,
   "metadata": {},
   "outputs": [],
   "source": [
    "data_tex.data = gen_checkers(arr_w, arr_h, 12, 20)"
   ]
  }
 ],
 "metadata": {
  "anaconda-cloud": {},
  "kernelspec": {
   "display_name": "Python 3",
   "language": "python",
   "name": "python3"
  },
  "language_info": {
   "codemirror_mode": {
    "name": "ipython",
    "version": 3
   },
   "file_extension": ".py",
   "mimetype": "text/x-python",
   "name": "python",
   "nbconvert_exporter": "python",
   "pygments_lexer": "ipython3",
   "version": "3.5.3"
  }
 },
 "nbformat": 4,
 "nbformat_minor": 1
}
