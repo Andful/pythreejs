{
 "cells": [
  {
   "cell_type": "markdown",
   "metadata": {},
   "source": [
    "This notebook gives a simple example of how to use the ShaderMaterial to write custom shaders from the Python side. For further information about the shaders, consult the three.js docs."
   ]
  },
  {
   "cell_type": "code",
   "execution_count": null,
   "metadata": {},
   "outputs": [],
   "source": [
    "from pythreejs import *\n",
    "import ipywidgets\n",
    "from IPython.display import display"
   ]
  },
  {
   "cell_type": "code",
   "execution_count": null,
   "metadata": {},
   "outputs": [],
   "source": [
    "ShaderMaterial?"
   ]
  },
  {
   "cell_type": "code",
   "execution_count": null,
   "metadata": {},
   "outputs": [],
   "source": [
    "vertex_shader = \"\"\"\n",
    "uniform float time;\n",
    "uniform vec2 resolution;\n",
    "\n",
    "void main() {\n",
    "    vec3 pos = vec3(position.x + time * resolution.x, position.y + time * resolution.y, position.z);\n",
    "    gl_Position = projectionMatrix * modelViewMatrix * vec4( pos, 1.0 );\n",
    "}\n",
    "\"\"\""
   ]
  },
  {
   "cell_type": "code",
   "execution_count": null,
   "metadata": {},
   "outputs": [],
   "source": [
    "fragment_shader = \"\"\"\n",
    "void main() {\n",
    "    #ifdef OVERRIDE_COLOR\n",
    "    gl_FragColor = vec4(0, 0.5, 0, 1.0);\n",
    "    #else\n",
    "    gl_FragColor = vec4(0.5, 0, 0, 1.0);\n",
    "    #endif\n",
    "}\n",
    "\"\"\""
   ]
  },
  {
   "cell_type": "code",
   "execution_count": null,
   "metadata": {},
   "outputs": [],
   "source": [
    "material = ShaderMaterial(\n",
    "    uniforms=dict(\n",
    "        time=dict(value=0.0),\n",
    "        resolution=dict(value=(1, 1)),\n",
    "        **UniformsLib['lights']\n",
    "    ),\n",
    "    defines=dict(\n",
    "        OVERRIDE_COLOR=1,\n",
    "    ),\n",
    "    vertexShader=vertex_shader,\n",
    "    fragmentShader=fragment_shader,\n",
    "    lights=True,\n",
    ")"
   ]
  },
  {
   "cell_type": "code",
   "execution_count": null,
   "metadata": {},
   "outputs": [],
   "source": [
    "material"
   ]
  },
  {
   "cell_type": "code",
   "execution_count": null,
   "metadata": {},
   "outputs": [],
   "source": [
    "material.defines = dict()\n",
    "material.needsUpdate = True"
   ]
  },
  {
   "cell_type": "code",
   "execution_count": null,
   "metadata": {},
   "outputs": [],
   "source": [
    "def update_time(time):\n",
    "    uniforms = dict(**material.uniforms)\n",
    "    uniforms.update(time=dict(value=time))\n",
    "    material.uniforms = uniforms\n",
    "    material.needsUpdate = True"
   ]
  },
  {
   "cell_type": "code",
   "execution_count": null,
   "metadata": {},
   "outputs": [],
   "source": [
    "update_time(-15)"
   ]
  },
  {
   "cell_type": "code",
   "execution_count": null,
   "metadata": {},
   "outputs": [],
   "source": []
  }
 ],
 "metadata": {
  "kernelspec": {
   "display_name": "Python 3",
   "language": "python",
   "name": "python3"
  },
  "language_info": {
   "codemirror_mode": {
    "name": "ipython",
    "version": 3
   },
   "file_extension": ".py",
   "mimetype": "text/x-python",
   "name": "python",
   "nbconvert_exporter": "python",
   "pygments_lexer": "ipython3",
   "version": "3.5.4"
  }
 },
 "nbformat": 4,
 "nbformat_minor": 2
}
