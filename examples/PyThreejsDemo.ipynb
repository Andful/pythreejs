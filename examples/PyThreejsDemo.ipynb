{
 "metadata": {
  "name": "",
  "signature": "sha256:aa52e62506ae605ef79133ea993c9e4b754a8b2d7c74244d42a36e054328f7f8"
 },
 "nbformat": 3,
 "nbformat_minor": 0,
 "worksheets": [
  {
   "cells": [
    {
     "cell_type": "code",
     "collapsed": false,
     "input": [
      "%%javascript\n",
      "$.getScript('https://rawgit.com/jasongrout/pythreejs/master/pythreejs.js')\n",
      "$.getScript('https://rawgit.com/jasongrout/ipywidgets/master/widgets.js')"
     ],
     "language": "python",
     "metadata": {},
     "outputs": []
    },
    {
     "cell_type": "code",
     "collapsed": false,
     "input": [
      "import urllib\n",
      "urllib.urlretrieve('https://raw.githubusercontent.com/jasongrout/pythreejs/master/pythreejs.py', './pythreejs.py')\n",
      "urllib.urlretrieve('https://raw.githubusercontent.com/jasongrout/ipywidgets/master/widgets.py', './ipywidgets.py')\n",
      "from pythreejs import *\n",
      "from ipywidgets import *\n",
      "import numpy as np\n",
      "from IPython.display import display\n",
      "from IPython.html.widgets import *"
     ],
     "language": "python",
     "metadata": {},
     "outputs": []
    },
    {
     "cell_type": "code",
     "collapsed": false,
     "input": [
      "geometry = SphereGeometry(radius=4)\n",
      "material = LambertMaterial(color='white')\n",
      "t = ImageTexture(imageuri=\"\")\n",
      "material = LambertMaterial(color='white', map=t)\n",
      "\n",
      "sphere = Mesh(geometry=geometry, material=material)\n",
      "\n",
      "point = Mesh(geometry=SphereGeometry(radius=.1), \n",
      "                material=LambertMaterial(color='red'))\n",
      "\n",
      "\n",
      "c = PerspectiveCamera(position=[0,10,10], fov=40, children=[DirectionalLight(color='white', \n",
      "                                                                             position=[3,5,1], \n",
      "                                                                             intensity=0.5)])\n",
      "\n",
      "scene = Scene(children=[sphere, point, AmbientLight(color=0x777777)])\n",
      "p=Picker(event='mousemove', root=sphere)\n",
      "renderer = Renderer(camera=c, scene = scene, controls=[OrbitControls(controlling=c), p])\n",
      "coords = TextWidget()\n",
      "display(coords)\n",
      "display(renderer)\n",
      "\n",
      "display(Link(widgets=[(p,'point'), (point, 'position'), (coords, 'value')]))\n",
      "\n",
      "camera=WebCamera()\n",
      "display(camera)\n",
      "display(Link(widgets=[[camera, 'imageurl'], [t, 'imageuri']]))\n"
     ],
     "language": "python",
     "metadata": {},
     "outputs": []
    },
    {
     "cell_type": "code",
     "collapsed": false,
     "input": [],
     "language": "python",
     "metadata": {},
     "outputs": []
    },
    {
     "cell_type": "code",
     "collapsed": false,
     "input": [
      "# This is not working right now.  It should provide a 3d surface\n",
      "nx,ny=(20,20)\n",
      "xmax=1\n",
      "x = np.linspace(-xmax,xmax,nx)\n",
      "y = np.linspace(-xmax,xmax,ny)\n",
      "xx, yy = np.meshgrid(x,y)\n",
      "z = xx**2-yy**2\n",
      "surface = SurfaceGeometry(z=list(z[::-1].flat), \n",
      "                          width=2*xmax,\n",
      "                          height=2*xmax,\n",
      "                          width_segments=nx-1,\n",
      "                          height_segments=ny-1)\n",
      "plane = Mesh(geometry=surface, material=LambertMaterial(color='white'))\n",
      "scene = Scene(children=[plane])\n",
      "c = PerspectiveCamera(position=[0,10,10])\n",
      "renderer = Renderer(camera=c, scene = scene, controls=[OrbitControls(controlling=c)])\n",
      "display(renderer)"
     ],
     "language": "python",
     "metadata": {},
     "outputs": []
    },
    {
     "cell_type": "code",
     "collapsed": false,
     "input": [],
     "language": "python",
     "metadata": {},
     "outputs": []
    }
   ],
   "metadata": {}
  }
 ]
}