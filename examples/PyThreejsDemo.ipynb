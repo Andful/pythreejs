{
 "cells": [
  {
   "cell_type": "code",
   "execution_count": 1,
   "metadata": {
    "collapsed": false
   },
   "outputs": [
    {
     "data": {
      "application/javascript": [
       "$.getScript('https://rawgit.com/jasongrout/ipywidgets/master/widgets.js')"
      ],
      "text/plain": [
       "<IPython.core.display.Javascript object>"
      ]
     },
     "metadata": {},
     "output_type": "display_data"
    }
   ],
   "source": [
    "%%javascript\n",
    "$.getScript('https://rawgit.com/jasongrout/ipywidgets/master/widgets.js')"
   ]
  },
  {
   "cell_type": "code",
   "execution_count": 2,
   "metadata": {
    "collapsed": false
   },
   "outputs": [],
   "source": [
    "import urllib\n",
    "urllib.urlretrieve('https://raw.githubusercontent.com/jasongrout/ipywidgets/master/widgets.py', './ipywidgets.py')\n",
    "from pythreejs import *\n",
    "from ipywidgets import *\n",
    "import numpy as np\n",
    "from IPython.display import display\n",
    "from IPython.html.widgets import *"
   ]
  },
  {
   "cell_type": "code",
   "execution_count": 3,
   "metadata": {
    "collapsed": false
   },
   "outputs": [
    {
     "name": "stderr",
     "output_type": "stream",
     "text": [
      "WARNING: \"TextWidget\" is deprecated, please use \"Text\" instead.\n",
      "/Users/grout/projects/ipython-upstream/IPython/utils/traitlets.py:423: FutureWarning: comparison to `None` will result in an elementwise object comparison in the future.\n",
      "  silent = bool(old_value == new_value)\n"
     ]
    }
   ],
   "source": [
    "geometry = SphereGeometry(radius=4)\n",
    "material = LambertMaterial(color='white')\n",
    "t = ImageTexture(imageuri=\"\")\n",
    "material = LambertMaterial(color='white', map=t)\n",
    "\n",
    "sphere = Mesh(geometry=geometry, material=material)\n",
    "\n",
    "point = Mesh(geometry=SphereGeometry(radius=.1), \n",
    "                material=LambertMaterial(color='red'))\n",
    "\n",
    "\n",
    "c = PerspectiveCamera(position=[0,10,10], fov=40, children=[DirectionalLight(color='white', \n",
    "                                                                             position=[3,5,1], \n",
    "                                                                             intensity=0.5)])\n",
    "\n",
    "scene = Scene(children=[sphere, point, AmbientLight(color=0x777777)])\n",
    "p=Picker(event='mousemove', root=sphere)\n",
    "renderer = Renderer(camera=c, scene = scene, controls=[OrbitControls(controlling=c), p])\n",
    "coords = TextWidget()\n",
    "display(coords)\n",
    "display(renderer)\n",
    "\n",
    "display(Link(widgets=[(p,'point'), (point, 'position'), (coords, 'value')]))\n",
    "\n",
    "camera=WebCamera()\n",
    "display(camera)\n",
    "display(Link(widgets=[[camera, 'imageurl'], [t, 'imageuri']]))\n"
   ]
  },
  {
   "cell_type": "code",
   "execution_count": null,
   "metadata": {
    "collapsed": false
   },
   "outputs": [],
   "source": []
  },
  {
   "cell_type": "code",
   "execution_count": null,
   "metadata": {
    "collapsed": false
   },
   "outputs": [],
   "source": [
    "# This is not working right now.  It should provide a 3d surface\n",
    "nx,ny=(20,20)\n",
    "xmax=1\n",
    "x = np.linspace(-xmax,xmax,nx)\n",
    "y = np.linspace(-xmax,xmax,ny)\n",
    "xx, yy = np.meshgrid(x,y)\n",
    "z = xx**2-yy**2\n",
    "surface = SurfaceGeometry(z=list(z[::-1].flat), \n",
    "                          width=2*xmax,\n",
    "                          height=2*xmax,\n",
    "                          width_segments=nx-1,\n",
    "                          height_segments=ny-1)\n",
    "plane = Mesh(geometry=surface, material=LambertMaterial(color='white'))\n",
    "scene = Scene(children=[plane])\n",
    "c = PerspectiveCamera(position=[0,10,10])\n",
    "renderer = Renderer(camera=c, scene = scene, controls=[OrbitControls(controlling=c)])\n",
    "display(renderer)"
   ]
  },
  {
   "cell_type": "code",
   "execution_count": null,
   "metadata": {
    "collapsed": false
   },
   "outputs": [],
   "source": []
  }
 ],
 "metadata": {
  "kernelspec": {
   "display_name": "IPython (Python 2)",
   "name": "python2"
  },
  "language_info": {
   "codemirror_mode": {
    "name": "ipython",
    "version": 2
   },
   "mimetype": "text/x-python",
   "name": "python",
   "pygments_lexer": "ipython2"
  },
  "signature": "sha256:7be7cac996467fad412ffb211a8c20b8b96de59fb29220a37bc9ff0de47c2e81"
 },
 "nbformat": 4,
 "nbformat_minor": 0
}