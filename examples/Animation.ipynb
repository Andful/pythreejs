{
 "cells": [
  {
   "cell_type": "markdown",
   "metadata": {},
   "source": [
    "# Animation"
   ]
  },
  {
   "cell_type": "code",
   "execution_count": 1,
   "metadata": {},
   "outputs": [],
   "source": [
    "from pythreejs import *\n",
    "import ipywidgets\n",
    "from IPython.display import display"
   ]
  },
  {
   "cell_type": "code",
   "execution_count": 2,
   "metadata": {},
   "outputs": [],
   "source": [
    "view_width = 600\n",
    "view_height = 400"
   ]
  },
  {
   "cell_type": "markdown",
   "metadata": {},
   "source": [
    "Let's first set up a basic scene with a cube and a sphere,"
   ]
  },
  {
   "cell_type": "code",
   "execution_count": 3,
   "metadata": {},
   "outputs": [],
   "source": [
    "sphere = Mesh(\n",
    "    SphereBufferGeometry(1, 32, 16),\n",
    "    MeshStandardMaterial(color='red')\n",
    ")"
   ]
  },
  {
   "cell_type": "code",
   "execution_count": 4,
   "metadata": {},
   "outputs": [],
   "source": [
    "cube = Mesh(\n",
    "    BoxBufferGeometry(1, 1, 1),\n",
    "    MeshPhysicalMaterial(color='green'),\n",
    "    position=[2, 0, 4]\n",
    ")"
   ]
  },
  {
   "cell_type": "markdown",
   "metadata": {},
   "source": [
    "as well as lighting and camera:"
   ]
  },
  {
   "cell_type": "code",
   "execution_count": 5,
   "metadata": {},
   "outputs": [],
   "source": [
    "camera = PerspectiveCamera( position=[10, 6, 10], aspect=view_width/view_height)\n",
    "key_light = DirectionalLight(position=[0, 10, 10])\n",
    "ambient_light = AmbientLight()"
   ]
  },
  {
   "cell_type": "markdown",
   "metadata": {},
   "source": [
    "## Keyframe animation\n",
    "\n",
    "The three.js animation system is built as a [keyframe](https://en.wikipedia.org/wiki/Key_frame) system. We'll demonstrate this by animating the position and rotation of our camera."
   ]
  },
  {
   "cell_type": "markdown",
   "metadata": {},
   "source": [
    "First, we set up the keyframes for the position and the rotation separately:"
   ]
  },
  {
   "cell_type": "code",
   "execution_count": 6,
   "metadata": {},
   "outputs": [],
   "source": [
    "positon_track = VectorKeyframeTrack(name='.position',\n",
    "    times=[0, 2, 5],\n",
    "    values=[10, 6, 10,\n",
    "            6.3, 3.78, 6.3,\n",
    "            -2.98, 0.84, 9.2,\n",
    "           ])\n",
    "rotation_track = QuaternionKeyframeTrack(name='.quaternion',\n",
    "    times=[0, 2, 5],\n",
    "    values=[-0.184, 0.375, 0.0762, 0.905,\n",
    "            -0.184, 0.375, 0.0762, 0.905,\n",
    "            -0.0430, -0.156, -0.00681, 0.987,\n",
    "           ])"
   ]
  },
  {
   "cell_type": "markdown",
   "metadata": {},
   "source": [
    "Next, we create an animation clip combining the two tracks, and finally an animation action to control the animation. See the three.js docs for more details on the different responsibilities of the different classes."
   ]
  },
  {
   "cell_type": "code",
   "execution_count": 7,
   "metadata": {},
   "outputs": [],
   "source": [
    "camera_clip = AnimationClip(tracks=[positon_track, rotation_track])\n",
    "camera_action = AnimationAction(AnimationMixer(camera), camera_clip, camera)"
   ]
  },
  {
   "cell_type": "markdown",
   "metadata": {},
   "source": [
    "Now, let's see it in action:"
   ]
  },
  {
   "cell_type": "code",
   "execution_count": 8,
   "metadata": {},
   "outputs": [],
   "source": [
    "scene = Scene(children=[sphere, cube, camera, key_light, ambient_light])\n",
    "controller = OrbitControls(controlling=camera)\n",
    "renderer = Renderer(camera=camera, scene=scene, controls=[controller],\n",
    "                    width=view_width, height=view_height)"
   ]
  },
  {
   "cell_type": "code",
   "execution_count": 9,
   "metadata": {
    "tags": [
     "nbval-ignore-output"
    ]
   },
   "outputs": [
    {
     "data": {
      "application/vnd.jupyter.widget-view+json": {
       "model_id": "e7bb1ceb498a400e8b59b11725e073be",
       "version_major": 2,
       "version_minor": 0
      },
      "text/html": [
       "<p>Failed to display Jupyter Widget of type <code>Renderer</code>.</p>\n",
       "<p>\n",
       "  If you're reading this message in the Jupyter Notebook or JupyterLab Notebook, it may mean\n",
       "  that the widgets JavaScript is still loading. If this message persists, it\n",
       "  likely means that the widgets JavaScript library is either not installed or\n",
       "  not enabled. See the <a href=\"https://ipywidgets.readthedocs.io/en/stable/user_install.html\">Jupyter\n",
       "  Widgets Documentation</a> for setup instructions.\n",
       "</p>\n",
       "<p>\n",
       "  If you're reading this message in another frontend (for example, a static\n",
       "  rendering on GitHub or <a href=\"https://nbviewer.jupyter.org/\">NBViewer</a>),\n",
       "  it may mean that your frontend doesn't currently support widgets.\n",
       "</p>\n"
      ],
      "text/plain": [
       "Renderer(camera=PerspectiveCamera(aspect=1.5, position=(10.0, 6.0, 10.0), projectionMatrix=(1.4296712803397058, 0.0, 0.0, 0.0, 0.0, 2.1445069205095586, 0.0, 0.0, 0.0, 0.0, -1.00010000500025, -1.0, 0.0, 0.0, -0.200010000500025, 0.0), quaternion=(0.0, 0.0, 0.0, 1.0), scale=(1.0, 1.0, 1.0), up=(0.0, 1.0, 0.0)), controls=[OrbitControls(controlling=PerspectiveCamera(aspect=1.5, position=(10.0, 6.0, 10.0), projectionMatrix=(1.4296712803397058, 0.0, 0.0, 0.0, 0.0, 2.1445069205095586, 0.0, 0.0, 0.0, 0.0, -1.00010000500025, -1.0, 0.0, 0.0, -0.200010000500025, 0.0), quaternion=(0.0, 0.0, 0.0, 1.0), scale=(1.0, 1.0, 1.0), up=(0.0, 1.0, 0.0)))], scene=Scene(children=(Mesh(geometry=SphereBufferGeometry(heightSegments=16, widthSegments=32), material=MeshStandardMaterial(alphaMap=None, aoMap=None, bumpMap=None, color='red', defines={'STANDARD': ''}, displacementMap=None, emissiveMap=None, envMap=None, lightMap=None, map=None, metalnessMap=None, normalMap=None, normalScale=(1.0, 1.0), roughnessMap=None), quaternion=(0.0, 0.0, 0.0, 1.0), scale=(1.0, 1.0, 1.0), up=(0.0, 1.0, 0.0)), Mesh(geometry=BoxBufferGeometry(), material=MeshPhysicalMaterial(alphaMap=None, aoMap=None, bumpMap=None, color='green', defines={'PHYSICAL': ''}, displacementMap=None, emissiveMap=None, envMap=None, lightMap=None, map=None, metalnessMap=None, normalMap=None, normalScale=(1.0, 1.0), roughnessMap=None), position=(2.0, 0.0, 4.0), quaternion=(0.0, 0.0, 0.0, 1.0), scale=(1.0, 1.0, 1.0), up=(0.0, 1.0, 0.0)), PerspectiveCamera(aspect=1.5, position=(10.0, 6.0, 10.0), projectionMatrix=(1.4296712803397058, 0.0, 0.0, 0.0, 0.0, 2.1445069205095586, 0.0, 0.0, 0.0, 0.0, -1.00010000500025, -1.0, 0.0, 0.0, -0.200010000500025, 0.0), quaternion=(0.0, 0.0, 0.0, 1.0), scale=(1.0, 1.0, 1.0), up=(0.0, 1.0, 0.0)), DirectionalLight(matrixWorldNeedsUpdate=True, position=(0.0, 10.0, 10.0), quaternion=(0.0, 0.0, 0.0, 1.0), scale=(1.0, 1.0, 1.0), shadow=DirectionalLightShadow(camera=OrthographicCamera(bottom=-5.0, far=500.0, left=-5.0, near=0.5, projectionMatrix=(0.2, 0.0, 0.0, 0.0, 0.0, 0.2, 0.0, 0.0, 0.0, 0.0, -0.004004004004004004, 0.0, 0.0, 0.0, -1.002002002002002, 1.0), quaternion=(0.0, 0.0, 0.0, 1.0), right=5.0, scale=(1.0, 1.0, 1.0), top=5.0, up=(0.0, 1.0, 0.0)), mapSize=(512.0, 512.0)), target=Object3D(quaternion=(0.0, 0.0, 0.0, 1.0), scale=(1.0, 1.0, 1.0), up=(0.0, 1.0, 0.0)), up=(0.0, 1.0, 0.0)), AmbientLight(quaternion=(0.0, 0.0, 0.0, 1.0), scale=(1.0, 1.0, 1.0), up=(0.0, 1.0, 0.0))), fog=None, overrideMaterial=None, quaternion=(0.0, 0.0, 0.0, 1.0), scale=(1.0, 1.0, 1.0), up=(0.0, 1.0, 0.0)), shadowMap=WebGLShadowMap())"
      ]
     },
     "metadata": {},
     "output_type": "display_data"
    }
   ],
   "source": [
    "renderer"
   ]
  },
  {
   "cell_type": "code",
   "execution_count": 10,
   "metadata": {
    "tags": [
     "nbval-ignore-output"
    ]
   },
   "outputs": [
    {
     "data": {
      "application/vnd.jupyter.widget-view+json": {
       "model_id": "c5a814d39f1c43b5913e5d2a7a83179b",
       "version_major": 2,
       "version_minor": 0
      },
      "text/html": [
       "<p>Failed to display Jupyter Widget of type <code>AnimationAction</code>.</p>\n",
       "<p>\n",
       "  If you're reading this message in the Jupyter Notebook or JupyterLab Notebook, it may mean\n",
       "  that the widgets JavaScript is still loading. If this message persists, it\n",
       "  likely means that the widgets JavaScript library is either not installed or\n",
       "  not enabled. See the <a href=\"https://ipywidgets.readthedocs.io/en/stable/user_install.html\">Jupyter\n",
       "  Widgets Documentation</a> for setup instructions.\n",
       "</p>\n",
       "<p>\n",
       "  If you're reading this message in another frontend (for example, a static\n",
       "  rendering on GitHub or <a href=\"https://nbviewer.jupyter.org/\">NBViewer</a>),\n",
       "  it may mean that your frontend doesn't currently support widgets.\n",
       "</p>\n"
      ],
      "text/plain": [
       "AnimationAction(clip=AnimationClip(duration=5.0, tracks=(VectorKeyframeTrack(name='.position', times=array([0, 2, 5]), values=array([10.  ,  6.  , 10.  ,  6.3 ,  3.78,  6.3 , -2.98,  0.84,  9.2 ],\n",
       "      dtype=float32)), QuaternionKeyframeTrack(name='.quaternion', times=array([0, 2, 5]), values=array([-0.184  ,  0.375  ,  0.0762 ,  0.905  , -0.184  ,  0.375  ,\n",
       "        0.0762 ,  0.905  , -0.043  , -0.156  , -0.00681,  0.987  ],\n",
       "      dtype=float32)))), localRoot=PerspectiveCamera(aspect=1.5, position=(10.0, 6.0, 10.0), projectionMatrix=(1.4296712803397058, 0.0, 0.0, 0.0, 0.0, 2.1445069205095586, 0.0, 0.0, 0.0, 0.0, -1.00010000500025, -1.0, 0.0, 0.0, -0.200010000500025, 0.0), quaternion=(0.0, 0.0, 0.0, 1.0), scale=(1.0, 1.0, 1.0), up=(0.0, 1.0, 0.0)), mixer=AnimationMixer(rootObject=PerspectiveCamera(aspect=1.5, position=(10.0, 6.0, 10.0), projectionMatrix=(1.4296712803397058, 0.0, 0.0, 0.0, 0.0, 2.1445069205095586, 0.0, 0.0, 0.0, 0.0, -1.00010000500025, -1.0, 0.0, 0.0, -0.200010000500025, 0.0), quaternion=(0.0, 0.0, 0.0, 1.0), scale=(1.0, 1.0, 1.0), up=(0.0, 1.0, 0.0))))"
      ]
     },
     "metadata": {},
     "output_type": "display_data"
    }
   ],
   "source": [
    "camera_action"
   ]
  },
  {
   "cell_type": "markdown",
   "metadata": {},
   "source": [
    "Let's add another animation clip, this time animating the color of the sphere's material:"
   ]
  },
  {
   "cell_type": "code",
   "execution_count": 11,
   "metadata": {},
   "outputs": [],
   "source": [
    "color_track = ColorKeyframeTrack(name='.material.color',\n",
    "    times=[0, 1], values=[1, 0, 0,  0, 0, 1])  # red to blue\n",
    "\n",
    "color_clip = AnimationClip(tracks=[color_track], duration=1.5)\n",
    "color_action = AnimationAction(AnimationMixer(sphere), color_clip, sphere)"
   ]
  },
  {
   "cell_type": "code",
   "execution_count": 12,
   "metadata": {},
   "outputs": [
    {
     "data": {
      "application/vnd.jupyter.widget-view+json": {
       "model_id": "dd0b2b8c072240fdbda967972cb2f55f",
       "version_major": 2,
       "version_minor": 0
      },
      "text/html": [
       "<p>Failed to display Jupyter Widget of type <code>AnimationAction</code>.</p>\n",
       "<p>\n",
       "  If you're reading this message in the Jupyter Notebook or JupyterLab Notebook, it may mean\n",
       "  that the widgets JavaScript is still loading. If this message persists, it\n",
       "  likely means that the widgets JavaScript library is either not installed or\n",
       "  not enabled. See the <a href=\"https://ipywidgets.readthedocs.io/en/stable/user_install.html\">Jupyter\n",
       "  Widgets Documentation</a> for setup instructions.\n",
       "</p>\n",
       "<p>\n",
       "  If you're reading this message in another frontend (for example, a static\n",
       "  rendering on GitHub or <a href=\"https://nbviewer.jupyter.org/\">NBViewer</a>),\n",
       "  it may mean that your frontend doesn't currently support widgets.\n",
       "</p>\n"
      ],
      "text/plain": [
       "AnimationAction(clip=AnimationClip(duration=1.5, tracks=(ColorKeyframeTrack(name='.material.color', times=array([0, 1]), values=array([1, 0, 0, 0, 0, 1])),)), localRoot=Mesh(geometry=SphereBufferGeometry(heightSegments=16, widthSegments=32), material=MeshStandardMaterial(alphaMap=None, aoMap=None, bumpMap=None, color='red', defines={'STANDARD': ''}, displacementMap=None, emissiveMap=None, envMap=None, lightMap=None, map=None, metalnessMap=None, normalMap=None, normalScale=(1.0, 1.0), roughnessMap=None), quaternion=(0.0, 0.0, 0.0, 1.0), scale=(1.0, 1.0, 1.0), up=(0.0, 1.0, 0.0)), mixer=AnimationMixer(rootObject=Mesh(geometry=SphereBufferGeometry(heightSegments=16, widthSegments=32), material=MeshStandardMaterial(alphaMap=None, aoMap=None, bumpMap=None, color='red', defines={'STANDARD': ''}, displacementMap=None, emissiveMap=None, envMap=None, lightMap=None, map=None, metalnessMap=None, normalMap=None, normalScale=(1.0, 1.0), roughnessMap=None), quaternion=(0.0, 0.0, 0.0, 1.0), scale=(1.0, 1.0, 1.0), up=(0.0, 1.0, 0.0))))"
      ]
     },
     "metadata": {},
     "output_type": "display_data"
    }
   ],
   "source": [
    "color_action"
   ]
  },
  {
   "cell_type": "markdown",
   "metadata": {},
   "source": [
    "Note how the two animation clips can freely be combined since they affect different properties. It's also worth noting that the color animation can be combined with manual camera control, while the camera animation cannot. When animating the camera, you might want to consider disabling the manual controls."
   ]
  },
  {
   "cell_type": "markdown",
   "metadata": {},
   "source": [
    "### Animating rotation\n",
    "\n",
    "When animating the camera rotation above, we used the camera's `quaternion`. This is the most robust method for animating free-form rotations. For example, the animation above was created by first moving the camera manually, and then reading out its `position` and `quaternion` properties at the wanted views. If you want more intuitive axes control, it is possible to animate the `rotation` sub-attributes instead, as shown below."
   ]
  },
  {
   "cell_type": "code",
   "execution_count": 13,
   "metadata": {},
   "outputs": [
    {
     "data": {
      "application/vnd.jupyter.widget-view+json": {
       "model_id": "35e34a65ed8d413f930c9209fec1cda0",
       "version_major": 2,
       "version_minor": 0
      },
      "text/html": [
       "<p>Failed to display Jupyter Widget of type <code>Renderer</code>.</p>\n",
       "<p>\n",
       "  If you're reading this message in the Jupyter Notebook or JupyterLab Notebook, it may mean\n",
       "  that the widgets JavaScript is still loading. If this message persists, it\n",
       "  likely means that the widgets JavaScript library is either not installed or\n",
       "  not enabled. See the <a href=\"https://ipywidgets.readthedocs.io/en/stable/user_install.html\">Jupyter\n",
       "  Widgets Documentation</a> for setup instructions.\n",
       "</p>\n",
       "<p>\n",
       "  If you're reading this message in another frontend (for example, a static\n",
       "  rendering on GitHub or <a href=\"https://nbviewer.jupyter.org/\">NBViewer</a>),\n",
       "  it may mean that your frontend doesn't currently support widgets.\n",
       "</p>\n"
      ],
      "text/plain": [
       "Renderer(camera=PerspectiveCamera(aspect=1.5, position=(10.0, 6.0, 10.0), quaternion=(0.0, 0.0, 0.0, 1.0), scale=(1.0, 1.0, 1.0), up=(0.0, 1.0, 0.0)), controls=[OrbitControls(controlling=PerspectiveCamera(aspect=1.5, position=(10.0, 6.0, 10.0), quaternion=(0.0, 0.0, 0.0, 1.0), scale=(1.0, 1.0, 1.0), up=(0.0, 1.0, 0.0)))], scene=Scene(children=(Group(children=(Mesh(geometry=ParametricGeometry(func='\\nfunction f(origu,origv) {\\n    // scale u and v to the ranges I want: [0, 2*pi]\\n    var u = 2*Math.PI*origu;\\n    var v = 2*Math.PI*origv;\\n    \\n    var x = Math.sin(u);\\n    var y = Math.cos(v);\\n    var z = Math.cos(u+v);\\n    \\n    return new THREE.Vector3(x,y,z)\\n}\\n', slices=16, stacks=16), material=MeshLambertMaterial(alphaMap=None, aoMap=None, color='green', emissiveMap=None, envMap=None, lightMap=None, map=None, specularMap=None), quaternion=(0.0, 0.0, 0.0, 1.0), scale=(1.0, 1.0, 1.0), up=(0.0, 1.0, 0.0)), Mesh(geometry=ParametricGeometry(func='\\nfunction f(origu,origv) {\\n    // scale u and v to the ranges I want: [0, 2*pi]\\n    var u = 2*Math.PI*origu;\\n    var v = 2*Math.PI*origv;\\n    \\n    var x = Math.sin(u);\\n    var y = Math.cos(v);\\n    var z = Math.cos(u+v);\\n    \\n    return new THREE.Vector3(x,y,z)\\n}\\n', slices=16, stacks=16), material=MeshLambertMaterial(alphaMap=None, aoMap=None, color='yellow', emissiveMap=None, envMap=None, lightMap=None, map=None, side='BackSide', specularMap=None), quaternion=(0.0, 0.0, 0.0, 1.0), scale=(1.0, 1.0, 1.0), up=(0.0, 1.0, 0.0))), quaternion=(0.0, 0.0, 0.0, 1.0), scale=(1.0, 1.0, 1.0), up=(0.0, 1.0, 0.0)), PerspectiveCamera(aspect=1.5, position=(10.0, 6.0, 10.0), quaternion=(0.0, 0.0, 0.0, 1.0), scale=(1.0, 1.0, 1.0), up=(0.0, 1.0, 0.0)), DirectionalLight(intensity=0.6, position=(3.0, 5.0, 1.0), quaternion=(0.0, 0.0, 0.0, 1.0), scale=(1.0, 1.0, 1.0), up=(0.0, 1.0, 0.0)), AmbientLight(intensity=0.5, quaternion=(0.0, 0.0, 0.0, 1.0), scale=(1.0, 1.0, 1.0), up=(0.0, 1.0, 0.0))), fog=None, overrideMaterial=None, quaternion=(0.0, 0.0, 0.0, 1.0), scale=(1.0, 1.0, 1.0), up=(0.0, 1.0, 0.0)), shadowMap=WebGLShadowMap())"
      ]
     },
     "metadata": {},
     "output_type": "display_data"
    }
   ],
   "source": [
    "f = \"\"\"\n",
    "function f(origu,origv) {\n",
    "    // scale u and v to the ranges I want: [0, 2*pi]\n",
    "    var u = 2*Math.PI*origu;\n",
    "    var v = 2*Math.PI*origv;\n",
    "    \n",
    "    var x = Math.sin(u);\n",
    "    var y = Math.cos(v);\n",
    "    var z = Math.cos(u+v);\n",
    "    \n",
    "    return new THREE.Vector3(x,y,z)\n",
    "}\n",
    "\"\"\"\n",
    "surf_g = ParametricGeometry(func=f, slices=16, stacks=16);\n",
    "\n",
    "surf1 = Mesh(geometry=surf_g,\n",
    "             material=MeshLambertMaterial(color='green', side='FrontSide'))\n",
    "surf2 = Mesh(geometry=surf_g,\n",
    "             material=MeshLambertMaterial(color='yellow', side='BackSide'))\n",
    "surf = Group(children=[surf1, surf2])\n",
    "\n",
    "camera2 = PerspectiveCamera( position=[10, 6, 10], aspect=view_width/view_height)\n",
    "scene2 = Scene(children=[surf, camera2,\n",
    "                         DirectionalLight(position=[3, 5, 1], intensity=0.6),\n",
    "                         AmbientLight(intensity=0.5)])\n",
    "renderer2 = Renderer(camera=camera2, scene=scene2,\n",
    "                     controls=[OrbitControls(controlling=camera2)],\n",
    "                     width=view_width, height=view_height)\n",
    "display(renderer2)"
   ]
  },
  {
   "cell_type": "code",
   "execution_count": 14,
   "metadata": {},
   "outputs": [
    {
     "data": {
      "application/vnd.jupyter.widget-view+json": {
       "model_id": "dc28a62ee6f44e31822b2f4270e607a0",
       "version_major": 2,
       "version_minor": 0
      },
      "text/html": [
       "<p>Failed to display Jupyter Widget of type <code>AnimationAction</code>.</p>\n",
       "<p>\n",
       "  If you're reading this message in the Jupyter Notebook or JupyterLab Notebook, it may mean\n",
       "  that the widgets JavaScript is still loading. If this message persists, it\n",
       "  likely means that the widgets JavaScript library is either not installed or\n",
       "  not enabled. See the <a href=\"https://ipywidgets.readthedocs.io/en/stable/user_install.html\">Jupyter\n",
       "  Widgets Documentation</a> for setup instructions.\n",
       "</p>\n",
       "<p>\n",
       "  If you're reading this message in another frontend (for example, a static\n",
       "  rendering on GitHub or <a href=\"https://nbviewer.jupyter.org/\">NBViewer</a>),\n",
       "  it may mean that your frontend doesn't currently support widgets.\n",
       "</p>\n"
      ],
      "text/plain": [
       "AnimationAction(clip=AnimationClip(tracks=(NumberKeyframeTrack(name='.rotation[y]', times=array([0, 2]), values=array([0.  , 6.28], dtype=float32)),)), localRoot=Group(children=(Mesh(geometry=ParametricGeometry(func='\\nfunction f(origu,origv) {\\n    // scale u and v to the ranges I want: [0, 2*pi]\\n    var u = 2*Math.PI*origu;\\n    var v = 2*Math.PI*origv;\\n    \\n    var x = Math.sin(u);\\n    var y = Math.cos(v);\\n    var z = Math.cos(u+v);\\n    \\n    return new THREE.Vector3(x,y,z)\\n}\\n', slices=16, stacks=16), material=MeshLambertMaterial(alphaMap=None, aoMap=None, color='green', emissiveMap=None, envMap=None, lightMap=None, map=None, specularMap=None), quaternion=(0.0, 0.0, 0.0, 1.0), scale=(1.0, 1.0, 1.0), up=(0.0, 1.0, 0.0)), Mesh(geometry=ParametricGeometry(func='\\nfunction f(origu,origv) {\\n    // scale u and v to the ranges I want: [0, 2*pi]\\n    var u = 2*Math.PI*origu;\\n    var v = 2*Math.PI*origv;\\n    \\n    var x = Math.sin(u);\\n    var y = Math.cos(v);\\n    var z = Math.cos(u+v);\\n    \\n    return new THREE.Vector3(x,y,z)\\n}\\n', slices=16, stacks=16), material=MeshLambertMaterial(alphaMap=None, aoMap=None, color='yellow', emissiveMap=None, envMap=None, lightMap=None, map=None, side='BackSide', specularMap=None), quaternion=(0.0, 0.0, 0.0, 1.0), scale=(1.0, 1.0, 1.0), up=(0.0, 1.0, 0.0))), quaternion=(0.0, 0.0, 0.0, 1.0), scale=(1.0, 1.0, 1.0), up=(0.0, 1.0, 0.0)), mixer=AnimationMixer(rootObject=Group(children=(Mesh(geometry=ParametricGeometry(func='\\nfunction f(origu,origv) {\\n    // scale u and v to the ranges I want: [0, 2*pi]\\n    var u = 2*Math.PI*origu;\\n    var v = 2*Math.PI*origv;\\n    \\n    var x = Math.sin(u);\\n    var y = Math.cos(v);\\n    var z = Math.cos(u+v);\\n    \\n    return new THREE.Vector3(x,y,z)\\n}\\n', slices=16, stacks=16), material=MeshLambertMaterial(alphaMap=None, aoMap=None, color='green', emissiveMap=None, envMap=None, lightMap=None, map=None, specularMap=None), quaternion=(0.0, 0.0, 0.0, 1.0), scale=(1.0, 1.0, 1.0), up=(0.0, 1.0, 0.0)), Mesh(geometry=ParametricGeometry(func='\\nfunction f(origu,origv) {\\n    // scale u and v to the ranges I want: [0, 2*pi]\\n    var u = 2*Math.PI*origu;\\n    var v = 2*Math.PI*origv;\\n    \\n    var x = Math.sin(u);\\n    var y = Math.cos(v);\\n    var z = Math.cos(u+v);\\n    \\n    return new THREE.Vector3(x,y,z)\\n}\\n', slices=16, stacks=16), material=MeshLambertMaterial(alphaMap=None, aoMap=None, color='yellow', emissiveMap=None, envMap=None, lightMap=None, map=None, side='BackSide', specularMap=None), quaternion=(0.0, 0.0, 0.0, 1.0), scale=(1.0, 1.0, 1.0), up=(0.0, 1.0, 0.0))), quaternion=(0.0, 0.0, 0.0, 1.0), scale=(1.0, 1.0, 1.0), up=(0.0, 1.0, 0.0))))"
      ]
     },
     "metadata": {},
     "output_type": "display_data"
    }
   ],
   "source": [
    "spin_track = NumberKeyframeTrack(name='.rotation[y]', times=[0, 2], values=[0, 6.28])\n",
    "spin_clip = AnimationClip(tracks=[spin_track])\n",
    "spin_action = AnimationAction(AnimationMixer(surf), spin_clip, surf)\n",
    "spin_action"
   ]
  },
  {
   "cell_type": "markdown",
   "metadata": {},
   "source": [
    "Note that we are spinning the object itself, and that we are therefore free to manipulate the camera at will."
   ]
  },
  {
   "cell_type": "markdown",
   "metadata": {},
   "source": [
    "## Morph targets\n",
    "\n",
    "Set up a simple sphere geometry, and add a morph target that is an oblong pill shape:"
   ]
  },
  {
   "cell_type": "code",
   "execution_count": 15,
   "metadata": {},
   "outputs": [],
   "source": [
    "# This lets three.js create the geometry, then syncs back vertex positions etc.\n",
    "# For this reason, you should allow for the sync to complete before executing\n",
    "# the next cell.\n",
    "morph = BufferGeometry.from_geometry(SphereBufferGeometry(1, 32, 16))"
   ]
  },
  {
   "cell_type": "code",
   "execution_count": 16,
   "metadata": {
    "tags": [
     "nbval-skip"
    ]
   },
   "outputs": [],
   "source": [
    "import numpy as np\n",
    "\n",
    "# Set up morph targets:\n",
    "vertices = np.array(morph.attributes['position'].array)\n",
    "for i in range(len(vertices)):\n",
    "    if vertices[i, 0] > 0:\n",
    "        vertices[i, 0] += 1\n",
    "morph.morphAttributes = {'position': [\n",
    "    BufferAttribute(vertices),\n",
    "]}\n",
    "\n",
    "morphMesh = Mesh(morph, MeshPhongMaterial(\n",
    "    color='#ff3333', shininess=150, morphTargets=True))"
   ]
  },
  {
   "cell_type": "markdown",
   "metadata": {},
   "source": [
    "Set up animation for going back and forth between the sphere and pill shape:"
   ]
  },
  {
   "cell_type": "code",
   "execution_count": 17,
   "metadata": {
    "tags": [
     "nbval-skip"
    ]
   },
   "outputs": [],
   "source": [
    "pill_track = NumberKeyframeTrack(\n",
    "    name='.morphTargetInfluences[0]', times=[0, 1.5, 3], values=[0, 2.5, 0])\n",
    "pill_clip = AnimationClip(tracks=[pill_track])\n",
    "pill_action = AnimationAction(AnimationMixer(morphMesh), pill_clip, morphMesh)"
   ]
  },
  {
   "cell_type": "code",
   "execution_count": 18,
   "metadata": {
    "tags": [
     "nbval-skip"
    ]
   },
   "outputs": [
    {
     "data": {
      "application/vnd.jupyter.widget-view+json": {
       "model_id": "161ed1e8f9384df786bb06960c064b63",
       "version_major": 2,
       "version_minor": 0
      },
      "text/html": [
       "<p>Failed to display Jupyter Widget of type <code>Renderer</code>.</p>\n",
       "<p>\n",
       "  If you're reading this message in the Jupyter Notebook or JupyterLab Notebook, it may mean\n",
       "  that the widgets JavaScript is still loading. If this message persists, it\n",
       "  likely means that the widgets JavaScript library is either not installed or\n",
       "  not enabled. See the <a href=\"https://ipywidgets.readthedocs.io/en/stable/user_install.html\">Jupyter\n",
       "  Widgets Documentation</a> for setup instructions.\n",
       "</p>\n",
       "<p>\n",
       "  If you're reading this message in another frontend (for example, a static\n",
       "  rendering on GitHub or <a href=\"https://nbviewer.jupyter.org/\">NBViewer</a>),\n",
       "  it may mean that your frontend doesn't currently support widgets.\n",
       "</p>\n"
      ],
      "text/plain": [
       "Renderer(camera=PerspectiveCamera(aspect=1.5, position=(5.0, 3.0, 5.0), quaternion=(0.0, 0.0, 0.0, 1.0), scale=(1.0, 1.0, 1.0), up=(0.0, 1.0, 0.0)), controls=[OrbitControls(controlling=PerspectiveCamera(aspect=1.5, position=(5.0, 3.0, 5.0), quaternion=(0.0, 0.0, 0.0, 1.0), scale=(1.0, 1.0, 1.0), up=(0.0, 1.0, 0.0)))], scene=Scene(children=(Mesh(geometry=BufferGeometry(attributes={'position': <BufferAttribute shape=(561, 3), dtype=float32>, 'normal': <BufferAttribute shape=(561, 3), dtype=float32>, 'uv': <BufferAttribute shape=(561, 2), dtype=float32>}, morphAttributes={'position': <BufferAttribute shape=(561, 3), dtype=float32>}), material=MeshPhongMaterial(alphaMap=None, aoMap=None, bumpMap=None, color='#ff3333', displacementMap=None, emissiveMap=None, envMap=None, lightMap=None, map=None, morphTargets=True, normalMap=None, normalScale=(1.0, 1.0), shininess=150.0, specularMap=None), quaternion=(0.0, 0.0, 0.0, 1.0), scale=(1.0, 1.0, 1.0), up=(0.0, 1.0, 0.0)), PerspectiveCamera(aspect=1.5, position=(5.0, 3.0, 5.0), quaternion=(0.0, 0.0, 0.0, 1.0), scale=(1.0, 1.0, 1.0), up=(0.0, 1.0, 0.0)), DirectionalLight(intensity=0.6, position=(3.0, 5.0, 1.0), quaternion=(0.0, 0.0, 0.0, 1.0), scale=(1.0, 1.0, 1.0), up=(0.0, 1.0, 0.0)), AmbientLight(intensity=0.5, quaternion=(0.0, 0.0, 0.0, 1.0), scale=(1.0, 1.0, 1.0), up=(0.0, 1.0, 0.0))), fog=None, overrideMaterial=None, quaternion=(0.0, 0.0, 0.0, 1.0), scale=(1.0, 1.0, 1.0), up=(0.0, 1.0, 0.0)), shadowMap=WebGLShadowMap())"
      ]
     },
     "metadata": {},
     "output_type": "display_data"
    },
    {
     "data": {
      "application/vnd.jupyter.widget-view+json": {
       "model_id": "f61d2da9bc71495c9a35abb24e81beea",
       "version_major": 2,
       "version_minor": 0
      },
      "text/html": [
       "<p>Failed to display Jupyter Widget of type <code>AnimationAction</code>.</p>\n",
       "<p>\n",
       "  If you're reading this message in the Jupyter Notebook or JupyterLab Notebook, it may mean\n",
       "  that the widgets JavaScript is still loading. If this message persists, it\n",
       "  likely means that the widgets JavaScript library is either not installed or\n",
       "  not enabled. See the <a href=\"https://ipywidgets.readthedocs.io/en/stable/user_install.html\">Jupyter\n",
       "  Widgets Documentation</a> for setup instructions.\n",
       "</p>\n",
       "<p>\n",
       "  If you're reading this message in another frontend (for example, a static\n",
       "  rendering on GitHub or <a href=\"https://nbviewer.jupyter.org/\">NBViewer</a>),\n",
       "  it may mean that your frontend doesn't currently support widgets.\n",
       "</p>\n"
      ],
      "text/plain": [
       "AnimationAction(clip=AnimationClip(duration=3.0, tracks=(NumberKeyframeTrack(name='.morphTargetInfluences[0]', times=array([0. , 1.5, 3. ], dtype=float32), values=array([0. , 2.5, 0. ], dtype=float32)),)), localRoot=Mesh(geometry=BufferGeometry(attributes={'position': <BufferAttribute shape=(561, 3), dtype=float32>, 'normal': <BufferAttribute shape=(561, 3), dtype=float32>, 'uv': <BufferAttribute shape=(561, 2), dtype=float32>}, morphAttributes={'position': <BufferAttribute shape=(561, 3), dtype=float32>}), material=MeshPhongMaterial(alphaMap=None, aoMap=None, bumpMap=None, color='#ff3333', displacementMap=None, emissiveMap=None, envMap=None, lightMap=None, map=None, morphTargets=True, normalMap=None, normalScale=(1.0, 1.0), shininess=150.0, specularMap=None), quaternion=(0.0, 0.0, 0.0, 1.0), scale=(1.0, 1.0, 1.0), up=(0.0, 1.0, 0.0)), mixer=AnimationMixer(rootObject=Mesh(geometry=BufferGeometry(attributes={'position': <BufferAttribute shape=(561, 3), dtype=float32>, 'normal': <BufferAttribute shape=(561, 3), dtype=float32>, 'uv': <BufferAttribute shape=(561, 2), dtype=float32>}, morphAttributes={'position': <BufferAttribute shape=(561, 3), dtype=float32>}), material=MeshPhongMaterial(alphaMap=None, aoMap=None, bumpMap=None, color='#ff3333', displacementMap=None, emissiveMap=None, envMap=None, lightMap=None, map=None, morphTargets=True, normalMap=None, normalScale=(1.0, 1.0), shininess=150.0, specularMap=None), quaternion=(0.0, 0.0, 0.0, 1.0), scale=(1.0, 1.0, 1.0), up=(0.0, 1.0, 0.0))))"
      ]
     },
     "metadata": {},
     "output_type": "display_data"
    }
   ],
   "source": [
    "camera3 = PerspectiveCamera( position=[5, 3, 5], aspect=view_width/view_height)\n",
    "scene3 = Scene(children=[morphMesh, camera3,\n",
    "                         DirectionalLight(position=[3, 5, 1], intensity=0.6),\n",
    "                         AmbientLight(intensity=0.5)])\n",
    "renderer3 = Renderer(camera=camera3, scene=scene3,\n",
    "                     controls=[OrbitControls(controlling=camera3)],\n",
    "                     width=view_width, height=view_height)\n",
    "display(renderer3, pill_action)"
   ]
  },
  {
   "cell_type": "markdown",
   "metadata": {},
   "source": [
    "## Skeletal animation\n",
    "\n",
    "First, set up a skinned mesh with some bones:"
   ]
  },
  {
   "cell_type": "code",
   "execution_count": 19,
   "metadata": {
    "tags": [
     "nbval-skip"
    ]
   },
   "outputs": [],
   "source": [
    "import numpy as np\n",
    "\n",
    "N_BONES = 3\n",
    "\n",
    "ref_cylinder = CylinderBufferGeometry(5, 5, 50, 5, N_BONES * 5, True)\n",
    "cylinder = BufferGeometry.from_geometry(ref_cylinder)"
   ]
  },
  {
   "cell_type": "code",
   "execution_count": 20,
   "metadata": {
    "tags": [
     "nbval-skip"
    ]
   },
   "outputs": [],
   "source": [
    "skinIndices = []\n",
    "skinWeights = []\n",
    "vertices = cylinder.attributes['position'].array\n",
    "boneHeight = ref_cylinder.height / (N_BONES - 1)\n",
    "for i in range(vertices.shape[0]):\n",
    "\n",
    "    y = vertices[i, 1] + 0.5 * ref_cylinder.height\n",
    "\n",
    "    skinIndex = y // boneHeight\n",
    "    skinWeight = ( y % boneHeight ) / boneHeight\n",
    "\n",
    "    # Ease between each bone\n",
    "    skinIndices.append([skinIndex, skinIndex + 1, 0, 0 ])\n",
    "    skinWeights.append([1 - skinWeight, skinWeight, 0, 0 ])\n",
    "\n",
    "cylinder.attributes = dict(\n",
    "    cylinder.attributes,\n",
    "    skinIndex=BufferAttribute(skinIndices),\n",
    "    skinWeight=BufferAttribute(skinWeights),\n",
    ")\n",
    "\n",
    "shoulder = Bone(position=(0, -25, 0))\n",
    "elbow = Bone(position=(0, 25, 0))\n",
    "hand = Bone(position=(0, 25, 0))\n",
    "\n",
    "shoulder.add(elbow)\n",
    "elbow.add(hand)\n",
    "bones = [shoulder, elbow, hand]\n",
    "skeleton = Skeleton(bones)\n",
    "\n",
    "mesh = SkinnedMesh(cylinder, MeshPhongMaterial(side='DoubleSide', skinning=True))\n",
    "mesh.add(bones[0])\n",
    "mesh.skeleton = skeleton"
   ]
  },
  {
   "cell_type": "code",
   "execution_count": 21,
   "metadata": {
    "tags": [
     "nbval-skip"
    ]
   },
   "outputs": [],
   "source": [
    "helper = SkeletonHelper(mesh)"
   ]
  },
  {
   "cell_type": "markdown",
   "metadata": {},
   "source": [
    "Next, set up some simple rotation animations for the bones:"
   ]
  },
  {
   "cell_type": "code",
   "execution_count": 22,
   "metadata": {
    "tags": [
     "nbval-skip"
    ]
   },
   "outputs": [],
   "source": [
    "# Rotate on x and z axes:\n",
    "bend_tracks = [\n",
    "    NumberKeyframeTrack(\n",
    "        name='.bones[1].rotation[x]',\n",
    "        times=[0, 0.5, 1.5, 2],\n",
    "        values=[0, 0.3, -0.3, 0]),\n",
    "    NumberKeyframeTrack(\n",
    "        name='.bones[1].rotation[z]',\n",
    "        times=[0, 0.5, 1.5, 2],\n",
    "        values=[0, 0.3, -0.3, 0]),\n",
    "    NumberKeyframeTrack(\n",
    "        name='.bones[2].rotation[x]',\n",
    "        times=[0, 0.5, 1.5, 2],\n",
    "        values=[0, -0.3, 0.3, 0]),\n",
    "    NumberKeyframeTrack(\n",
    "        name='.bones[2].rotation[z]',\n",
    "        times=[0, 0.5, 1.5, 2],\n",
    "        values=[0, -0.3, 0.3, 0]),\n",
    "]\n",
    "bend_clip = AnimationClip(tracks=bend_tracks)\n",
    "bend_action = AnimationAction(AnimationMixer(mesh), bend_clip, mesh)\n",
    "    \n",
    "# Rotate on y axis:\n",
    "wring_tracks = [\n",
    "    NumberKeyframeTrack(name='.bones[1].rotation[y]', times=[0, 0.5, 1.5, 2], values=[0, 0.7, -0.7, 0]),\n",
    "    NumberKeyframeTrack(name='.bones[2].rotation[y]', times=[0, 0.5, 1.5, 2], values=[0, 0.7, -0.7, 0]),\n",
    "]\n",
    "\n",
    "wring_clip = AnimationClip(tracks=wring_tracks)\n",
    "wring_action = AnimationAction(AnimationMixer(mesh), wring_clip, mesh)"
   ]
  },
  {
   "cell_type": "code",
   "execution_count": 23,
   "metadata": {
    "tags": [
     "nbval-skip"
    ]
   },
   "outputs": [
    {
     "data": {
      "application/vnd.jupyter.widget-view+json": {
       "model_id": "78fcabb17e544cedb98e2da04d39833a",
       "version_major": 2,
       "version_minor": 0
      },
      "text/html": [
       "<p>Failed to display Jupyter Widget of type <code>Renderer</code>.</p>\n",
       "<p>\n",
       "  If you're reading this message in the Jupyter Notebook or JupyterLab Notebook, it may mean\n",
       "  that the widgets JavaScript is still loading. If this message persists, it\n",
       "  likely means that the widgets JavaScript library is either not installed or\n",
       "  not enabled. See the <a href=\"https://ipywidgets.readthedocs.io/en/stable/user_install.html\">Jupyter\n",
       "  Widgets Documentation</a> for setup instructions.\n",
       "</p>\n",
       "<p>\n",
       "  If you're reading this message in another frontend (for example, a static\n",
       "  rendering on GitHub or <a href=\"https://nbviewer.jupyter.org/\">NBViewer</a>),\n",
       "  it may mean that your frontend doesn't currently support widgets.\n",
       "</p>\n"
      ],
      "text/plain": [
       "Renderer(camera=PerspectiveCamera(aspect=1.5, position=(40.0, 24.0, 40.0), quaternion=(0.0, 0.0, 0.0, 1.0), scale=(1.0, 1.0, 1.0), up=(0.0, 1.0, 0.0)), controls=[OrbitControls(controlling=PerspectiveCamera(aspect=1.5, position=(40.0, 24.0, 40.0), quaternion=(0.0, 0.0, 0.0, 1.0), scale=(1.0, 1.0, 1.0), up=(0.0, 1.0, 0.0)))], scene=Scene(children=(SkinnedMesh(children=(Bone(children=(Bone(children=(Bone(position=(0.0, 25.0, 0.0), quaternion=(0.0, 0.0, 0.0, 1.0), scale=(1.0, 1.0, 1.0), up=(0.0, 1.0, 0.0)),), position=(0.0, 25.0, 0.0), quaternion=(0.0, 0.0, 0.0, 1.0), scale=(1.0, 1.0, 1.0), up=(0.0, 1.0, 0.0)),), position=(0.0, -25.0, 0.0), quaternion=(0.0, 0.0, 0.0, 1.0), scale=(1.0, 1.0, 1.0), up=(0.0, 1.0, 0.0)),), geometry=BufferGeometry(attributes={'position': <BufferAttribute shape=(96, 3), dtype=float32>, 'normal': <BufferAttribute shape=(96, 3), dtype=float32>, 'uv': <BufferAttribute shape=(96, 2), dtype=float32>, 'skinIndex': <BufferAttribute shape=(96, 4), dtype=float32>, 'skinWeight': <BufferAttribute shape=(96, 4), dtype=float32>}), material=MeshPhongMaterial(alphaMap=None, aoMap=None, bumpMap=None, displacementMap=None, emissiveMap=None, envMap=None, lightMap=None, map=None, normalMap=None, normalScale=(1.0, 1.0), side='DoubleSide', skinning=True, specularMap=None), quaternion=(0.0, 0.0, 0.0, 1.0), scale=(1.0, 1.0, 1.0), skeleton=Skeleton(bones=(Bone(children=(Bone(children=(Bone(position=(0.0, 25.0, 0.0), quaternion=(0.0, 0.0, 0.0, 1.0), scale=(1.0, 1.0, 1.0), up=(0.0, 1.0, 0.0)),), position=(0.0, 25.0, 0.0), quaternion=(0.0, 0.0, 0.0, 1.0), scale=(1.0, 1.0, 1.0), up=(0.0, 1.0, 0.0)),), position=(0.0, -25.0, 0.0), quaternion=(0.0, 0.0, 0.0, 1.0), scale=(1.0, 1.0, 1.0), up=(0.0, 1.0, 0.0)), Bone(children=(Bone(position=(0.0, 25.0, 0.0), quaternion=(0.0, 0.0, 0.0, 1.0), scale=(1.0, 1.0, 1.0), up=(0.0, 1.0, 0.0)),), position=(0.0, 25.0, 0.0), quaternion=(0.0, 0.0, 0.0, 1.0), scale=(1.0, 1.0, 1.0), up=(0.0, 1.0, 0.0)), Bone(position=(0.0, 25.0, 0.0), quaternion=(0.0, 0.0, 0.0, 1.0), scale=(1.0, 1.0, 1.0), up=(0.0, 1.0, 0.0)))), up=(0.0, 1.0, 0.0)), SkeletonHelper(quaternion=(0.0, 0.0, 0.0, 1.0), root=SkinnedMesh(children=(Bone(children=(Bone(children=(Bone(position=(0.0, 25.0, 0.0), quaternion=(0.0, 0.0, 0.0, 1.0), scale=(1.0, 1.0, 1.0), up=(0.0, 1.0, 0.0)),), position=(0.0, 25.0, 0.0), quaternion=(0.0, 0.0, 0.0, 1.0), scale=(1.0, 1.0, 1.0), up=(0.0, 1.0, 0.0)),), position=(0.0, -25.0, 0.0), quaternion=(0.0, 0.0, 0.0, 1.0), scale=(1.0, 1.0, 1.0), up=(0.0, 1.0, 0.0)),), geometry=BufferGeometry(attributes={'position': <BufferAttribute shape=(96, 3), dtype=float32>, 'normal': <BufferAttribute shape=(96, 3), dtype=float32>, 'uv': <BufferAttribute shape=(96, 2), dtype=float32>, 'skinIndex': <BufferAttribute shape=(96, 4), dtype=float32>, 'skinWeight': <BufferAttribute shape=(96, 4), dtype=float32>}), material=MeshPhongMaterial(alphaMap=None, aoMap=None, bumpMap=None, displacementMap=None, emissiveMap=None, envMap=None, lightMap=None, map=None, normalMap=None, normalScale=(1.0, 1.0), side='DoubleSide', skinning=True, specularMap=None), quaternion=(0.0, 0.0, 0.0, 1.0), scale=(1.0, 1.0, 1.0), skeleton=Skeleton(bones=(Bone(children=(Bone(children=(Bone(position=(0.0, 25.0, 0.0), quaternion=(0.0, 0.0, 0.0, 1.0), scale=(1.0, 1.0, 1.0), up=(0.0, 1.0, 0.0)),), position=(0.0, 25.0, 0.0), quaternion=(0.0, 0.0, 0.0, 1.0), scale=(1.0, 1.0, 1.0), up=(0.0, 1.0, 0.0)),), position=(0.0, -25.0, 0.0), quaternion=(0.0, 0.0, 0.0, 1.0), scale=(1.0, 1.0, 1.0), up=(0.0, 1.0, 0.0)), Bone(children=(Bone(position=(0.0, 25.0, 0.0), quaternion=(0.0, 0.0, 0.0, 1.0), scale=(1.0, 1.0, 1.0), up=(0.0, 1.0, 0.0)),), position=(0.0, 25.0, 0.0), quaternion=(0.0, 0.0, 0.0, 1.0), scale=(1.0, 1.0, 1.0), up=(0.0, 1.0, 0.0)), Bone(position=(0.0, 25.0, 0.0), quaternion=(0.0, 0.0, 0.0, 1.0), scale=(1.0, 1.0, 1.0), up=(0.0, 1.0, 0.0)))), up=(0.0, 1.0, 0.0)), scale=(1.0, 1.0, 1.0), type='LineSegments', up=(0.0, 1.0, 0.0)), PerspectiveCamera(aspect=1.5, position=(40.0, 24.0, 40.0), quaternion=(0.0, 0.0, 0.0, 1.0), scale=(1.0, 1.0, 1.0), up=(0.0, 1.0, 0.0)), DirectionalLight(intensity=0.6, position=(3.0, 5.0, 1.0), quaternion=(0.0, 0.0, 0.0, 1.0), scale=(1.0, 1.0, 1.0), up=(0.0, 1.0, 0.0)), AmbientLight(intensity=0.5, quaternion=(0.0, 0.0, 0.0, 1.0), scale=(1.0, 1.0, 1.0), up=(0.0, 1.0, 0.0))), fog=None, overrideMaterial=None, quaternion=(0.0, 0.0, 0.0, 1.0), scale=(1.0, 1.0, 1.0), up=(0.0, 1.0, 0.0)), shadowMap=WebGLShadowMap())"
      ]
     },
     "metadata": {},
     "output_type": "display_data"
    }
   ],
   "source": [
    "camera4 = PerspectiveCamera( position=[40, 24, 40], aspect=view_width/view_height)\n",
    "scene4 = Scene(children=[mesh, helper, camera4,\n",
    "                         DirectionalLight(position=[3, 5, 1], intensity=0.6),\n",
    "                         AmbientLight(intensity=0.5)])\n",
    "renderer4 = Renderer(camera=camera4, scene=scene4,\n",
    "                     controls=[OrbitControls(controlling=camera4)],\n",
    "                     width=view_width, height=view_height)\n",
    "display(renderer4)"
   ]
  },
  {
   "cell_type": "code",
   "execution_count": 24,
   "metadata": {
    "tags": [
     "nbval-skip"
    ]
   },
   "outputs": [
    {
     "data": {
      "application/vnd.jupyter.widget-view+json": {
       "model_id": "303930afa87e4508b915e1610f5365e3",
       "version_major": 2,
       "version_minor": 0
      },
      "text/html": [
       "<p>Failed to display Jupyter Widget of type <code>AnimationAction</code>.</p>\n",
       "<p>\n",
       "  If you're reading this message in the Jupyter Notebook or JupyterLab Notebook, it may mean\n",
       "  that the widgets JavaScript is still loading. If this message persists, it\n",
       "  likely means that the widgets JavaScript library is either not installed or\n",
       "  not enabled. See the <a href=\"https://ipywidgets.readthedocs.io/en/stable/user_install.html\">Jupyter\n",
       "  Widgets Documentation</a> for setup instructions.\n",
       "</p>\n",
       "<p>\n",
       "  If you're reading this message in another frontend (for example, a static\n",
       "  rendering on GitHub or <a href=\"https://nbviewer.jupyter.org/\">NBViewer</a>),\n",
       "  it may mean that your frontend doesn't currently support widgets.\n",
       "</p>\n"
      ],
      "text/plain": [
       "AnimationAction(clip=AnimationClip(duration=2.0, tracks=(NumberKeyframeTrack(name='.bones[1].rotation[x]', times=array([0. , 0.5, 1.5, 2. ], dtype=float32), values=array([ 0. ,  0.3, -0.3,  0. ], dtype=float32)), NumberKeyframeTrack(name='.bones[1].rotation[z]', times=array([0. , 0.5, 1.5, 2. ], dtype=float32), values=array([ 0. ,  0.3, -0.3,  0. ], dtype=float32)), NumberKeyframeTrack(name='.bones[2].rotation[x]', times=array([0. , 0.5, 1.5, 2. ], dtype=float32), values=array([ 0. , -0.3,  0.3,  0. ], dtype=float32)), NumberKeyframeTrack(name='.bones[2].rotation[z]', times=array([0. , 0.5, 1.5, 2. ], dtype=float32), values=array([ 0. , -0.3,  0.3,  0. ], dtype=float32)))), localRoot=SkinnedMesh(children=(Bone(children=(Bone(children=(Bone(position=(0.0, 25.0, 0.0), quaternion=(0.0, 0.0, 0.0, 1.0), scale=(1.0, 1.0, 1.0), up=(0.0, 1.0, 0.0)),), position=(0.0, 25.0, 0.0), quaternion=(0.0, 0.0, 0.0, 1.0), scale=(1.0, 1.0, 1.0), up=(0.0, 1.0, 0.0)),), position=(0.0, -25.0, 0.0), quaternion=(0.0, 0.0, 0.0, 1.0), scale=(1.0, 1.0, 1.0), up=(0.0, 1.0, 0.0)),), geometry=BufferGeometry(attributes={'position': <BufferAttribute shape=(96, 3), dtype=float32>, 'normal': <BufferAttribute shape=(96, 3), dtype=float32>, 'uv': <BufferAttribute shape=(96, 2), dtype=float32>, 'skinIndex': <BufferAttribute shape=(96, 4), dtype=float32>, 'skinWeight': <BufferAttribute shape=(96, 4), dtype=float32>}), material=MeshPhongMaterial(alphaMap=None, aoMap=None, bumpMap=None, displacementMap=None, emissiveMap=None, envMap=None, lightMap=None, map=None, normalMap=None, normalScale=(1.0, 1.0), side='DoubleSide', skinning=True, specularMap=None), quaternion=(0.0, 0.0, 0.0, 1.0), scale=(1.0, 1.0, 1.0), skeleton=Skeleton(bones=(Bone(children=(Bone(children=(Bone(position=(0.0, 25.0, 0.0), quaternion=(0.0, 0.0, 0.0, 1.0), scale=(1.0, 1.0, 1.0), up=(0.0, 1.0, 0.0)),), position=(0.0, 25.0, 0.0), quaternion=(0.0, 0.0, 0.0, 1.0), scale=(1.0, 1.0, 1.0), up=(0.0, 1.0, 0.0)),), position=(0.0, -25.0, 0.0), quaternion=(0.0, 0.0, 0.0, 1.0), scale=(1.0, 1.0, 1.0), up=(0.0, 1.0, 0.0)), Bone(children=(Bone(position=(0.0, 25.0, 0.0), quaternion=(0.0, 0.0, 0.0, 1.0), scale=(1.0, 1.0, 1.0), up=(0.0, 1.0, 0.0)),), position=(0.0, 25.0, 0.0), quaternion=(0.0, 0.0, 0.0, 1.0), scale=(1.0, 1.0, 1.0), up=(0.0, 1.0, 0.0)), Bone(position=(0.0, 25.0, 0.0), quaternion=(0.0, 0.0, 0.0, 1.0), scale=(1.0, 1.0, 1.0), up=(0.0, 1.0, 0.0)))), up=(0.0, 1.0, 0.0)), mixer=AnimationMixer(rootObject=SkinnedMesh(children=(Bone(children=(Bone(children=(Bone(position=(0.0, 25.0, 0.0), quaternion=(0.0, 0.0, 0.0, 1.0), scale=(1.0, 1.0, 1.0), up=(0.0, 1.0, 0.0)),), position=(0.0, 25.0, 0.0), quaternion=(0.0, 0.0, 0.0, 1.0), scale=(1.0, 1.0, 1.0), up=(0.0, 1.0, 0.0)),), position=(0.0, -25.0, 0.0), quaternion=(0.0, 0.0, 0.0, 1.0), scale=(1.0, 1.0, 1.0), up=(0.0, 1.0, 0.0)),), geometry=BufferGeometry(attributes={'position': <BufferAttribute shape=(96, 3), dtype=float32>, 'normal': <BufferAttribute shape=(96, 3), dtype=float32>, 'uv': <BufferAttribute shape=(96, 2), dtype=float32>, 'skinIndex': <BufferAttribute shape=(96, 4), dtype=float32>, 'skinWeight': <BufferAttribute shape=(96, 4), dtype=float32>}), material=MeshPhongMaterial(alphaMap=None, aoMap=None, bumpMap=None, displacementMap=None, emissiveMap=None, envMap=None, lightMap=None, map=None, normalMap=None, normalScale=(1.0, 1.0), side='DoubleSide', skinning=True, specularMap=None), quaternion=(0.0, 0.0, 0.0, 1.0), scale=(1.0, 1.0, 1.0), skeleton=Skeleton(bones=(Bone(children=(Bone(children=(Bone(position=(0.0, 25.0, 0.0), quaternion=(0.0, 0.0, 0.0, 1.0), scale=(1.0, 1.0, 1.0), up=(0.0, 1.0, 0.0)),), position=(0.0, 25.0, 0.0), quaternion=(0.0, 0.0, 0.0, 1.0), scale=(1.0, 1.0, 1.0), up=(0.0, 1.0, 0.0)),), position=(0.0, -25.0, 0.0), quaternion=(0.0, 0.0, 0.0, 1.0), scale=(1.0, 1.0, 1.0), up=(0.0, 1.0, 0.0)), Bone(children=(Bone(position=(0.0, 25.0, 0.0), quaternion=(0.0, 0.0, 0.0, 1.0), scale=(1.0, 1.0, 1.0), up=(0.0, 1.0, 0.0)),), position=(0.0, 25.0, 0.0), quaternion=(0.0, 0.0, 0.0, 1.0), scale=(1.0, 1.0, 1.0), up=(0.0, 1.0, 0.0)), Bone(position=(0.0, 25.0, 0.0), quaternion=(0.0, 0.0, 0.0, 1.0), scale=(1.0, 1.0, 1.0), up=(0.0, 1.0, 0.0)))), up=(0.0, 1.0, 0.0))))"
      ]
     },
     "metadata": {},
     "output_type": "display_data"
    }
   ],
   "source": [
    "bend_action"
   ]
  },
  {
   "cell_type": "code",
   "execution_count": 25,
   "metadata": {
    "tags": [
     "nbval-skip"
    ]
   },
   "outputs": [
    {
     "data": {
      "application/vnd.jupyter.widget-view+json": {
       "model_id": "665aa037e4ab4a70be1e368c19c7a18b",
       "version_major": 2,
       "version_minor": 0
      },
      "text/html": [
       "<p>Failed to display Jupyter Widget of type <code>AnimationAction</code>.</p>\n",
       "<p>\n",
       "  If you're reading this message in the Jupyter Notebook or JupyterLab Notebook, it may mean\n",
       "  that the widgets JavaScript is still loading. If this message persists, it\n",
       "  likely means that the widgets JavaScript library is either not installed or\n",
       "  not enabled. See the <a href=\"https://ipywidgets.readthedocs.io/en/stable/user_install.html\">Jupyter\n",
       "  Widgets Documentation</a> for setup instructions.\n",
       "</p>\n",
       "<p>\n",
       "  If you're reading this message in another frontend (for example, a static\n",
       "  rendering on GitHub or <a href=\"https://nbviewer.jupyter.org/\">NBViewer</a>),\n",
       "  it may mean that your frontend doesn't currently support widgets.\n",
       "</p>\n"
      ],
      "text/plain": [
       "AnimationAction(clip=AnimationClip(duration=2.0, tracks=(NumberKeyframeTrack(name='.bones[1].rotation[y]', times=array([0. , 0.5, 1.5, 2. ], dtype=float32), values=array([ 0. ,  0.7, -0.7,  0. ], dtype=float32)), NumberKeyframeTrack(name='.bones[2].rotation[y]', times=array([0. , 0.5, 1.5, 2. ], dtype=float32), values=array([ 0. ,  0.7, -0.7,  0. ], dtype=float32)))), localRoot=SkinnedMesh(children=(Bone(children=(Bone(children=(Bone(position=(0.0, 25.0, 0.0), quaternion=(0.0, 0.0, 0.0, 1.0), scale=(1.0, 1.0, 1.0), up=(0.0, 1.0, 0.0)),), position=(0.0, 25.0, 0.0), quaternion=(0.0, 0.0, 0.0, 1.0), scale=(1.0, 1.0, 1.0), up=(0.0, 1.0, 0.0)),), position=(0.0, -25.0, 0.0), quaternion=(0.0, 0.0, 0.0, 1.0), scale=(1.0, 1.0, 1.0), up=(0.0, 1.0, 0.0)),), geometry=BufferGeometry(attributes={'position': <BufferAttribute shape=(96, 3), dtype=float32>, 'normal': <BufferAttribute shape=(96, 3), dtype=float32>, 'uv': <BufferAttribute shape=(96, 2), dtype=float32>, 'skinIndex': <BufferAttribute shape=(96, 4), dtype=float32>, 'skinWeight': <BufferAttribute shape=(96, 4), dtype=float32>}), material=MeshPhongMaterial(alphaMap=None, aoMap=None, bumpMap=None, displacementMap=None, emissiveMap=None, envMap=None, lightMap=None, map=None, normalMap=None, normalScale=(1.0, 1.0), side='DoubleSide', skinning=True, specularMap=None), quaternion=(0.0, 0.0, 0.0, 1.0), scale=(1.0, 1.0, 1.0), skeleton=Skeleton(bones=(Bone(children=(Bone(children=(Bone(position=(0.0, 25.0, 0.0), quaternion=(0.0, 0.0, 0.0, 1.0), scale=(1.0, 1.0, 1.0), up=(0.0, 1.0, 0.0)),), position=(0.0, 25.0, 0.0), quaternion=(0.0, 0.0, 0.0, 1.0), scale=(1.0, 1.0, 1.0), up=(0.0, 1.0, 0.0)),), position=(0.0, -25.0, 0.0), quaternion=(0.0, 0.0, 0.0, 1.0), scale=(1.0, 1.0, 1.0), up=(0.0, 1.0, 0.0)), Bone(children=(Bone(position=(0.0, 25.0, 0.0), quaternion=(0.0, 0.0, 0.0, 1.0), scale=(1.0, 1.0, 1.0), up=(0.0, 1.0, 0.0)),), position=(0.0, 25.0, 0.0), quaternion=(0.0, 0.0, 0.0, 1.0), scale=(1.0, 1.0, 1.0), up=(0.0, 1.0, 0.0)), Bone(position=(0.0, 25.0, 0.0), quaternion=(0.0, 0.0, 0.0, 1.0), scale=(1.0, 1.0, 1.0), up=(0.0, 1.0, 0.0)))), up=(0.0, 1.0, 0.0)), mixer=AnimationMixer(rootObject=SkinnedMesh(children=(Bone(children=(Bone(children=(Bone(position=(0.0, 25.0, 0.0), quaternion=(0.0, 0.0, 0.0, 1.0), scale=(1.0, 1.0, 1.0), up=(0.0, 1.0, 0.0)),), position=(0.0, 25.0, 0.0), quaternion=(0.0, 0.0, 0.0, 1.0), scale=(1.0, 1.0, 1.0), up=(0.0, 1.0, 0.0)),), position=(0.0, -25.0, 0.0), quaternion=(0.0, 0.0, 0.0, 1.0), scale=(1.0, 1.0, 1.0), up=(0.0, 1.0, 0.0)),), geometry=BufferGeometry(attributes={'position': <BufferAttribute shape=(96, 3), dtype=float32>, 'normal': <BufferAttribute shape=(96, 3), dtype=float32>, 'uv': <BufferAttribute shape=(96, 2), dtype=float32>, 'skinIndex': <BufferAttribute shape=(96, 4), dtype=float32>, 'skinWeight': <BufferAttribute shape=(96, 4), dtype=float32>}), material=MeshPhongMaterial(alphaMap=None, aoMap=None, bumpMap=None, displacementMap=None, emissiveMap=None, envMap=None, lightMap=None, map=None, normalMap=None, normalScale=(1.0, 1.0), side='DoubleSide', skinning=True, specularMap=None), quaternion=(0.0, 0.0, 0.0, 1.0), scale=(1.0, 1.0, 1.0), skeleton=Skeleton(bones=(Bone(children=(Bone(children=(Bone(position=(0.0, 25.0, 0.0), quaternion=(0.0, 0.0, 0.0, 1.0), scale=(1.0, 1.0, 1.0), up=(0.0, 1.0, 0.0)),), position=(0.0, 25.0, 0.0), quaternion=(0.0, 0.0, 0.0, 1.0), scale=(1.0, 1.0, 1.0), up=(0.0, 1.0, 0.0)),), position=(0.0, -25.0, 0.0), quaternion=(0.0, 0.0, 0.0, 1.0), scale=(1.0, 1.0, 1.0), up=(0.0, 1.0, 0.0)), Bone(children=(Bone(position=(0.0, 25.0, 0.0), quaternion=(0.0, 0.0, 0.0, 1.0), scale=(1.0, 1.0, 1.0), up=(0.0, 1.0, 0.0)),), position=(0.0, 25.0, 0.0), quaternion=(0.0, 0.0, 0.0, 1.0), scale=(1.0, 1.0, 1.0), up=(0.0, 1.0, 0.0)), Bone(position=(0.0, 25.0, 0.0), quaternion=(0.0, 0.0, 0.0, 1.0), scale=(1.0, 1.0, 1.0), up=(0.0, 1.0, 0.0)))), up=(0.0, 1.0, 0.0))))"
      ]
     },
     "metadata": {},
     "output_type": "display_data"
    }
   ],
   "source": [
    "wring_action"
   ]
  },
  {
   "cell_type": "code",
   "execution_count": null,
   "metadata": {},
   "outputs": [],
   "source": []
  }
 ],
 "metadata": {
  "kernelspec": {
   "display_name": "Python 3",
   "language": "python",
   "name": "python3"
  },
  "language_info": {
   "codemirror_mode": {
    "name": "ipython",
    "version": 3
   },
   "file_extension": ".py",
   "mimetype": "text/x-python",
   "name": "python",
   "nbconvert_exporter": "python",
   "pygments_lexer": "ipython3",
   "version": "3.6.4"
  },
  "widgets": {
   "application/vnd.jupyter.widget-state+json": {
    "state": {
     "0304ecb4ed1143bcad346b55dcbec86e": {
      "model_module": "jupyter-threejs",
      "model_module_version": "1.0.0-beta.4",
      "model_name": "BoneModel",
      "state": {
       "_view_module": null,
       "_view_module_version": "",
       "children": [
        "IPY_MODEL_fe7d6be53ed14f83aefad6e22b36689b"
       ],
       "position": [
        0,
        -25,
        0
       ],
       "type": "Bone"
      }
     },
     "04f524ee1fff4e949f18831f62b60ee0": {
      "buffers": [
       {
        "data": "AAAAAAIAAAAFAAAA",
        "encoding": "base64",
        "path": [
         "times",
         "buffer"
        ]
       },
       {
        "data": "f2o8vgAAwD6/Dpw9FK5nP39qPL4AAMA+vw6cPRSuZz/FIDC9d74fvmwm37sIrHw/",
        "encoding": "base64",
        "path": [
         "values",
         "buffer"
        ]
       }
      ],
      "model_module": "jupyter-threejs",
      "model_module_version": "1.0.0-beta.4",
      "model_name": "QuaternionKeyframeTrackModel",
      "state": {
       "_view_module": null,
       "_view_module_version": "",
       "name": ".quaternion",
       "times": {
        "dtype": "int32",
        "shape": [
         3
        ]
       },
       "type": "Bone",
       "values": {
        "dtype": "float32",
        "shape": [
         12
        ]
       }
      }
     },
     "0568aa6c-903a-43ec-9048-d80ce23b1bc9": {
      "model_module": "jupyter-threejs",
      "model_module_version": "1.0.0-beta.4",
      "model_name": "Object3DModel",
      "state": {
       "type": "Object3D"
      }
     },
     "05e624ff-8139-4a39-bfc2-866842091a87": {
      "model_module": "jupyter-threejs",
      "model_module_version": "1.0.0-beta.4",
      "model_name": "Object3DModel",
      "state": {
       "type": "Object3D"
      }
     },
     "06b9defcec5d43c590ef3a90b183a850": {
      "model_module": "jupyter-threejs",
      "model_module_version": "1.0.0-beta.4",
      "model_name": "OrbitControlsModel",
      "state": {
       "_view_module": null,
       "_view_module_version": "",
       "controlling": "IPY_MODEL_57273feb5932436482db5fdb2fef14c1",
       "maxAzimuthAngle": "inf",
       "maxDistance": "inf",
       "maxZoom": "inf",
       "minAzimuthAngle": "-inf"
      }
     },
     "083bf74e0bb14cc780c132c6f45fe369": {
      "buffers": [
       {
        "data": "AAAAAAAAAD8AAMA/AAAAQA==",
        "encoding": "base64",
        "path": [
         "times",
         "buffer"
        ]
       },
       {
        "data": "AAAAAJqZmT6amZm+AAAAAA==",
        "encoding": "base64",
        "path": [
         "values",
         "buffer"
        ]
       }
      ],
      "model_module": "jupyter-threejs",
      "model_module_version": "1.0.0-beta.4",
      "model_name": "NumberKeyframeTrackModel",
      "state": {
       "_view_module": null,
       "_view_module_version": "",
       "name": ".bones[1].rotation[x]",
       "times": {
        "dtype": "float32",
        "shape": [
         4
        ]
       },
       "type": "Bone",
       "values": {
        "dtype": "float32",
        "shape": [
         4
        ]
       }
      }
     },
     "087e4843e5a74971b1520d088a7d56a4": {
      "model_module": "jupyter-threejs",
      "model_module_version": "1.0.0-beta.4",
      "model_name": "SceneModel",
      "state": {
       "_view_module": null,
       "_view_module_version": "",
       "children": [
        "IPY_MODEL_ba310b776b554a6f9991fea547d71563",
        "IPY_MODEL_b84d09220c614f188eb059f6c60ce9eb",
        "IPY_MODEL_482685a7d8564069ab800ecebd478b4d",
        "IPY_MODEL_d3757a6356d0474dacdcab96327584c6",
        "IPY_MODEL_3984926ff30c4a508e61c31f7fce94aa"
       ],
       "type": "Scene"
      }
     },
     "08ead024f1f44519b180cd3d38f8b379": {
      "model_module": "jupyter-threejs",
      "model_module_version": "1.0.0-beta.4",
      "model_name": "MeshPhongMaterialModel",
      "state": {
       "_view_module": null,
       "_view_module_version": "",
       "side": "DoubleSide",
       "skinning": true,
       "type": "MeshPhongMaterial"
      }
     },
     "0b470d1a7047445585ed1d80e6314aed": {
      "model_module": "@jupyter-widgets/base",
      "model_module_version": "1.0.0",
      "model_name": "LayoutModel",
      "state": {}
     },
     "0d5faea4-8e36-4061-8194-ef284a0fcebe": {
      "model_module": "jupyter-threejs",
      "model_module_version": "1.0.0-beta.4",
      "model_name": "OrthographicCameraModel",
      "state": {
       "bottom": -5,
       "far": 500,
       "left": -5,
       "near": 0.5,
       "projectionMatrix": [
        0.2,
        0,
        0,
        0,
        0,
        0.2,
        0,
        0,
        0,
        0,
        -0.004004004004004004,
        0,
        0,
        0,
        -1.002002002002002,
        1
       ],
       "right": 5,
       "top": 5
      }
     },
     "0e9ff5cfeed54a5ab771a553516b4388": {
      "model_module": "jupyter-threejs",
      "model_module_version": "1.0.0-beta.4",
      "model_name": "SkeletonModel",
      "state": {
       "_view_module": null,
       "_view_module_version": "",
       "bones": [
        "IPY_MODEL_0304ecb4ed1143bcad346b55dcbec86e",
        "IPY_MODEL_fe7d6be53ed14f83aefad6e22b36689b",
        "IPY_MODEL_3364136f8f3946b3a687f479e6d395a9"
       ]
      }
     },
     "0ff90c0f2b364aa9b81a8b0ea5c37919": {
      "model_module": "jupyter-threejs",
      "model_module_version": "1.0.0-beta.4",
      "model_name": "AnimationMixerModel",
      "state": {
       "_view_module": null,
       "_view_module_version": "",
       "rootObject": "IPY_MODEL_7aeca132905345d6a6cc015626412b03"
      }
     },
     "12eaad2aa913455282c722b2bfc216c0": {
      "model_module": "jupyter-threejs",
      "model_module_version": "1.0.0-beta.4",
      "model_name": "AnimationMixerModel",
      "state": {
       "_view_module": null,
       "_view_module_version": "",
       "rootObject": "IPY_MODEL_482685a7d8564069ab800ecebd478b4d"
      }
     },
     "133c68c020cd46fdaee04cede79be04e": {
      "model_module": "jupyter-threejs",
      "model_module_version": "1.0.0-beta.4",
      "model_name": "SceneModel",
      "state": {
       "_view_module": null,
       "_view_module_version": "",
       "children": [
        "IPY_MODEL_1699b6b842414fd2a3618d34b4d864e5",
        "IPY_MODEL_d57ddb4b69ff4e8d83be86d273accb8e",
        "IPY_MODEL_ca317ae15cd645c296683f3ddf31715b",
        "IPY_MODEL_9511ad2b32104926993e6af18c04a38b"
       ],
       "type": "Scene"
      }
     },
     "161ed1e8f9384df786bb06960c064b63": {
      "model_module": "jupyter-threejs",
      "model_module_version": "1.0.0-beta.4",
      "model_name": "RendererModel",
      "state": {
       "_height": 400,
       "_width": 600,
       "camera": "IPY_MODEL_63363ddea1874caa82f7532623238abe",
       "controls": [
        "IPY_MODEL_9978ff90c29948e5ae61cd5f0073b541"
       ],
       "layout": "IPY_MODEL_59eda77c7c6b4de4b235a934c930d7b5",
       "scene": "IPY_MODEL_7f383b17ed7e45cca88270e04d74aac7",
       "shadowMap": "IPY_MODEL_7552aee94ae743b785e0610076368d04"
      }
     },
     "1699b6b842414fd2a3618d34b4d864e5": {
      "model_module": "jupyter-threejs",
      "model_module_version": "1.0.0-beta.4",
      "model_name": "GroupModel",
      "state": {
       "_view_module": null,
       "_view_module_version": "",
       "children": [
        "IPY_MODEL_4d41212879b24ba1a1fe72f62a1e5e97",
        "IPY_MODEL_569b167f4d8d4a1a91e83efa537f24e9"
       ],
       "type": "Group"
      }
     },
     "1ba7f975416e49a79587b3ef57cde0a6": {
      "model_module": "jupyter-threejs",
      "model_module_version": "1.0.0-beta.4",
      "model_name": "OrbitControlsModel",
      "state": {
       "_view_module": null,
       "_view_module_version": "",
       "controlling": "IPY_MODEL_482685a7d8564069ab800ecebd478b4d",
       "maxAzimuthAngle": "inf",
       "maxDistance": "inf",
       "maxZoom": "inf",
       "minAzimuthAngle": "-inf"
      }
     },
     "1d248d02-d060-4124-b1fa-e3b49454c38f": {
      "model_module": "jupyter-threejs",
      "model_module_version": "1.0.0-beta.4",
      "model_name": "OrthographicCameraModel",
      "state": {
       "bottom": -5,
       "far": 500,
       "left": -5,
       "near": 0.5,
       "projectionMatrix": [
        0.2,
        0,
        0,
        0,
        0,
        0.2,
        0,
        0,
        0,
        0,
        -0.004004004004004004,
        0,
        0,
        0,
        -1.002002002002002,
        1
       ],
       "right": 5,
       "top": 5
      }
     },
     "1db5d15e00c942c5ba917773100649c0": {
      "buffers": [
       {
        "data": "AAAAAAEAAAA=",
        "encoding": "base64",
        "path": [
         "times",
         "buffer"
        ]
       },
       {
        "data": "AQAAAAAAAAAAAAAAAAAAAAAAAAABAAAA",
        "encoding": "base64",
        "path": [
         "values",
         "buffer"
        ]
       }
      ],
      "model_module": "jupyter-threejs",
      "model_module_version": "1.0.0-beta.4",
      "model_name": "ColorKeyframeTrackModel",
      "state": {
       "_view_module": null,
       "_view_module_version": "",
       "name": ".material.color",
       "times": {
        "dtype": "int32",
        "shape": [
         2
        ]
       },
       "type": "Bone",
       "values": {
        "dtype": "int32",
        "shape": [
         6
        ]
       }
      }
     },
     "1f35e04b-3777-401d-99d1-c9701ca6421a": {
      "buffers": [
       {
        "data": "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",
        "encoding": "base64",
        "path": [
         "array",
         "buffer"
        ]
       }
      ],
      "model_module": "jupyter-threejs",
      "model_module_version": "1.0.0-beta.4",
      "model_name": "BufferAttributeModel",
      "state": {
       "array": {
        "dtype": "float32",
        "shape": [
         561,
         3
        ]
       },
       "normalized": false,
       "version": 0
      }
     },
     "2efdd315b44341ad9ddc2ba8cda07079": {
      "model_module": "jupyter-threejs",
      "model_module_version": "1.0.0-beta.4",
      "model_name": "WebGLShadowMapModel",
      "state": {
       "_view_module": null,
       "_view_module_version": ""
      }
     },
     "2f876a8eec0a432ea2fc39dad67c5314": {
      "model_module": "jupyter-threejs",
      "model_module_version": "1.0.0-beta.4",
      "model_name": "DirectionalLightModel",
      "state": {
       "_view_module": null,
       "_view_module_version": "",
       "intensity": 0.6,
       "matrixWorldNeedsUpdate": true,
       "position": [
        3,
        5,
        1
       ],
       "shadow": "IPY_MODEL_788a0da8-6af2-4c03-b17d-160e703f28ae",
       "target": "IPY_MODEL_05e624ff-8139-4a39-bfc2-866842091a87",
       "type": "DirectionalLight"
      }
     },
     "303930afa87e4508b915e1610f5365e3": {
      "model_module": "jupyter-threejs",
      "model_module_version": "1.0.0-beta.4",
      "model_name": "AnimationActionModel",
      "state": {
       "_model_module": "jupyter-threejs",
       "_model_module_version": "1.0.0-beta.4",
       "_model_name": "AnimationActionModel",
       "_view_module_version": "1.0.0-beta.4",
       "clip": "IPY_MODEL_73193216f64c43148db4c217aaec156c",
       "layout": "IPY_MODEL_d73b3b15e93a4857846f4fd2a5b9f149",
       "localRoot": "IPY_MODEL_7aeca132905345d6a6cc015626412b03",
       "mixer": "IPY_MODEL_0ff90c0f2b364aa9b81a8b0ea5c37919",
       "repititions": "inf"
      }
     },
     "307263b8439a49f4842c6aa31b6bbbca": {
      "model_module": "jupyter-threejs",
      "model_module_version": "1.0.0-beta.4",
      "model_name": "CylinderBufferGeometryModel",
      "state": {
       "_view_module": null,
       "_view_module_version": "",
       "height": 50,
       "heightSegments": 15,
       "openEnded": true,
       "radiusBottom": 5,
       "radiusSegments": 5,
       "radiusTop": 5,
       "type": "CylinderBufferGeometry"
      }
     },
     "3364136f8f3946b3a687f479e6d395a9": {
      "model_module": "jupyter-threejs",
      "model_module_version": "1.0.0-beta.4",
      "model_name": "BoneModel",
      "state": {
       "_view_module": null,
       "_view_module_version": "",
       "position": [
        0,
        25,
        0
       ],
       "type": "Bone"
      }
     },
     "34969d8bc62a4767937e79e1822b1430": {
      "model_module": "jupyter-threejs",
      "model_module_version": "1.0.0-beta.4",
      "model_name": "MeshModel",
      "state": {
       "_view_module": null,
       "_view_module_version": "",
       "geometry": "IPY_MODEL_7a3e8ed3b0f04db5a936814848893eb1",
       "material": "IPY_MODEL_a9c0a00b62c649eca0eec42e88b29b61"
      }
     },
     "35466b0ac1744059885b1c63c97fad88": {
      "model_module": "jupyter-threejs",
      "model_module_version": "1.0.0-beta.4",
      "model_name": "OrbitControlsModel",
      "state": {
       "_view_module": null,
       "_view_module_version": "",
       "controlling": "IPY_MODEL_d57ddb4b69ff4e8d83be86d273accb8e",
       "maxAzimuthAngle": "inf",
       "maxDistance": "inf",
       "maxZoom": "inf",
       "minAzimuthAngle": "-inf"
      }
     },
     "35e34a65ed8d413f930c9209fec1cda0": {
      "model_module": "jupyter-threejs",
      "model_module_version": "1.0.0-beta.4",
      "model_name": "RendererModel",
      "state": {
       "_height": 400,
       "_width": 600,
       "camera": "IPY_MODEL_d57ddb4b69ff4e8d83be86d273accb8e",
       "controls": [
        "IPY_MODEL_35466b0ac1744059885b1c63c97fad88"
       ],
       "layout": "IPY_MODEL_b60f5c87c1b54db49a65d4a90e42edb4",
       "scene": "IPY_MODEL_133c68c020cd46fdaee04cede79be04e",
       "shadowMap": "IPY_MODEL_2efdd315b44341ad9ddc2ba8cda07079"
      }
     },
     "3984926ff30c4a508e61c31f7fce94aa": {
      "model_module": "jupyter-threejs",
      "model_module_version": "1.0.0-beta.4",
      "model_name": "AmbientLightModel",
      "state": {
       "_view_module": null,
       "_view_module_version": "",
       "type": "AmbientLight"
      }
     },
     "3df6dd9231c949b287d49324dfa81a70": {
      "buffers": [
       {
        "data": "AAAAAAAAAD8AAMA/AAAAQA==",
        "encoding": "base64",
        "path": [
         "times",
         "buffer"
        ]
       },
       {
        "data": "AAAAAJqZmT6amZm+AAAAAA==",
        "encoding": "base64",
        "path": [
         "values",
         "buffer"
        ]
       }
      ],
      "model_module": "jupyter-threejs",
      "model_module_version": "1.0.0-beta.4",
      "model_name": "NumberKeyframeTrackModel",
      "state": {
       "_view_module": null,
       "_view_module_version": "",
       "name": ".bones[1].rotation[z]",
       "times": {
        "dtype": "float32",
        "shape": [
         4
        ]
       },
       "type": "Bone",
       "values": {
        "dtype": "float32",
        "shape": [
         4
        ]
       }
      }
     },
     "423154fa-ae56-4877-9f91-54a3c67f0aa1": {
      "buffers": [
       {
        "data": "AAAAAAAAgD/NzEw+AACAP83MzD4AAIA/mpkZPwAAgD/NzEw/AACAPwAAgD8AAIA/AAAAAO/ubj/NzEw+7+5uP83MzD7v7m4/mpkZP+/ubj/NzEw/7+5uPwAAgD/v7m4/AAAAAN7dXT/NzEw+3t1dP83MzD7e3V0/mpkZP97dXT/NzEw/3t1dPwAAgD/e3V0/AAAAAM3MTD/NzEw+zcxMP83MzD7NzEw/mpkZP83MTD/NzEw/zcxMPwAAgD/NzEw/AAAAALy7Oz/NzEw+vLs7P83MzD68uzs/mpkZP7y7Oz/NzEw/vLs7PwAAgD+8uzs/AAAAAKuqKj/NzEw+q6oqP83MzD6rqio/mpkZP6uqKj/NzEw/q6oqPwAAgD+rqio/AAAAAJqZGT/NzEw+mpkZP83MzD6amRk/mpkZP5qZGT/NzEw/mpkZPwAAgD+amRk/AAAAAImICD/NzEw+iYgIP83MzD6JiAg/mpkZP4mICD/NzEw/iYgIPwAAgD+JiAg/AAAAAO/u7j7NzEw+7+7uPs3MzD7v7u4+mpkZP+/u7j7NzEw/7+7uPgAAgD/v7u4+AAAAAM3MzD7NzEw+zczMPs3MzD7NzMw+mpkZP83MzD7NzEw/zczMPgAAgD/NzMw+AAAAAKuqqj7NzEw+q6qqPs3MzD6rqqo+mpkZP6uqqj7NzEw/q6qqPgAAgD+rqqo+AAAAAImIiD7NzEw+iYiIPs3MzD6JiIg+mpkZP4mIiD7NzEw/iYiIPgAAgD+JiIg+AAAAAM3MTD7NzEw+zcxMPs3MzD7NzEw+mpkZP83MTD7NzEw/zcxMPgAAgD/NzEw+AAAAAImICD7NzEw+iYgIPs3MzD6JiAg+mpkZP4mICD7NzEw/iYgIPgAAgD+JiAg+AAAAAImIiD3NzEw+iYiIPc3MzD6JiIg9mpkZP4mIiD3NzEw/iYiIPQAAgD+JiIg9AAAAAAAAAADNzEw+AAAAAM3MzD4AAAAAmpkZPwAAAADNzEw/AAAAAAAAgD8AAAAA",
        "encoding": "base64",
        "path": [
         "array",
         "buffer"
        ]
       }
      ],
      "model_module": "jupyter-threejs",
      "model_module_version": "1.0.0-beta.4",
      "model_name": "BufferAttributeModel",
      "state": {
       "array": {
        "dtype": "float32",
        "shape": [
         96,
         2
        ]
       },
       "normalized": false,
       "version": 0
      }
     },
     "42ac08f0c37d4cb996ae7274a9fe9a02": {
      "model_module": "jupyter-threejs",
      "model_module_version": "1.0.0-beta.4",
      "model_name": "BoxBufferGeometryModel",
      "state": {
       "_view_module": null,
       "_view_module_version": "",
       "type": "BoxBufferGeometry"
      }
     },
     "44ed5613512348c6b814e9a155b81b90": {
      "model_module": "jupyter-threejs",
      "model_module_version": "1.0.0-beta.4",
      "model_name": "AmbientLightModel",
      "state": {
       "_view_module": null,
       "_view_module_version": "",
       "intensity": 0.5,
       "type": "AmbientLight"
      }
     },
     "46b3539903de4d48b0845ff31db9c37d": {
      "model_module": "jupyter-threejs",
      "model_module_version": "1.0.0-beta.4",
      "model_name": "WebGLShadowMapModel",
      "state": {
       "_view_module": null,
       "_view_module_version": ""
      }
     },
     "47ed4691f03f4803920d786fcbacbedb": {
      "model_module": "jupyter-threejs",
      "model_module_version": "1.0.0-beta.4",
      "model_name": "AnimationClipModel",
      "state": {
       "_view_module": null,
       "_view_module_version": "",
       "duration": 5,
       "tracks": [
        "IPY_MODEL_fd06057c9cdd49b6a53d753db8730feb",
        "IPY_MODEL_04f524ee1fff4e949f18831f62b60ee0"
       ]
      }
     },
     "482685a7d8564069ab800ecebd478b4d": {
      "model_module": "jupyter-threejs",
      "model_module_version": "1.0.0-beta.4",
      "model_name": "PerspectiveCameraModel",
      "state": {
       "_view_module": null,
       "_view_module_version": "",
       "aspect": 1.5,
       "position": [
        10,
        6,
        10
       ],
       "projectionMatrix": [
        1.4296712803397058,
        0,
        0,
        0,
        0,
        2.1445069205095586,
        0,
        0,
        0,
        0,
        -1.00010000500025,
        -1,
        0,
        0,
        -0.200010000500025,
        0
       ]
      }
     },
     "4a77782b47ed4bb99e0af12b532a03cc": {
      "model_module": "@jupyter-widgets/base",
      "model_module_version": "1.0.0",
      "model_name": "LayoutModel",
      "state": {}
     },
     "4d41212879b24ba1a1fe72f62a1e5e97": {
      "model_module": "jupyter-threejs",
      "model_module_version": "1.0.0-beta.4",
      "model_name": "MeshModel",
      "state": {
       "_view_module": null,
       "_view_module_version": "",
       "geometry": "IPY_MODEL_b43845c540da4a3bbb438c09111d1dc8",
       "material": "IPY_MODEL_9a3660791d55462687b48eb07bf20ff6",
       "morphTargetInfluences": []
      }
     },
     "4d88177b29b547febd8f39a7a0f94855": {
      "model_module": "@jupyter-widgets/base",
      "model_module_version": "1.0.0",
      "model_name": "LayoutModel",
      "state": {}
     },
     "501309c9ea6645d9bf31b668d3fb03b5": {
      "buffers": [
       {
        "data": "AAAAAAAAAD8AAMA/AAAAQA==",
        "encoding": "base64",
        "path": [
         "times",
         "buffer"
        ]
       },
       {
        "data": "AAAAAJqZmb6amZk+AAAAAA==",
        "encoding": "base64",
        "path": [
         "values",
         "buffer"
        ]
       }
      ],
      "model_module": "jupyter-threejs",
      "model_module_version": "1.0.0-beta.4",
      "model_name": "NumberKeyframeTrackModel",
      "state": {
       "_view_module": null,
       "_view_module_version": "",
       "name": ".bones[2].rotation[z]",
       "times": {
        "dtype": "float32",
        "shape": [
         4
        ]
       },
       "type": "Bone",
       "values": {
        "dtype": "float32",
        "shape": [
         4
        ]
       }
      }
     },
     "5184d6151d6e428094d4befd90e683d0": {
      "model_module": "jupyter-threejs",
      "model_module_version": "1.0.0-beta.4",
      "model_name": "DirectionalLightModel",
      "state": {
       "_view_module": null,
       "_view_module_version": "",
       "intensity": 0.6,
       "matrixWorldNeedsUpdate": true,
       "position": [
        3,
        5,
        1
       ],
       "shadow": "IPY_MODEL_de84ba1f-344d-4d39-bcfe-7c0e418f5ac5",
       "target": "IPY_MODEL_bb88f78d-528d-4ddd-9c4f-3fd6e2f8912b",
       "type": "DirectionalLight"
      }
     },
     "55ceb7bfdb4f4d2c89bcb0ac03db8a18": {
      "model_module": "@jupyter-widgets/base",
      "model_module_version": "1.0.0",
      "model_name": "LayoutModel",
      "state": {}
     },
     "569b167f4d8d4a1a91e83efa537f24e9": {
      "model_module": "jupyter-threejs",
      "model_module_version": "1.0.0-beta.4",
      "model_name": "MeshModel",
      "state": {
       "_view_module": null,
       "_view_module_version": "",
       "geometry": "IPY_MODEL_b43845c540da4a3bbb438c09111d1dc8",
       "material": "IPY_MODEL_dbb4713aa5f84fa5bd17d8b52668f938",
       "morphTargetInfluences": []
      }
     },
     "57273feb5932436482db5fdb2fef14c1": {
      "model_module": "jupyter-threejs",
      "model_module_version": "1.0.0-beta.4",
      "model_name": "PerspectiveCameraModel",
      "state": {
       "_view_module": null,
       "_view_module_version": "",
       "aspect": 1.5,
       "position": [
        40,
        24,
        40
       ],
       "projectionMatrix": [
        1.4296712803397058,
        0,
        0,
        0,
        0,
        2.1445069205095586,
        0,
        0,
        0,
        0,
        -1.00010000500025,
        -1,
        0,
        0,
        -0.200010000500025,
        0
       ]
      }
     },
     "58561ef05a0e49f18f5fa24c820d522f": {
      "buffers": [
       {
        "data": "AAAAgAAAgD8AAAAAAAAAgAAAgD8AAAAAAAAAgAAAgD8AAAAAAAAAgAAAgD8AAAAAAAAAgAAAgD8AAAAAAAAAgAAAgD8AAAAAAAAAgAAAgD8AAAAAAAAAgAAAgD8AAAAAAAAAgAAAgD8AAAAAAAAAAAAAgD8AAAAAAAAAAAAAgD8AAAAAAAAAAAAAgD8AAAAAAAAAAAAAgD8AAAAAAAAAAAAAgD8AAAAAAAAAAAAAgD8AAAAAAAAAAAAAgD8AAAAAAAAAAAAAgD8AAAAAAAAAAAAAgD8AAACAAAAAAAAAgD8AAACAAAAAAAAAgD8AAACAAAAAAAAAgD8AAACAAAAAAAAAgD8AAACAAAAAAAAAgD8AAACAAAAAAAAAgD8AAACAAAAAAAAAgD8AAACAAAAAgAAAgD8AAACAAAAAgAAAgD8AAACAAAAAgAAAgD8AAACAAAAAgAAAgD8AAACAAAAAgAAAgD8AAACAAAAAgAAAgD8AAACAAAAAgAAAgD8AAACAAAAAgAAAgD8AAACAwsVHvr4Uez8AAAAAFe9Dvr4Uez8M5Rs905A4vr4Uez815pg90Romvr4Uez+t+d09r0INvr4Uez+vQg0+rfndvb4Uez/RGiY+NeaYvb4Uez/TkDg+DOUbvb4Uez8V70M+n1xco74Uez/CxUc+KN+EP74Uez8V70M+Y46JP74Uez/TkDg+m9+NP74Uez/RGiY+VqiRP74Uez+vQg0+WsOUP74Uez+t+d09GhKXP74Uez815pg9432YP74Uez8M5Rs9uPiYP74Uez+fXNwj432YP74Uez8M5Ru9GhKXP74Uez815pi9WsOUP74Uez+t+d29VqiRP74Uez+vQg2+m9+NP74Uez/RGia+Y46JP74Uez/TkDi+KN+EP74Uez8V70O+AACAP74Uez/CxUe+DOUbvb4Uez8V70O+NeaYvb4Uez/TkDi+rfndvb4Uez/RGia+r0INvr4Uez+vQg2+0Romvr4Uez+t+d2905A4vr4Uez815pi9Fe9Dvr4Uez8M5Ru9wsVHvr4Uez+fXFykFe/Dvl6DbD8AAAAASivAvl6DbD815pg98wS1vl6DbD8a9hU+wemivl6DbD/JtVk+1IuKvl6DbD/Ui4o+ybVZvl6DbD/B6aI+GvYVvl6DbD/zBLU+NeaYvV6DbD9KK8A+qyDYo16DbD8V78M+Y46JP16DbD9KK8A+w76SP16DbD/zBLU+uTabP16DbD/B6aI+9aKiP16DbD/Ui4o+cLqoP16DbD/JtVk+PUGtP16DbD8a9hU+0gqwP16DbD815pg9xfuwP16DbD+rIFgk0gqwP16DbD815pi9PUGtP16DbD8a9hW+cLqoP16DbD/JtVm+9aKiP16DbD/Ui4q+uTabP16DbD/B6aK+w76SP16DbD/zBLW+Y46JP16DbD9KK8C+AACAP16DbD8V78O+NeaYvV6DbD9KK8C+GvYVvl6DbD/zBLW+ybVZvl6DbD/B6aK+1IuKvl6DbD/Ui4q+wemivl6DbD/JtVm+8wS1vl6DbD8a9hW+SivAvl6DbD815pi9Fe/Dvl6DbD+rINik2jkOvzHbVD8AAAAAP34LvzHbVD+t+d09UWYDvzHbVD/JtVk+XoPsvjHbVD91CJ4+TiPJvjHbVD9OI8k+dQievjHbVD9eg+w+ybVZvjHbVD9RZgM/rfndvTHbVD8/fgs/Y+IcpDHbVD/aOQ4/m9+NPzHbVD8/fgs/uTabPzHbVD9RZgM/HYKnPzHbVD9eg+w+1EiyPzHbVD9OI8k+2CC7PzHbVD91CJ4+KLPBPzHbVD/JtVk+IL/FPzHbVD+t+d097RzHPzHbVD9j4pwkIL/FPzHbVD+t+d29KLPBPzHbVD/JtVm+2CC7PzHbVD91CJ6+1EiyPzHbVD9OI8m+HYKnPzHbVD9eg+y+uTabPzHbVD9RZgO/m9+NPzHbVD8/fgu/AACAPzHbVD/aOQ6/rfndvTHbVD8/fgu/ybVZvjHbVD9RZgO/dQievjHbVD9eg+y+TiPJvjHbVD9OI8m+XoPsvjHbVD91CJ6+UWYDvzHbVD/JtVm+P34LvzHbVD+t+d292jkOvzHbVD9j4hyl8wQ1v/MENT8AAAAAhooxv/MENT+vQg0+dT0nv/MENT/Ui4o+F4MWv/MENT9OI8k+AAAAv/MENT8AAAA/TiPJvvMENT8XgxY/1IuKvvMENT91PSc/r0INvvMENT+GijE/Bq1HpPMENT/zBDU/VqiRP/MENT+GijE/9aKiP/MENT91PSc/1EiyP/MENT8XgxY/AADAP/MENT8AAAA/jEHLP/MENT9OI8k+up7TP/MENT/Ui4o+Q8XYP/MENT+vQg0+eoLaP/MENT8GrcckQ8XYP/MENT+vQg2+up7TP/MENT/Ui4q+jEHLP/MENT9OI8m+AADAP/MENT8AAAC/1EiyP/MENT8Xgxa/9aKiP/MENT91PSe/VqiRP/MENT+GijG/AACAP/MENT/zBDW/r0INvvMENT+GijG/1IuKvvMENT91PSe/TiPJvvMENT8Xgxa/AAAAv/MENT8AAAC/F4MWv/MENT9OI8m+dT0nv/MENT/Ui4q+hooxv/MENT+vQg2+8wQ1v/MENT8GrUelMdtUv9o5Dj8AAAAAKcRQv9o5Dj/RGiY+TKdEv9o5Dj/B6aI+xfswv9o5Dj9eg+w+F4MWv9o5Dj8XgxY/XoPsvto5Dj/F+zA/wemivto5Dj9Mp0Q/0Romvto5Dj8pxFA/Q8tqpNo5Dj8x21Q/WsOUP9o5Dj8pxFA/cLqoP9o5Dj9Mp0Q/2CC7P9o5Dj/F+zA/jEHLP9o5Dj8XgxY/4n3YP9o5Dj9eg+w+plPiP9o5Dj/B6aI+FGLoP9o5Dj/RGiY+mG3qP9o5Dj9Dy+okFGLoP9o5Dj/RGia+plPiP9o5Dj/B6aK+4n3YP9o5Dj9eg+y+jEHLP9o5Dj8Xgxa/2CC7P9o5Dj/F+zC/cLqoP9o5Dj9Mp0S/WsOUP9o5Dj8pxFC/AACAP9o5Dj8x21S/0Romvto5Dj8pxFC/wemivto5Dj9Mp0S/XoPsvto5Dj/F+zC/F4MWv9o5Dj8Xgxa/xfswv9o5Dj9eg+y+TKdEv9o5Dj/B6aK+KcRQv9o5Dj/RGia+MdtUv9o5Dj9Dy2qlXoNsvxXvwz4AAAAA+PdnvxXvwz7TkDg+eoJavxXvwz7zBLU+TKdEvxXvwz5RZgM/dT0nvxXvwz51PSc/UWYDvxXvwz5Mp0Q/8wS1vhXvwz56glo/05A4vhXvwz7492c/znGCpBXvwz5eg2w/GhKXPxXvwz7492c/PUGtPxXvwz56glo/KLPBPxXvwz5Mp0Q/up7TPxXvwz51PSc/plPiPxXvwz5RZgM/PUHtPxXvwz7zBLU+/PvzPxXvwz7TkDg+r0H2PxXvwz7OcQIl/PvzPxXvwz7TkDi+PUHtPxXvwz7zBLW+plPiPxXvwz5RZgO/up7TPxXvwz51PSe/KLPBPxXvwz5Mp0S/PUGtPxXvwz56glq/GhKXPxXvwz7492e/AACAPxXvwz5eg2y/05A4vhXvwz7492e/8wS1vhXvwz56glq/UWYDvxXvwz5Mp0S/dT0nvxXvwz51PSe/TKdEvxXvwz5RZgO/eoJavxXvwz7zBLW++PdnvxXvwz7TkDi+XoNsvxXvwz7OcYKlvhR7v8LFRz4AAAAAr0F2v8LFRz4V70M++Pdnv8LFRz5KK8A+KcRQv8LFRz4/fgs/hooxv8LFRz6GijE/P34Lv8LFRz4pxFA/SivAvsLFRz7492c/Fe9DvsLFRz6vQXY/rXqKpMLFRz6+FHs/432YP8LFRz6vQXY/0gqwP8LFRz7492c/IL/FP8LFRz4pxFA/Q8XYP8LFRz6GijE/FGLoP8LFRz4/fgs//PvzP8LFRz5KK8A+2CD7P8LFRz4V70M+X4r9P8LFRz6tegol2CD7P8LFRz4V70O+/PvzP8LFRz5KK8C+FGLoP8LFRz4/fgu/Q8XYP8LFRz6GijG/IL/FP8LFRz4pxFC/0gqwP8LFRz7492e/432YP8LFRz6vQXa/AACAP8LFRz6+FHu/Fe9DvsLFRz6vQXa/SivAvsLFRz7492e/P34Lv8LFRz4pxFC/hooxv8LFRz6GijG/KcRQv8LFRz4/fgu/+Pdnv8LFRz5KK8C+r0F2v8LFRz4V70O+vhR7v8LFRz6teoqlAACAvzIxjSQAAAAAvhR7vzIxjSTCxUc+XoNsvzIxjSQV78M+MdtUvzIxjSTaOQ4/8wQ1vzIxjSTzBDU/2jkOvzIxjSQx21Q/Fe/DvjIxjSReg2w/wsVHvjIxjSS+FHs/MjGNpDIxjSQAAIA/uPiYPzIxjSS+FHs/xfuwPzIxjSReg2w/7RzHPzIxjSQx21Q/eoLaPzIxjSTzBDU/mG3qPzIxjSTaOQ4/r0H2PzIxjSQV78M+X4r9PzIxjSTCxUc+AAAAQDIxjSQyMQ0lX4r9PzIxjSTCxUe+r0H2PzIxjSQV78O+mG3qPzIxjSTaOQ6/eoLaPzIxjSTzBDW/7RzHPzIxjSQx21S/xfuwPzIxjSReg2y/uPiYPzIxjSS+FHu/AACAPzIxjSQAAIC/wsVHvjIxjSS+FHu/Fe/DvjIxjSReg2y/2jkOvzIxjSQx21S/8wQ1vzIxjSTzBDW/MdtUvzIxjSTaOQ6/XoNsvzIxjSQV78O+vhR7vzIxjSTCxUe+AACAvzIxjSQyMY2lvhR7v8LFR74AAAAAr0F2v8LFR74V70M++Pdnv8LFR75KK8A+KcRQv8LFR74/fgs/hooxv8LFR76GijE/P34Lv8LFR74pxFA/SivAvsLFR77492c/Fe9DvsLFR76vQXY/rXqKpMLFR76+FHs/432YP8LFR76vQXY/0gqwP8LFR77492c/IL/FP8LFR74pxFA/Q8XYP8LFR76GijE/FGLoP8LFR74/fgs//PvzP8LFR75KK8A+2CD7P8LFR74V70M+X4r9P8LFR76tegol2CD7P8LFR74V70O+/PvzP8LFR75KK8C+FGLoP8LFR74/fgu/Q8XYP8LFR76GijG/IL/FP8LFR74pxFC/0gqwP8LFR77492e/432YP8LFR76vQXa/AACAP8LFR76+FHu/Fe9DvsLFR76vQXa/SivAvsLFR77492e/P34Lv8LFR74pxFC/hooxv8LFR76GijG/KcRQv8LFR74/fgu/+Pdnv8LFR75KK8C+r0F2v8LFR74V70O+vhR7v8LFR76teoqlXoNsvxXvw74AAAAA+PdnvxXvw77TkDg+eoJavxXvw77zBLU+TKdEvxXvw75RZgM/dT0nvxXvw751PSc/UWYDvxXvw75Mp0Q/8wS1vhXvw756glo/05A4vhXvw77492c/znGCpBXvw75eg2w/GhKXPxXvw77492c/PUGtPxXvw756glo/KLPBPxXvw75Mp0Q/up7TPxXvw751PSc/plPiPxXvw75RZgM/PUHtPxXvw77zBLU+/PvzPxXvw77TkDg+r0H2PxXvw77OcQIl/PvzPxXvw77TkDi+PUHtPxXvw77zBLW+plPiPxXvw75RZgO/up7TPxXvw751PSe/KLPBPxXvw75Mp0S/PUGtPxXvw756glq/GhKXPxXvw77492e/AACAPxXvw75eg2y/05A4vhXvw77492e/8wS1vhXvw756glq/UWYDvxXvw75Mp0S/dT0nvxXvw751PSe/TKdEvxXvw75RZgO/eoJavxXvw77zBLW++PdnvxXvw77TkDi+XoNsvxXvw77OcYKlMdtUv9o5Dr8AAAAAKcRQv9o5Dr/RGiY+TKdEv9o5Dr/B6aI+xfswv9o5Dr9eg+w+F4MWv9o5Dr8XgxY/XoPsvto5Dr/F+zA/wemivto5Dr9Mp0Q/0Romvto5Dr8pxFA/Q8tqpNo5Dr8x21Q/WsOUP9o5Dr8pxFA/cLqoP9o5Dr9Mp0Q/2CC7P9o5Dr/F+zA/jEHLP9o5Dr8XgxY/4n3YP9o5Dr9eg+w+plPiP9o5Dr/B6aI+FGLoP9o5Dr/RGiY+mG3qP9o5Dr9Dy+okFGLoP9o5Dr/RGia+plPiP9o5Dr/B6aK+4n3YP9o5Dr9eg+y+jEHLP9o5Dr8Xgxa/2CC7P9o5Dr/F+zC/cLqoP9o5Dr9Mp0S/WsOUP9o5Dr8pxFC/AACAP9o5Dr8x21S/0Romvto5Dr8pxFC/wemivto5Dr9Mp0S/XoPsvto5Dr/F+zC/F4MWv9o5Dr8Xgxa/xfswv9o5Dr9eg+y+TKdEv9o5Dr/B6aK+KcRQv9o5Dr/RGia+MdtUv9o5Dr9Dy2ql8wQ1v/MENb8AAAAAhooxv/MENb+vQg0+dT0nv/MENb/Ui4o+F4MWv/MENb9OI8k+AAAAv/MENb8AAAA/TiPJvvMENb8XgxY/1IuKvvMENb91PSc/r0INvvMENb+GijE/Bq1HpPMENb/zBDU/VqiRP/MENb+GijE/9aKiP/MENb91PSc/1EiyP/MENb8XgxY/AADAP/MENb8AAAA/jEHLP/MENb9OI8k+up7TP/MENb/Ui4o+Q8XYP/MENb+vQg0+eoLaP/MENb8GrcckQ8XYP/MENb+vQg2+up7TP/MENb/Ui4q+jEHLP/MENb9OI8m+AADAP/MENb8AAAC/1EiyP/MENb8Xgxa/9aKiP/MENb91PSe/VqiRP/MENb+GijG/AACAP/MENb/zBDW/r0INvvMENb+GijG/1IuKvvMENb91PSe/TiPJvvMENb8Xgxa/AAAAv/MENb8AAAC/F4MWv/MENb9OI8m+dT0nv/MENb/Ui4q+hooxv/MENb+vQg2+8wQ1v/MENb8GrUel2jkOvzHbVL8AAAAAP34LvzHbVL+t+d09UWYDvzHbVL/JtVk+XoPsvjHbVL91CJ4+TiPJvjHbVL9OI8k+dQievjHbVL9eg+w+ybVZvjHbVL9RZgM/rfndvTHbVL8/fgs/Y+IcpDHbVL/aOQ4/m9+NPzHbVL8/fgs/uTabPzHbVL9RZgM/HYKnPzHbVL9eg+w+1EiyPzHbVL9OI8k+2CC7PzHbVL91CJ4+KLPBPzHbVL/JtVk+IL/FPzHbVL+t+d097RzHPzHbVL9j4pwkIL/FPzHbVL+t+d29KLPBPzHbVL/JtVm+2CC7PzHbVL91CJ6+1EiyPzHbVL9OI8m+HYKnPzHbVL9eg+y+uTabPzHbVL9RZgO/m9+NPzHbVL8/fgu/AACAPzHbVL/aOQ6/rfndvTHbVL8/fgu/ybVZvjHbVL9RZgO/dQievjHbVL9eg+y+TiPJvjHbVL9OI8m+XoPsvjHbVL91CJ6+UWYDvzHbVL/JtVm+P34LvzHbVL+t+d292jkOvzHbVL9j4hylFe/Dvl6DbL8AAAAASivAvl6DbL815pg98wS1vl6DbL8a9hU+wemivl6DbL/JtVk+1IuKvl6DbL/Ui4o+ybVZvl6DbL/B6aI+GvYVvl6DbL/zBLU+NeaYvV6DbL9KK8A+qyDYo16DbL8V78M+Y46JP16DbL9KK8A+w76SP16DbL/zBLU+uTabP16DbL/B6aI+9aKiP16DbL/Ui4o+cLqoP16DbL/JtVk+PUGtP16DbL8a9hU+0gqwP16DbL815pg9xfuwP16DbL+rIFgk0gqwP16DbL815pi9PUGtP16DbL8a9hW+cLqoP16DbL/JtVm+9aKiP16DbL/Ui4q+uTabP16DbL/B6aK+w76SP16DbL/zBLW+Y46JP16DbL9KK8C+AACAP16DbL8V78O+NeaYvV6DbL9KK8C+GvYVvl6DbL/zBLW+ybVZvl6DbL/B6aK+1IuKvl6DbL/Ui4q+wemivl6DbL/JtVm+8wS1vl6DbL8a9hW+SivAvl6DbL815pi9Fe/Dvl6DbL+rINikwsVHvr4Ue78AAAAAFe9Dvr4Ue78M5Rs905A4vr4Ue7815pg90Romvr4Ue7+t+d09r0INvr4Ue7+vQg0+rfndvb4Ue7/RGiY+NeaYvb4Ue7/TkDg+DOUbvb4Ue78V70M+n1xco74Ue7/CxUc+KN+EP74Ue78V70M+Y46JP74Ue7/TkDg+m9+NP74Ue7/RGiY+VqiRP74Ue7+vQg0+WsOUP74Ue7+t+d09GhKXP74Ue7815pg9432YP74Ue78M5Rs9uPiYP74Ue7+fXNwj432YP74Ue78M5Ru9GhKXP74Ue7815pi9WsOUP74Ue7+t+d29VqiRP74Ue7+vQg2+m9+NP74Ue7/RGia+Y46JP74Ue7/TkDi+KN+EP74Ue78V70O+AACAP74Ue7/CxUe+DOUbvb4Ue78V70O+NeaYvb4Ue7/TkDi+rfndvb4Ue7/RGia+r0INvr4Ue7+vQg2+0Romvr4Ue7+t+d2905A4vr4Ue7815pi9Fe9Dvr4Ue78M5Ru9wsVHvr4Ue7+fXFykMjENpQAAgL8AAAAArXoKpQAAgL+fXNwjznECpQAAgL+rIFgkQ8vqpAAAgL9j4pwkBq3HpAAAgL8GrcckY+KcpAAAgL9Dy+okqyBYpAAAgL/OcQIln1zcowAAgL+tegoldL4bigAAgL8yMQ0lAACAPwAAgL+tegolAACAPwAAgL/OcQIlAACAPwAAgL9Dy+okAACAPwAAgL8GrcckAACAPwAAgL9j4pwkAACAPwAAgL+rIFgkAACAPwAAgL+fXNwjAACAPwAAgL90vpsKAACAPwAAgL+fXNyjAACAPwAAgL+rIFikAACAPwAAgL9j4pykAACAPwAAgL8GrcekAACAPwAAgL9Dy+qkAACAPwAAgL/OcQKlAACAPwAAgL+tegqlAACAPwAAgL8yMQ2ln1zcowAAgL+tegqlqyBYpAAAgL/OcQKlY+KcpAAAgL9Dy+qkBq3HpAAAgL8GrcekQ8vqpAAAgL9j4pykznECpQAAgL+rIFikrXoKpQAAgL+fXNyjMjENpQAAgL90vhuL",
        "encoding": "base64",
        "path": [
         "array",
         "buffer"
        ]
       }
      ],
      "model_module": "jupyter-threejs",
      "model_module_version": "1.0.0-beta.4",
      "model_name": "BufferAttributeModel",
      "state": {
       "_view_module": null,
       "_view_module_version": "",
       "array": {
        "dtype": "float32",
        "shape": [
         561,
         3
        ]
       },
       "version": 2
      }
     },
     "59eda77c7c6b4de4b235a934c930d7b5": {
      "model_module": "@jupyter-widgets/base",
      "model_module_version": "1.0.0",
      "model_name": "LayoutModel",
      "state": {}
     },
     "5d1449648af748ad8347e0ef7d69cfe1": {
      "model_module": "jupyter-threejs",
      "model_module_version": "1.0.0-beta.4",
      "model_name": "SphereBufferGeometryModel",
      "state": {
       "_view_module": null,
       "_view_module_version": "",
       "heightSegments": 16,
       "type": "SphereBufferGeometry",
       "widthSegments": 32
      }
     },
     "5e3aa4f7-79fb-45c6-9ea3-219c55baf85c": {
      "model_module": "jupyter-threejs",
      "model_module_version": "1.0.0-beta.4",
      "model_name": "OrthographicCameraModel",
      "state": {
       "bottom": -5,
       "far": 500,
       "left": -5,
       "near": 0.5,
       "projectionMatrix": [
        0.2,
        0,
        0,
        0,
        0,
        0.2,
        0,
        0,
        0,
        0,
        -0.004004004004004004,
        0,
        0,
        0,
        -1.002002002002002,
        1
       ],
       "right": 5,
       "top": 5
      }
     },
     "63363ddea1874caa82f7532623238abe": {
      "model_module": "jupyter-threejs",
      "model_module_version": "1.0.0-beta.4",
      "model_name": "PerspectiveCameraModel",
      "state": {
       "_view_module": null,
       "_view_module_version": "",
       "aspect": 1.5,
       "position": [
        5,
        3,
        5
       ],
       "projectionMatrix": [
        1.4296712803397058,
        0,
        0,
        0,
        0,
        2.1445069205095586,
        0,
        0,
        0,
        0,
        -1.00010000500025,
        -1,
        0,
        0,
        -0.200010000500025,
        0
       ]
      }
     },
     "665aa037e4ab4a70be1e368c19c7a18b": {
      "model_module": "jupyter-threejs",
      "model_module_version": "1.0.0-beta.4",
      "model_name": "AnimationActionModel",
      "state": {
       "_model_module": "jupyter-threejs",
       "_model_module_version": "1.0.0-beta.4",
       "_model_name": "AnimationActionModel",
       "_view_module_version": "1.0.0-beta.4",
       "clip": "IPY_MODEL_81a1c3daabc5401c8e37654eca74a26e",
       "layout": "IPY_MODEL_55ceb7bfdb4f4d2c89bcb0ac03db8a18",
       "localRoot": "IPY_MODEL_7aeca132905345d6a6cc015626412b03",
       "mixer": "IPY_MODEL_bf34a5bef01f45cd8109e959e9ac5ce3",
       "repititions": "inf"
      }
     },
     "672aa4c0-36d8-4758-a007-63ac41274743": {
      "buffers": [
       {
        "data": "AAAAAAAAyEEAAKBARiuYQAAAyEFYxcU/Xhc8QAAAyEFWcYHAXhc8wAAAyEFWcYHARiuYwAAAyEFYxcU/fn2wpgAAyEEAAKBAAAAAAFVVrUEAAKBARiuYQFVVrUFYxcU/Xhc8QFVVrUFWcYHAXhc8wFVVrUFWcYHARiuYwFVVrUFYxcU/fn2wplVVrUEAAKBAAAAAAKuqkkEAAKBARiuYQKuqkkFYxcU/Xhc8QKuqkkFWcYHAXhc8wKuqkkFWcYHARiuYwKuqkkFYxcU/fn2wpquqkkEAAKBAAAAAAAAAcEEAAKBARiuYQAAAcEFYxcU/Xhc8QAAAcEFWcYHAXhc8wAAAcEFWcYHARiuYwAAAcEFYxcU/fn2wpgAAcEEAAKBAAAAAAKuqOkEAAKBARiuYQKuqOkFYxcU/Xhc8QKuqOkFWcYHAXhc8wKuqOkFWcYHARiuYwKuqOkFYxcU/fn2wpquqOkEAAKBAAAAAAFVVBUEAAKBARiuYQFVVBUFYxcU/Xhc8QFVVBUFWcYHAXhc8wFVVBUFWcYHARiuYwFVVBUFYxcU/fn2wplVVBUEAAKBAAAAAAAAAoEAAAKBARiuYQAAAoEBYxcU/Xhc8QAAAoEBWcYHAXhc8wAAAoEBWcYHARiuYwAAAoEBYxcU/fn2wpgAAoEAAAKBAAAAAAFVV1T8AAKBARiuYQFVV1T9YxcU/Xhc8QFVV1T9WcYHAXhc8wFVV1T9WcYHARiuYwFVV1T9YxcU/fn2wplVV1T8AAKBAAAAAAFVV1b8AAKBARiuYQFVV1b9YxcU/Xhc8QFVV1b9WcYHAXhc8wFVV1b9WcYHARiuYwFVV1b9YxcU/fn2wplVV1b8AAKBAAAAAAAAAoMAAAKBARiuYQAAAoMBYxcU/Xhc8QAAAoMBWcYHAXhc8wAAAoMBWcYHARiuYwAAAoMBYxcU/fn2wpgAAoMAAAKBAAAAAAFVVBcEAAKBARiuYQFVVBcFYxcU/Xhc8QFVVBcFWcYHAXhc8wFVVBcFWcYHARiuYwFVVBcFYxcU/fn2wplVVBcEAAKBAAAAAAKuqOsEAAKBARiuYQKuqOsFYxcU/Xhc8QKuqOsFWcYHAXhc8wKuqOsFWcYHARiuYwKuqOsFYxcU/fn2wpquqOsEAAKBAAAAAAAAAcMEAAKBARiuYQAAAcMFYxcU/Xhc8QAAAcMFWcYHAXhc8wAAAcMFWcYHARiuYwAAAcMFYxcU/fn2wpgAAcMEAAKBAAAAAAKuqksEAAKBARiuYQKuqksFYxcU/Xhc8QKuqksFWcYHAXhc8wKuqksFWcYHARiuYwKuqksFYxcU/fn2wpquqksEAAKBAAAAAAFVVrcEAAKBARiuYQFVVrcFYxcU/Xhc8QFVVrcFWcYHAXhc8wFVVrcFWcYHARiuYwFVVrcFYxcU/fn2wplVVrcEAAKBAAAAAAAAAyMEAAKBARiuYQAAAyMFYxcU/Xhc8QAAAyMFWcYHAXhc8wAAAyMFWcYHARiuYwAAAyMFYxcU/fn2wpgAAyMEAAKBA",
        "encoding": "base64",
        "path": [
         "array",
         "buffer"
        ]
       }
      ],
      "model_module": "jupyter-threejs",
      "model_module_version": "1.0.0-beta.4",
      "model_name": "BufferAttributeModel",
      "state": {
       "array": {
        "dtype": "float32",
        "shape": [
         96,
         3
        ]
       },
       "normalized": false,
       "version": 0
      }
     },
     "6b013261708842399e49740c435b7669": {
      "model_module": "jupyter-threejs",
      "model_module_version": "1.0.0-beta.4",
      "model_name": "MeshPhysicalMaterialModel",
      "state": {
       "_view_module": null,
       "_view_module_version": "",
       "color": "green",
       "type": "MeshPhysicalMaterial"
      }
     },
     "6ccab138-d1e4-48a3-b8b2-2f34ac9bdfec": {
      "buffers": [
       {
        "data": "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",
        "encoding": "base64",
        "path": [
         "array",
         "buffer"
        ]
       }
      ],
      "model_module": "jupyter-threejs",
      "model_module_version": "1.0.0-beta.4",
      "model_name": "BufferAttributeModel",
      "state": {
       "array": {
        "dtype": "float32",
        "shape": [
         561,
         3
        ]
       },
       "normalized": false,
       "version": 0
      }
     },
     "6cecf77295eb4250b92d25f97a0109a4": {
      "buffers": [
       {
        "data": "AAAAAAAAAD8AAMA/AAAAQA==",
        "encoding": "base64",
        "path": [
         "times",
         "buffer"
        ]
       },
       {
        "data": "AAAAAJqZmb6amZk+AAAAAA==",
        "encoding": "base64",
        "path": [
         "values",
         "buffer"
        ]
       }
      ],
      "model_module": "jupyter-threejs",
      "model_module_version": "1.0.0-beta.4",
      "model_name": "NumberKeyframeTrackModel",
      "state": {
       "_view_module": null,
       "_view_module_version": "",
       "name": ".bones[2].rotation[x]",
       "times": {
        "dtype": "float32",
        "shape": [
         4
        ]
       },
       "type": "Bone",
       "values": {
        "dtype": "float32",
        "shape": [
         4
        ]
       }
      }
     },
     "73193216f64c43148db4c217aaec156c": {
      "model_module": "jupyter-threejs",
      "model_module_version": "1.0.0-beta.4",
      "model_name": "AnimationClipModel",
      "state": {
       "_view_module": null,
       "_view_module_version": "",
       "duration": 2,
       "tracks": [
        "IPY_MODEL_083bf74e0bb14cc780c132c6f45fe369",
        "IPY_MODEL_3df6dd9231c949b287d49324dfa81a70",
        "IPY_MODEL_6cecf77295eb4250b92d25f97a0109a4",
        "IPY_MODEL_501309c9ea6645d9bf31b668d3fb03b5"
       ]
      }
     },
     "7552aee94ae743b785e0610076368d04": {
      "model_module": "jupyter-threejs",
      "model_module_version": "1.0.0-beta.4",
      "model_name": "WebGLShadowMapModel",
      "state": {
       "_view_module": null,
       "_view_module_version": ""
      }
     },
     "77127b9ec1b24047921bad2d73055c39": {
      "buffers": [
       {
        "data": "AAAAAAAAAD8AAMA/AAAAQA==",
        "encoding": "base64",
        "path": [
         "times",
         "buffer"
        ]
       },
       {
        "data": "AAAAADMzMz8zMzO/AAAAAA==",
        "encoding": "base64",
        "path": [
         "values",
         "buffer"
        ]
       }
      ],
      "model_module": "jupyter-threejs",
      "model_module_version": "1.0.0-beta.4",
      "model_name": "NumberKeyframeTrackModel",
      "state": {
       "_view_module": null,
       "_view_module_version": "",
       "name": ".bones[1].rotation[y]",
       "times": {
        "dtype": "float32",
        "shape": [
         4
        ]
       },
       "type": "Bone",
       "values": {
        "dtype": "float32",
        "shape": [
         4
        ]
       }
      }
     },
     "788a0da8-6af2-4c03-b17d-160e703f28ae": {
      "model_module": "jupyter-threejs",
      "model_module_version": "1.0.0-beta.4",
      "model_name": "DirectionalLightShadowModel",
      "state": {
       "camera": "IPY_MODEL_eeef9249-8d0a-4722-94d9-6bb1a67ba917"
      }
     },
     "78fcabb17e544cedb98e2da04d39833a": {
      "model_module": "jupyter-threejs",
      "model_module_version": "1.0.0-beta.4",
      "model_name": "RendererModel",
      "state": {
       "_height": 400,
       "_width": 600,
       "camera": "IPY_MODEL_57273feb5932436482db5fdb2fef14c1",
       "controls": [
        "IPY_MODEL_06b9defcec5d43c590ef3a90b183a850"
       ],
       "layout": "IPY_MODEL_0b470d1a7047445585ed1d80e6314aed",
       "scene": "IPY_MODEL_a30a5db5479d407da537ee0e6fbde08c",
       "shadowMap": "IPY_MODEL_46b3539903de4d48b0845ff31db9c37d"
      }
     },
     "7a3e8ed3b0f04db5a936814848893eb1": {
      "model_module": "jupyter-threejs",
      "model_module_version": "1.0.0-beta.4",
      "model_name": "BufferGeometryModel",
      "state": {
       "_ref_geometry": "IPY_MODEL_5d1449648af748ad8347e0ef7d69cfe1",
       "_view_module": null,
       "_view_module_version": "",
       "attributes": {
        "normal": "IPY_MODEL_6ccab138-d1e4-48a3-b8b2-2f34ac9bdfec",
        "position": "IPY_MODEL_1f35e04b-3777-401d-99d1-c9701ca6421a",
        "uv": "IPY_MODEL_e168ae3c-489d-4bc1-b856-c5813db3068b"
       },
       "morphAttributes": {
        "position": [
         "IPY_MODEL_58561ef05a0e49f18f5fa24c820d522f"
        ]
       }
      }
     },
     "7aeca132905345d6a6cc015626412b03": {
      "model_module": "jupyter-threejs",
      "model_module_version": "1.0.0-beta.4",
      "model_name": "SkinnedMeshModel",
      "state": {
       "_view_module": null,
       "_view_module_version": "",
       "children": [
        "IPY_MODEL_0304ecb4ed1143bcad346b55dcbec86e"
       ],
       "geometry": "IPY_MODEL_94c328234ce2462280867b21464b027c",
       "material": "IPY_MODEL_08ead024f1f44519b180cd3d38f8b379",
       "modelViewMatrix": [
        0.7071067811865478,
        -0.2761723853694969,
        0.6509445549041193,
        0,
        5.551115123125784e-17,
        0.9205746178983236,
        0.3905667329424716,
        0,
        -0.7071067811865474,
        -0.276172385369497,
        0.6509445549041196,
        0,
        -1.5987211554602257e-14,
        -5.329070518200753e-15,
        -61.44916598294888,
        1
       ],
       "morphTargetInfluences": [],
       "normalMatrix": [
        0.7071067811865476,
        -0.27617238536949684,
        0.6509445549041191,
        0,
        0.9205746178983232,
        0.3905667329424714,
        -0.7071067811865474,
        -0.27617238536949695,
        0.6509445549041194
       ],
       "skeleton": "IPY_MODEL_0e9ff5cfeed54a5ab771a553516b4388",
       "type": "SkinnedMesh"
      }
     },
     "7f383b17ed7e45cca88270e04d74aac7": {
      "model_module": "jupyter-threejs",
      "model_module_version": "1.0.0-beta.4",
      "model_name": "SceneModel",
      "state": {
       "_view_module": null,
       "_view_module_version": "",
       "children": [
        "IPY_MODEL_34969d8bc62a4767937e79e1822b1430",
        "IPY_MODEL_63363ddea1874caa82f7532623238abe",
        "IPY_MODEL_5184d6151d6e428094d4befd90e683d0",
        "IPY_MODEL_44ed5613512348c6b814e9a155b81b90"
       ],
       "type": "Scene"
      }
     },
     "81a1c3daabc5401c8e37654eca74a26e": {
      "model_module": "jupyter-threejs",
      "model_module_version": "1.0.0-beta.4",
      "model_name": "AnimationClipModel",
      "state": {
       "_view_module": null,
       "_view_module_version": "",
       "duration": 2,
       "tracks": [
        "IPY_MODEL_77127b9ec1b24047921bad2d73055c39",
        "IPY_MODEL_ef36416f060141ffae97bbb628c7536c"
       ]
      }
     },
     "81e71e98-d507-446f-aa22-7f5d8884182e": {
      "model_module": "jupyter-threejs",
      "model_module_version": "1.0.0-beta.4",
      "model_name": "DirectionalLightShadowModel",
      "state": {
       "camera": "IPY_MODEL_1d248d02-d060-4124-b1fa-e3b49454c38f"
      }
     },
     "90c97ebd22934ed7bdb70f7d03db1999": {
      "buffers": [
       {
        "data": "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",
        "encoding": "base64",
        "path": [
         "array",
         "buffer"
        ]
       }
      ],
      "model_module": "jupyter-threejs",
      "model_module_version": "1.0.0-beta.4",
      "model_name": "BufferAttributeModel",
      "state": {
       "_view_module": null,
       "_view_module_version": "",
       "array": {
        "dtype": "float32",
        "shape": [
         96,
         4
        ]
       },
       "version": 2
      }
     },
     "90f13a7236c848509621bb279d2c0076": {
      "model_module": "@jupyter-widgets/base",
      "model_module_version": "1.0.0",
      "model_name": "LayoutModel",
      "state": {}
     },
     "94c328234ce2462280867b21464b027c": {
      "model_module": "jupyter-threejs",
      "model_module_version": "1.0.0-beta.4",
      "model_name": "BufferGeometryModel",
      "state": {
       "_ref_geometry": "IPY_MODEL_307263b8439a49f4842c6aa31b6bbbca",
       "_view_module": null,
       "_view_module_version": "",
       "attributes": {
        "normal": "IPY_MODEL_dfeed37e-0b4f-4d8b-b05a-74b622ea28ba",
        "position": "IPY_MODEL_672aa4c0-36d8-4758-a007-63ac41274743",
        "skinIndex": "IPY_MODEL_90c97ebd22934ed7bdb70f7d03db1999",
        "skinWeight": "IPY_MODEL_b94fdfe414084756a06e6e6ffe865864",
        "uv": "IPY_MODEL_423154fa-ae56-4877-9f91-54a3c67f0aa1"
       }
      }
     },
     "9511ad2b32104926993e6af18c04a38b": {
      "model_module": "jupyter-threejs",
      "model_module_version": "1.0.0-beta.4",
      "model_name": "AmbientLightModel",
      "state": {
       "_view_module": null,
       "_view_module_version": "",
       "intensity": 0.5,
       "type": "AmbientLight"
      }
     },
     "9978ff90c29948e5ae61cd5f0073b541": {
      "model_module": "jupyter-threejs",
      "model_module_version": "1.0.0-beta.4",
      "model_name": "OrbitControlsModel",
      "state": {
       "_view_module": null,
       "_view_module_version": "",
       "controlling": "IPY_MODEL_63363ddea1874caa82f7532623238abe",
       "maxAzimuthAngle": "inf",
       "maxDistance": "inf",
       "maxZoom": "inf",
       "minAzimuthAngle": "-inf"
      }
     },
     "9a3660791d55462687b48eb07bf20ff6": {
      "model_module": "jupyter-threejs",
      "model_module_version": "1.0.0-beta.4",
      "model_name": "MeshLambertMaterialModel",
      "state": {
       "_view_module": null,
       "_view_module_version": "",
       "color": "green",
       "type": "MeshLambertMaterial"
      }
     },
     "a13ca1da73be41b798baf45809cb459a": {
      "model_module": "jupyter-threejs",
      "model_module_version": "1.0.0-beta.4",
      "model_name": "AnimationClipModel",
      "state": {
       "_view_module": null,
       "_view_module_version": "",
       "duration": 3,
       "tracks": [
        "IPY_MODEL_ce8669a9caa54dd3834ec085cbc00bd5"
       ]
      }
     },
     "a30a5db5479d407da537ee0e6fbde08c": {
      "model_module": "jupyter-threejs",
      "model_module_version": "1.0.0-beta.4",
      "model_name": "SceneModel",
      "state": {
       "_view_module": null,
       "_view_module_version": "",
       "children": [
        "IPY_MODEL_7aeca132905345d6a6cc015626412b03",
        "IPY_MODEL_e4a5438c08b940f4b42bd300ebf063da",
        "IPY_MODEL_57273feb5932436482db5fdb2fef14c1",
        "IPY_MODEL_2f876a8eec0a432ea2fc39dad67c5314",
        "IPY_MODEL_e3968fe7b1f641cd9fddf0e03e2e5d3d"
       ],
       "type": "Scene"
      }
     },
     "a9c0a00b62c649eca0eec42e88b29b61": {
      "model_module": "jupyter-threejs",
      "model_module_version": "1.0.0-beta.4",
      "model_name": "MeshPhongMaterialModel",
      "state": {
       "_view_module": null,
       "_view_module_version": "",
       "color": "#ff3333",
       "morphTargets": true,
       "shininess": 150,
       "type": "MeshPhongMaterial"
      }
     },
     "aeab0701d0de4f009645ea6ed55269c9": {
      "buffers": [
       {
        "data": "AAAAAAIAAAA=",
        "encoding": "base64",
        "path": [
         "times",
         "buffer"
        ]
       },
       {
        "data": "AAAAAMP1yEA=",
        "encoding": "base64",
        "path": [
         "values",
         "buffer"
        ]
       }
      ],
      "model_module": "jupyter-threejs",
      "model_module_version": "1.0.0-beta.4",
      "model_name": "NumberKeyframeTrackModel",
      "state": {
       "_view_module": null,
       "_view_module_version": "",
       "name": ".rotation[y]",
       "times": {
        "dtype": "int32",
        "shape": [
         2
        ]
       },
       "type": "Bone",
       "values": {
        "dtype": "float32",
        "shape": [
         2
        ]
       }
      }
     },
     "b05ed5ec-faa7-4484-8339-b9c98614d0e5": {
      "model_module": "jupyter-threejs",
      "model_module_version": "1.0.0-beta.4",
      "model_name": "Object3DModel",
      "state": {
       "type": "Object3D"
      }
     },
     "b43845c540da4a3bbb438c09111d1dc8": {
      "model_module": "jupyter-threejs",
      "model_module_version": "1.0.0-beta.4",
      "model_name": "ParametricGeometryModel",
      "state": {
       "_view_module": null,
       "_view_module_version": "",
       "func": "\nfunction f(origu,origv) {\n    // scale u and v to the ranges I want: [0, 2*pi]\n    var u = 2*Math.PI*origu;\n    var v = 2*Math.PI*origv;\n    \n    var x = Math.sin(u);\n    var y = Math.cos(v);\n    var z = Math.cos(u+v);\n    \n    return new THREE.Vector3(x,y,z)\n}\n",
       "slices": 16,
       "stacks": 16,
       "type": "ParametricGeometry"
      }
     },
     "b60f5c87c1b54db49a65d4a90e42edb4": {
      "model_module": "@jupyter-widgets/base",
      "model_module_version": "1.0.0",
      "model_name": "LayoutModel",
      "state": {}
     },
     "b84d09220c614f188eb059f6c60ce9eb": {
      "model_module": "jupyter-threejs",
      "model_module_version": "1.0.0-beta.4",
      "model_name": "MeshModel",
      "state": {
       "_view_module": null,
       "_view_module_version": "",
       "geometry": "IPY_MODEL_42ac08f0c37d4cb996ae7274a9fe9a02",
       "material": "IPY_MODEL_6b013261708842399e49740c435b7669",
       "morphTargetInfluences": [],
       "position": [
        2,
        0,
        4
       ]
      }
     },
     "b94fdfe414084756a06e6e6ffe865864": {
      "buffers": [
       {
        "data": "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",
        "encoding": "base64",
        "path": [
         "array",
         "buffer"
        ]
       }
      ],
      "model_module": "jupyter-threejs",
      "model_module_version": "1.0.0-beta.4",
      "model_name": "BufferAttributeModel",
      "state": {
       "_view_module": null,
       "_view_module_version": "",
       "array": {
        "dtype": "float32",
        "shape": [
         96,
         4
        ]
       },
       "version": 2
      }
     },
     "ba310b776b554a6f9991fea547d71563": {
      "model_module": "jupyter-threejs",
      "model_module_version": "1.0.0-beta.4",
      "model_name": "MeshModel",
      "state": {
       "_view_module": null,
       "_view_module_version": "",
       "geometry": "IPY_MODEL_c0ad123a88c7437e90516700362ba6d2",
       "material": "IPY_MODEL_eac5e55c4fd941afb1e51a8e58746b2d",
       "morphTargetInfluences": []
      }
     },
     "bb88f78d-528d-4ddd-9c4f-3fd6e2f8912b": {
      "model_module": "jupyter-threejs",
      "model_module_version": "1.0.0-beta.4",
      "model_name": "Object3DModel",
      "state": {
       "type": "Object3D"
      }
     },
     "bf34a5bef01f45cd8109e959e9ac5ce3": {
      "model_module": "jupyter-threejs",
      "model_module_version": "1.0.0-beta.4",
      "model_name": "AnimationMixerModel",
      "state": {
       "_view_module": null,
       "_view_module_version": "",
       "rootObject": "IPY_MODEL_7aeca132905345d6a6cc015626412b03",
       "time": 1.3092900000000003
      }
     },
     "c0ad123a88c7437e90516700362ba6d2": {
      "model_module": "jupyter-threejs",
      "model_module_version": "1.0.0-beta.4",
      "model_name": "SphereBufferGeometryModel",
      "state": {
       "_view_module": null,
       "_view_module_version": "",
       "heightSegments": 16,
       "type": "SphereBufferGeometry",
       "widthSegments": 32
      }
     },
     "c0b0f1b6497a4047ad189eca7325af5e": {
      "model_module": "@jupyter-widgets/base",
      "model_module_version": "1.0.0",
      "model_name": "LayoutModel",
      "state": {}
     },
     "c170ed5c49bd4f5e8a41bc6a0d3b7c6f": {
      "model_module": "jupyter-threejs",
      "model_module_version": "1.0.0-beta.4",
      "model_name": "AnimationMixerModel",
      "state": {
       "_view_module": null,
       "_view_module_version": "",
       "rootObject": "IPY_MODEL_34969d8bc62a4767937e79e1822b1430"
      }
     },
     "c5a814d39f1c43b5913e5d2a7a83179b": {
      "model_module": "jupyter-threejs",
      "model_module_version": "1.0.0-beta.4",
      "model_name": "AnimationActionModel",
      "state": {
       "_model_module": "jupyter-threejs",
       "_model_module_version": "1.0.0-beta.4",
       "_model_name": "AnimationActionModel",
       "_view_module_version": "1.0.0-beta.4",
       "clip": "IPY_MODEL_47ed4691f03f4803920d786fcbacbedb",
       "layout": "IPY_MODEL_4a77782b47ed4bb99e0af12b532a03cc",
       "localRoot": "IPY_MODEL_482685a7d8564069ab800ecebd478b4d",
       "mixer": "IPY_MODEL_12eaad2aa913455282c722b2bfc216c0",
       "repititions": "inf"
      }
     },
     "ca317ae15cd645c296683f3ddf31715b": {
      "model_module": "jupyter-threejs",
      "model_module_version": "1.0.0-beta.4",
      "model_name": "DirectionalLightModel",
      "state": {
       "_view_module": null,
       "_view_module_version": "",
       "intensity": 0.6,
       "matrixWorldNeedsUpdate": true,
       "position": [
        3,
        5,
        1
       ],
       "shadow": "IPY_MODEL_d21a2b3c-bdde-4569-bbb9-03513aedaa13",
       "target": "IPY_MODEL_b05ed5ec-faa7-4484-8339-b9c98614d0e5",
       "type": "DirectionalLight"
      }
     },
     "cc3451bcdcbe408a94882bd181e7a9ab": {
      "model_module": "jupyter-threejs",
      "model_module_version": "1.0.0-beta.4",
      "model_name": "AnimationMixerModel",
      "state": {
       "_view_module": null,
       "_view_module_version": "",
       "rootObject": "IPY_MODEL_ba310b776b554a6f9991fea547d71563"
      }
     },
     "ce304bc2137b4e31a04027c61c8f32af": {
      "model_module": "jupyter-threejs",
      "model_module_version": "1.0.0-beta.4",
      "model_name": "AnimationClipModel",
      "state": {
       "_view_module": null,
       "_view_module_version": "",
       "duration": 1.5,
       "tracks": [
        "IPY_MODEL_1db5d15e00c942c5ba917773100649c0"
       ]
      }
     },
     "ce8669a9caa54dd3834ec085cbc00bd5": {
      "buffers": [
       {
        "data": "AAAAAAAAwD8AAEBA",
        "encoding": "base64",
        "path": [
         "times",
         "buffer"
        ]
       },
       {
        "data": "AAAAAAAAIEAAAAAA",
        "encoding": "base64",
        "path": [
         "values",
         "buffer"
        ]
       }
      ],
      "model_module": "jupyter-threejs",
      "model_module_version": "1.0.0-beta.4",
      "model_name": "NumberKeyframeTrackModel",
      "state": {
       "_view_module": null,
       "_view_module_version": "",
       "name": ".morphTargetInfluences[0]",
       "times": {
        "dtype": "float32",
        "shape": [
         3
        ]
       },
       "type": "Bone",
       "values": {
        "dtype": "float32",
        "shape": [
         3
        ]
       }
      }
     },
     "d21a2b3c-bdde-4569-bbb9-03513aedaa13": {
      "model_module": "jupyter-threejs",
      "model_module_version": "1.0.0-beta.4",
      "model_name": "DirectionalLightShadowModel",
      "state": {
       "camera": "IPY_MODEL_0d5faea4-8e36-4061-8194-ef284a0fcebe"
      }
     },
     "d3757a6356d0474dacdcab96327584c6": {
      "model_module": "jupyter-threejs",
      "model_module_version": "1.0.0-beta.4",
      "model_name": "DirectionalLightModel",
      "state": {
       "_view_module": null,
       "_view_module_version": "",
       "matrixWorldNeedsUpdate": true,
       "position": [
        0,
        10,
        10
       ],
       "shadow": "IPY_MODEL_81e71e98-d507-446f-aa22-7f5d8884182e",
       "target": "IPY_MODEL_0568aa6c-903a-43ec-9048-d80ce23b1bc9",
       "type": "DirectionalLight"
      }
     },
     "d56aa285ba104cdc9cb440e60545c365": {
      "model_module": "@jupyter-widgets/base",
      "model_module_version": "1.0.0",
      "model_name": "LayoutModel",
      "state": {}
     },
     "d57ddb4b69ff4e8d83be86d273accb8e": {
      "model_module": "jupyter-threejs",
      "model_module_version": "1.0.0-beta.4",
      "model_name": "PerspectiveCameraModel",
      "state": {
       "_view_module": null,
       "_view_module_version": "",
       "aspect": 1.5,
       "position": [
        10,
        6,
        10
       ],
       "projectionMatrix": [
        1.4296712803397058,
        0,
        0,
        0,
        0,
        2.1445069205095586,
        0,
        0,
        0,
        0,
        -1.00010000500025,
        -1,
        0,
        0,
        -0.200010000500025,
        0
       ]
      }
     },
     "d73b3b15e93a4857846f4fd2a5b9f149": {
      "model_module": "@jupyter-widgets/base",
      "model_module_version": "1.0.0",
      "model_name": "LayoutModel",
      "state": {}
     },
     "dbb4713aa5f84fa5bd17d8b52668f938": {
      "model_module": "jupyter-threejs",
      "model_module_version": "1.0.0-beta.4",
      "model_name": "MeshLambertMaterialModel",
      "state": {
       "_view_module": null,
       "_view_module_version": "",
       "color": "yellow",
       "side": "BackSide",
       "type": "MeshLambertMaterial"
      }
     },
     "dc28a62ee6f44e31822b2f4270e607a0": {
      "model_module": "jupyter-threejs",
      "model_module_version": "1.0.0-beta.4",
      "model_name": "AnimationActionModel",
      "state": {
       "_model_module": "jupyter-threejs",
       "_model_module_version": "1.0.0-beta.4",
       "_model_name": "AnimationActionModel",
       "_view_module_version": "1.0.0-beta.4",
       "clip": "IPY_MODEL_de355b05df5e4f509c655ebe70f6107a",
       "layout": "IPY_MODEL_c0b0f1b6497a4047ad189eca7325af5e",
       "localRoot": "IPY_MODEL_1699b6b842414fd2a3618d34b4d864e5",
       "mixer": "IPY_MODEL_f7b616204a3848018cd138bc6ec6ea6d",
       "repititions": "inf"
      }
     },
     "dd0b2b8c072240fdbda967972cb2f55f": {
      "model_module": "jupyter-threejs",
      "model_module_version": "1.0.0-beta.4",
      "model_name": "AnimationActionModel",
      "state": {
       "_model_module": "jupyter-threejs",
       "_model_module_version": "1.0.0-beta.4",
       "_model_name": "AnimationActionModel",
       "_view_module_version": "1.0.0-beta.4",
       "clip": "IPY_MODEL_ce304bc2137b4e31a04027c61c8f32af",
       "layout": "IPY_MODEL_90f13a7236c848509621bb279d2c0076",
       "localRoot": "IPY_MODEL_ba310b776b554a6f9991fea547d71563",
       "mixer": "IPY_MODEL_cc3451bcdcbe408a94882bd181e7a9ab",
       "repititions": "inf"
      }
     },
     "de355b05df5e4f509c655ebe70f6107a": {
      "model_module": "jupyter-threejs",
      "model_module_version": "1.0.0-beta.4",
      "model_name": "AnimationClipModel",
      "state": {
       "_view_module": null,
       "_view_module_version": "",
       "duration": 2,
       "tracks": [
        "IPY_MODEL_aeab0701d0de4f009645ea6ed55269c9"
       ]
      }
     },
     "de84ba1f-344d-4d39-bcfe-7c0e418f5ac5": {
      "model_module": "jupyter-threejs",
      "model_module_version": "1.0.0-beta.4",
      "model_name": "DirectionalLightShadowModel",
      "state": {
       "camera": "IPY_MODEL_5e3aa4f7-79fb-45c6-9ea3-219c55baf85c"
      }
     },
     "dfeed37e-0b4f-4d8b-b05a-74b622ea28ba": {
      "buffers": [
       {
        "data": "AAAAAAAAAAAAAIA/cXhzPwAAAAB6N54+GHkWPwAAAAC9G0+/GHkWvwAAAAC9G0+/cXhzvwAAAAB6N54+MjGNpQAAAAAAAIA/AAAAAAAAAAAAAIA/cXhzPwAAAAB6N54+GHkWPwAAAAC9G0+/GHkWvwAAAAC9G0+/cXhzvwAAAAB6N54+MjGNpQAAAAAAAIA/AAAAAAAAAAAAAIA/cXhzPwAAAAB6N54+GHkWPwAAAAC9G0+/GHkWvwAAAAC9G0+/cXhzvwAAAAB6N54+MjGNpQAAAAAAAIA/AAAAAAAAAAAAAIA/cXhzPwAAAAB6N54+GHkWPwAAAAC9G0+/GHkWvwAAAAC9G0+/cXhzvwAAAAB6N54+MjGNpQAAAAAAAIA/AAAAAAAAAAAAAIA/cXhzPwAAAAB6N54+GHkWPwAAAAC9G0+/GHkWvwAAAAC9G0+/cXhzvwAAAAB6N54+MjGNpQAAAAAAAIA/AAAAAAAAAAAAAIA/cXhzPwAAAAB6N54+GHkWPwAAAAC9G0+/GHkWvwAAAAC9G0+/cXhzvwAAAAB6N54+MjGNpQAAAAAAAIA/AAAAAAAAAAAAAIA/cXhzPwAAAAB6N54+GHkWPwAAAAC9G0+/GHkWvwAAAAC9G0+/cXhzvwAAAAB6N54+MjGNpQAAAAAAAIA/AAAAAAAAAAAAAIA/cXhzPwAAAAB6N54+GHkWPwAAAAC9G0+/GHkWvwAAAAC9G0+/cXhzvwAAAAB6N54+MjGNpQAAAAAAAIA/AAAAAAAAAAAAAIA/cXhzPwAAAAB6N54+GHkWPwAAAAC9G0+/GHkWvwAAAAC9G0+/cXhzvwAAAAB6N54+MjGNpQAAAAAAAIA/AAAAAAAAAAAAAIA/cXhzPwAAAAB6N54+GHkWPwAAAAC9G0+/GHkWvwAAAAC9G0+/cXhzvwAAAAB6N54+MjGNpQAAAAAAAIA/AAAAAAAAAAAAAIA/cXhzPwAAAAB6N54+GHkWPwAAAAC9G0+/GHkWvwAAAAC9G0+/cXhzvwAAAAB6N54+MjGNpQAAAAAAAIA/AAAAAAAAAAAAAIA/cXhzPwAAAAB6N54+GHkWPwAAAAC9G0+/GHkWvwAAAAC9G0+/cXhzvwAAAAB6N54+MjGNpQAAAAAAAIA/AAAAAAAAAAAAAIA/cXhzPwAAAAB6N54+GHkWPwAAAAC9G0+/GHkWvwAAAAC9G0+/cXhzvwAAAAB6N54+MjGNpQAAAAAAAIA/AAAAAAAAAAAAAIA/cXhzPwAAAAB6N54+GHkWPwAAAAC9G0+/GHkWvwAAAAC9G0+/cXhzvwAAAAB6N54+MjGNpQAAAAAAAIA/AAAAAAAAAAAAAIA/cXhzPwAAAAB6N54+GHkWPwAAAAC9G0+/GHkWvwAAAAC9G0+/cXhzvwAAAAB6N54+MjGNpQAAAAAAAIA/AAAAAAAAAAAAAIA/cXhzPwAAAAB6N54+GHkWPwAAAAC9G0+/GHkWvwAAAAC9G0+/cXhzvwAAAAB6N54+MjGNpQAAAAAAAIA/",
        "encoding": "base64",
        "path": [
         "array",
         "buffer"
        ]
       }
      ],
      "model_module": "jupyter-threejs",
      "model_module_version": "1.0.0-beta.4",
      "model_name": "BufferAttributeModel",
      "state": {
       "array": {
        "dtype": "float32",
        "shape": [
         96,
         3
        ]
       },
       "normalized": false,
       "version": 0
      }
     },
     "e168ae3c-489d-4bc1-b856-c5813db3068b": {
      "buffers": [
       {
        "data": "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",
        "encoding": "base64",
        "path": [
         "array",
         "buffer"
        ]
       }
      ],
      "model_module": "jupyter-threejs",
      "model_module_version": "1.0.0-beta.4",
      "model_name": "BufferAttributeModel",
      "state": {
       "array": {
        "dtype": "float32",
        "shape": [
         561,
         2
        ]
       },
       "normalized": false,
       "version": 0
      }
     },
     "e3968fe7b1f641cd9fddf0e03e2e5d3d": {
      "model_module": "jupyter-threejs",
      "model_module_version": "1.0.0-beta.4",
      "model_name": "AmbientLightModel",
      "state": {
       "_view_module": null,
       "_view_module_version": "",
       "intensity": 0.5,
       "type": "AmbientLight"
      }
     },
     "e4a5438c08b940f4b42bd300ebf063da": {
      "model_module": "jupyter-threejs",
      "model_module_version": "1.0.0-beta.4",
      "model_name": "SkeletonHelperModel",
      "state": {
       "_view_module": null,
       "_view_module_version": "",
       "root": "IPY_MODEL_7aeca132905345d6a6cc015626412b03",
       "type": "LineSegments"
      }
     },
     "e7bb1ceb498a400e8b59b11725e073be": {
      "model_module": "jupyter-threejs",
      "model_module_version": "1.0.0-beta.4",
      "model_name": "RendererModel",
      "state": {
       "_height": 400,
       "_width": 600,
       "camera": "IPY_MODEL_482685a7d8564069ab800ecebd478b4d",
       "controls": [
        "IPY_MODEL_1ba7f975416e49a79587b3ef57cde0a6"
       ],
       "layout": "IPY_MODEL_d56aa285ba104cdc9cb440e60545c365",
       "scene": "IPY_MODEL_087e4843e5a74971b1520d088a7d56a4",
       "shadowMap": "IPY_MODEL_f26c9abf163742a2953fbb7e505414d3"
      }
     },
     "eac5e55c4fd941afb1e51a8e58746b2d": {
      "model_module": "jupyter-threejs",
      "model_module_version": "1.0.0-beta.4",
      "model_name": "MeshStandardMaterialModel",
      "state": {
       "_view_module": null,
       "_view_module_version": "",
       "color": "red",
       "type": "MeshStandardMaterial"
      }
     },
     "eeef9249-8d0a-4722-94d9-6bb1a67ba917": {
      "model_module": "jupyter-threejs",
      "model_module_version": "1.0.0-beta.4",
      "model_name": "OrthographicCameraModel",
      "state": {
       "bottom": -5,
       "far": 500,
       "left": -5,
       "near": 0.5,
       "projectionMatrix": [
        0.2,
        0,
        0,
        0,
        0,
        0.2,
        0,
        0,
        0,
        0,
        -0.004004004004004004,
        0,
        0,
        0,
        -1.002002002002002,
        1
       ],
       "right": 5,
       "top": 5
      }
     },
     "ef36416f060141ffae97bbb628c7536c": {
      "buffers": [
       {
        "data": "AAAAAAAAAD8AAMA/AAAAQA==",
        "encoding": "base64",
        "path": [
         "times",
         "buffer"
        ]
       },
       {
        "data": "AAAAADMzMz8zMzO/AAAAAA==",
        "encoding": "base64",
        "path": [
         "values",
         "buffer"
        ]
       }
      ],
      "model_module": "jupyter-threejs",
      "model_module_version": "1.0.0-beta.4",
      "model_name": "NumberKeyframeTrackModel",
      "state": {
       "_view_module": null,
       "_view_module_version": "",
       "name": ".bones[2].rotation[y]",
       "times": {
        "dtype": "float32",
        "shape": [
         4
        ]
       },
       "type": "Bone",
       "values": {
        "dtype": "float32",
        "shape": [
         4
        ]
       }
      }
     },
     "f26c9abf163742a2953fbb7e505414d3": {
      "model_module": "jupyter-threejs",
      "model_module_version": "1.0.0-beta.4",
      "model_name": "WebGLShadowMapModel",
      "state": {
       "_view_module": null,
       "_view_module_version": ""
      }
     },
     "f61d2da9bc71495c9a35abb24e81beea": {
      "model_module": "jupyter-threejs",
      "model_module_version": "1.0.0-beta.4",
      "model_name": "AnimationActionModel",
      "state": {
       "_model_module": "jupyter-threejs",
       "_model_module_version": "1.0.0-beta.4",
       "_model_name": "AnimationActionModel",
       "_view_module_version": "1.0.0-beta.4",
       "clip": "IPY_MODEL_a13ca1da73be41b798baf45809cb459a",
       "layout": "IPY_MODEL_4d88177b29b547febd8f39a7a0f94855",
       "localRoot": "IPY_MODEL_34969d8bc62a4767937e79e1822b1430",
       "mixer": "IPY_MODEL_c170ed5c49bd4f5e8a41bc6a0d3b7c6f",
       "repititions": "inf"
      }
     },
     "f7b616204a3848018cd138bc6ec6ea6d": {
      "model_module": "jupyter-threejs",
      "model_module_version": "1.0.0-beta.4",
      "model_name": "AnimationMixerModel",
      "state": {
       "_view_module": null,
       "_view_module_version": "",
       "rootObject": "IPY_MODEL_1699b6b842414fd2a3618d34b4d864e5"
      }
     },
     "fd06057c9cdd49b6a53d753db8730feb": {
      "buffers": [
       {
        "data": "AAAAAAIAAAAFAAAA",
        "encoding": "base64",
        "path": [
         "times",
         "buffer"
        ]
       },
       {
        "data": "AAAgQQAAwEAAACBBmpnJQIXrcUCamclAUrg+wD0KVz8zMxNB",
        "encoding": "base64",
        "path": [
         "values",
         "buffer"
        ]
       }
      ],
      "model_module": "jupyter-threejs",
      "model_module_version": "1.0.0-beta.4",
      "model_name": "VectorKeyframeTrackModel",
      "state": {
       "_view_module": null,
       "_view_module_version": "",
       "name": ".position",
       "times": {
        "dtype": "int32",
        "shape": [
         3
        ]
       },
       "type": "Bone",
       "values": {
        "dtype": "float32",
        "shape": [
         9
        ]
       }
      }
     },
     "fe7d6be53ed14f83aefad6e22b36689b": {
      "model_module": "jupyter-threejs",
      "model_module_version": "1.0.0-beta.4",
      "model_name": "BoneModel",
      "state": {
       "_view_module": null,
       "_view_module_version": "",
       "children": [
        "IPY_MODEL_3364136f8f3946b3a687f479e6d395a9"
       ],
       "position": [
        0,
        25,
        0
       ],
       "type": "Bone"
      }
     }
    },
    "version_major": 2,
    "version_minor": 0
   }
  }
 },
 "nbformat": 4,
 "nbformat_minor": 2
}
