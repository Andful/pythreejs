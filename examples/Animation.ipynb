{
 "cells": [
  {
   "cell_type": "markdown",
   "metadata": {},
   "source": [
    "# Animation"
   ]
  },
  {
   "cell_type": "code",
   "execution_count": null,
   "metadata": {},
   "outputs": [],
   "source": [
    "from pythreejs import *\n",
    "import ipywidgets\n",
    "from IPython.display import display"
   ]
  },
  {
   "cell_type": "code",
   "execution_count": null,
   "metadata": {},
   "outputs": [],
   "source": [
    "view_width = 600\n",
    "view_height = 400"
   ]
  },
  {
   "cell_type": "markdown",
   "metadata": {},
   "source": [
    "Let's first set up a basic scene with a cube and a sphere,"
   ]
  },
  {
   "cell_type": "code",
   "execution_count": null,
   "metadata": {},
   "outputs": [],
   "source": [
    "sphere = Mesh(\n",
    "    SphereBufferGeometry(1, 32, 16),\n",
    "    MeshStandardMaterial(color='red')\n",
    ")"
   ]
  },
  {
   "cell_type": "code",
   "execution_count": null,
   "metadata": {},
   "outputs": [],
   "source": [
    "cube = Mesh(\n",
    "    BoxBufferGeometry(1, 1, 1),\n",
    "    MeshPhysicalMaterial(color='green'),\n",
    "    position=[2, 0, 4]\n",
    ")"
   ]
  },
  {
   "cell_type": "markdown",
   "metadata": {},
   "source": [
    "as well as lighting and camera:"
   ]
  },
  {
   "cell_type": "code",
   "execution_count": null,
   "metadata": {},
   "outputs": [],
   "source": [
    "camera = PerspectiveCamera( position=[10, 6, 10], aspect=view_width/view_height)\n",
    "key_light = DirectionalLight(position=[0, 10, 10])\n",
    "ambient_light = AmbientLight()"
   ]
  },
  {
   "cell_type": "markdown",
   "metadata": {},
   "source": [
    "## Keyframe animation\n",
    "\n",
    "The three.js animation system is build as a [keyframe](https://en.wikipedia.org/wiki/Key_frame) system. We'll demonstrate this by animating the position and rotation of our camera."
   ]
  },
  {
   "cell_type": "markdown",
   "metadata": {},
   "source": [
    "First, we set up the keyframes for the position and the rotation separately:"
   ]
  },
  {
   "cell_type": "code",
   "execution_count": null,
   "metadata": {},
   "outputs": [],
   "source": [
    "positon_track = VectorKeyframeTrack(name='.position',\n",
    "    times=[0, 2, 5],\n",
    "    values=[10, 6, 10,\n",
    "            6.3, 3.78, 6.3,\n",
    "            -2.98, 0.84, 9.2,\n",
    "           ])\n",
    "rotation_track = QuaternionKeyframeTrack(name='.quaternion',\n",
    "    times=[0, 2, 5],\n",
    "    values=[-0.184, 0.375, 0.0762, 0.905,\n",
    "            -0.184, 0.375, 0.0762, 0.905,\n",
    "            -0.0430, -0.156, -0.00681, 0.987,\n",
    "           ])"
   ]
  },
  {
   "cell_type": "markdown",
   "metadata": {},
   "source": [
    "Next, we create an animation clip combining the two tracks, and finally an animation action to control the animation. See the three.js docs for more details on the different responsibilities of the different classes."
   ]
  },
  {
   "cell_type": "code",
   "execution_count": null,
   "metadata": {},
   "outputs": [],
   "source": [
    "camera_clip = AnimationClip(tracks=[positon_track, rotation_track])\n",
    "camera_action = AnimationAction(AnimationMixer(camera), camera_clip, camera)"
   ]
  },
  {
   "cell_type": "markdown",
   "metadata": {},
   "source": [
    "Now, let's see it in action:"
   ]
  },
  {
   "cell_type": "code",
   "execution_count": null,
   "metadata": {},
   "outputs": [],
   "source": [
    "scene = Scene(children=[sphere, cube, camera, key_light, ambient_light])\n",
    "controller = OrbitControls(controlling=camera)\n",
    "renderer = Renderer(camera=camera, scene=scene, controls=[controller], width=view_width, height=view_height)"
   ]
  },
  {
   "cell_type": "code",
   "execution_count": null,
   "metadata": {},
   "outputs": [],
   "source": [
    "renderer"
   ]
  },
  {
   "cell_type": "code",
   "execution_count": null,
   "metadata": {},
   "outputs": [],
   "source": [
    "camera_action"
   ]
  },
  {
   "cell_type": "markdown",
   "metadata": {},
   "source": [
    "Let's add another animation clip, this time animating the color of the sphere's material:"
   ]
  },
  {
   "cell_type": "code",
   "execution_count": null,
   "metadata": {},
   "outputs": [],
   "source": [
    "color_track = ColorKeyframeTrack(name='.material.color',\n",
    "    times=[0, 1], values=[1, 0, 0,  0, 0, 1])  # red to blue\n",
    "\n",
    "color_clip = AnimationClip(tracks=[color_track], duration=1.5)\n",
    "color_action = AnimationAction(AnimationMixer(sphere), color_clip, sphere)"
   ]
  },
  {
   "cell_type": "code",
   "execution_count": null,
   "metadata": {},
   "outputs": [],
   "source": [
    "color_action"
   ]
  },
  {
   "cell_type": "markdown",
   "metadata": {},
   "source": [
    "Note how the two animation clips can freely be combined since they affect different properties. It's also worth noting that the color animation can be combined with manual camera control, while the camera animation cannot. When animating the camera, you might want to consider disabling the manual controls."
   ]
  },
  {
   "cell_type": "markdown",
   "metadata": {},
   "source": [
    "### Animating rotation\n",
    "\n",
    "When animating the camera rotation above, we used the camera's `quaternion`. This is the most robust method if animating free-form rotations. For example, the animation above was created by first moving the camera manually, and then reading out its `position` and `quaternion` properties at the wanted views. If you want more intuitive axes control, it is possible to animate the `rotation` sub-attributes instead, as shown below."
   ]
  },
  {
   "cell_type": "code",
   "execution_count": null,
   "metadata": {},
   "outputs": [],
   "source": [
    "f = \"\"\"\n",
    "function f(origu,origv) {\n",
    "    // scale u and v to the ranges I want: [0, 2*pi]\n",
    "    var u = 2*Math.PI*origu;\n",
    "    var v = 2*Math.PI*origv;\n",
    "    \n",
    "    var x = Math.sin(u);\n",
    "    var y = Math.cos(v);\n",
    "    var z = Math.cos(u+v);\n",
    "    \n",
    "    return new THREE.Vector3(x,y,z)\n",
    "}\n",
    "\"\"\"\n",
    "surf_g = ParametricGeometry(func=f, slices=16, stacks=16);\n",
    "\n",
    "surf1 = Mesh(geometry=surf_g, material=MeshLambertMaterial(color='green', side='FrontSide'))\n",
    "surf2 = Mesh(geometry=surf_g, material=MeshLambertMaterial(color='yellow', side='BackSide'))\n",
    "surf = Group(children=[surf1, surf2])\n",
    "\n",
    "camera2 = PerspectiveCamera( position=[10, 6, 10], aspect=view_width/view_height)\n",
    "scene2 = Scene(children=[surf, camera2,\n",
    "                         DirectionalLight(position=[3, 5, 1], intensity=0.6),\n",
    "                         AmbientLight(intensity=0.5)])\n",
    "renderer2 = Renderer(camera=camera2, scene=scene2, controls=[OrbitControls(controlling=camera2)],\n",
    "                     width=view_width, height=view_height)\n",
    "display(renderer2)"
   ]
  },
  {
   "cell_type": "code",
   "execution_count": null,
   "metadata": {},
   "outputs": [],
   "source": [
    "spin_track = NumberKeyframeTrack(name='.rotation[y]', times=[0, 2], values=[0, 6.28])\n",
    "spin_clip = AnimationClip(tracks=[spin_track])\n",
    "spin_action = AnimationAction(AnimationMixer(surf), spin_clip, surf)\n",
    "spin_action"
   ]
  },
  {
   "cell_type": "markdown",
   "metadata": {},
   "source": [
    "Note that we are spinning the object itself, and that we are therefore free to manipulate the camera at will."
   ]
  },
  {
   "cell_type": "markdown",
   "metadata": {},
   "source": [
    "## Morph targets\n",
    "\n",
    "Set up a simple sphere geometry, and add a morph target that is an oblong pill shape:"
   ]
  },
  {
   "cell_type": "code",
   "execution_count": null,
   "metadata": {},
   "outputs": [],
   "source": [
    "# This lets three.js create the geometry, then syncs back vertex positions etc.\n",
    "# For this reason, you should allow for the sync to complete before executing the next cell\n",
    "morph = PlainBufferGeometry.from_geometry(SphereBufferGeometry(1, 32, 16))"
   ]
  },
  {
   "cell_type": "code",
   "execution_count": null,
   "metadata": {
    "tags": [
     "nbval-skip"
    ]
   },
   "outputs": [],
   "source": [
    "import numpy as np\n",
    "\n",
    "# Set up morph targets:\n",
    "vertices = np.array(morph.attributes['position'].array)\n",
    "for i in range(len(vertices)):\n",
    "    if vertices[i, 0] > 0:\n",
    "        vertices[i, 0] += 1\n",
    "morph.morphAttributes = {'position': [\n",
    "    BufferAttribute(vertices),\n",
    "]}\n",
    "\n",
    "morphMesh = Mesh(morph, MeshPhongMaterial(color='#ff3333', shininess=150, morphTargets=True))"
   ]
  },
  {
   "cell_type": "markdown",
   "metadata": {},
   "source": [
    "Set up animation for going back and forth between the sphere and pill shape:"
   ]
  },
  {
   "cell_type": "code",
   "execution_count": null,
   "metadata": {
    "tags": [
     "nbval-skip"
    ]
   },
   "outputs": [],
   "source": [
    "pill_track = NumberKeyframeTrack(name='.morphTargetInfluences[0]', times=[0, 1.5, 3], values=[0, 2.5, 0])\n",
    "pill_clip = AnimationClip(tracks=[pill_track])\n",
    "pill_action = AnimationAction(AnimationMixer(morphMesh), pill_clip, morphMesh)"
   ]
  },
  {
   "cell_type": "code",
   "execution_count": null,
   "metadata": {
    "tags": [
     "nbval-skip"
    ]
   },
   "outputs": [],
   "source": [
    "camera3 = PerspectiveCamera( position=[5, 3, 5], aspect=view_width/view_height)\n",
    "scene3 = Scene(children=[morphMesh, camera3,\n",
    "                         DirectionalLight(position=[3, 5, 1], intensity=0.6),\n",
    "                         AmbientLight(intensity=0.5)])\n",
    "renderer3 = Renderer(camera=camera3, scene=scene3, controls=[OrbitControls(controlling=camera3)],\n",
    "                     width=view_width, height=view_height)\n",
    "display(renderer3, pill_action)"
   ]
  },
  {
   "cell_type": "markdown",
   "metadata": {},
   "source": [
    "## Skeletal animation\n",
    "\n",
    "First, set up a skinned mesh with some bones:"
   ]
  },
  {
   "cell_type": "code",
   "execution_count": null,
   "metadata": {},
   "outputs": [],
   "source": [
    "import numpy as np\n",
    "\n",
    "N_BONES = 3\n",
    "\n",
    "ref_cylinder = CylinderGeometry(5, 5, 50, 5, N_BONES * 5, True)\n",
    "cylinder = PlainGeometry.from_geometry(ref_cylinder)"
   ]
  },
  {
   "cell_type": "code",
   "execution_count": null,
   "metadata": {},
   "outputs": [],
   "source": [
    "skinIndices = []\n",
    "skinWeights = []\n",
    "\n",
    "vertices = cylinder.vertices\n",
    "boneHeight = ref_cylinder.height / (N_BONES - 1)\n",
    "for i in range(len(vertices)):\n",
    "\n",
    "    vertex = vertices[i];\n",
    "    y = vertex[1] + 0.5 * ref_cylinder.height\n",
    "\n",
    "    skinIndex = y // boneHeight;\n",
    "    skinWeight = ( y % boneHeight ) / boneHeight;\n",
    "\n",
    "    # Ease between each bone\n",
    "    skinIndices.append([skinIndex, skinIndex + 1, 0, 0 ])\n",
    "    skinWeights.append([1 - skinWeight, skinWeight, 0, 0 ])\n",
    "\n",
    "cylinder.skinIndices = skinIndices\n",
    "cylinder.skinWeights = skinWeights\n",
    "\n",
    "shoulder = Bone(position=(0, -25, 0))\n",
    "elbow = Bone(position=(0, 25, 0))\n",
    "hand = Bone(position=(0, 25, 0))\n",
    "\n",
    "shoulder.add(elbow)\n",
    "elbow.add(hand)\n",
    "bones = [shoulder, elbow, hand]\n",
    "skeleton = Skeleton(bones)\n",
    "\n",
    "mesh = SkinnedMesh(cylinder, MeshPhongMaterial(side='DoubleSide', skinning=True))\n",
    "mesh.add(bones[0])\n",
    "mesh.skeleton = skeleton"
   ]
  },
  {
   "cell_type": "code",
   "execution_count": null,
   "metadata": {},
   "outputs": [],
   "source": [
    "helper = SkeletonHelper(mesh)"
   ]
  },
  {
   "cell_type": "markdown",
   "metadata": {},
   "source": [
    "Next, set up some simple rotation animations for the bones:"
   ]
  },
  {
   "cell_type": "code",
   "execution_count": null,
   "metadata": {},
   "outputs": [],
   "source": [
    "# Rotate on x and z axes:\n",
    "bend_tracks = [\n",
    "    NumberKeyframeTrack(name='.bones[1].rotation[x]', times=[0, 0.5, 1.5, 2], values=[0, 0.3, -0.3, 0]),\n",
    "    NumberKeyframeTrack(name='.bones[1].rotation[z]', times=[0, 0.5, 1.5, 2], values=[0, 0.3, -0.3, 0]),\n",
    "    NumberKeyframeTrack(name='.bones[2].rotation[x]', times=[0, 0.5, 1.5, 2], values=[0, -0.3, 0.3, 0]),\n",
    "    NumberKeyframeTrack(name='.bones[2].rotation[z]', times=[0, 0.5, 1.5, 2], values=[0, -0.3, 0.3, 0]),\n",
    "]\n",
    "bend_clip = AnimationClip(tracks=bend_tracks)\n",
    "bend_action = AnimationAction(AnimationMixer(mesh), bend_clip, mesh)\n",
    "    \n",
    "# Rotate on y axis:\n",
    "wring_tracks = [\n",
    "    NumberKeyframeTrack(name='.bones[1].rotation[y]', times=[0, 0.5, 1.5, 2], values=[0, 0.7, -0.7, 0]),\n",
    "    NumberKeyframeTrack(name='.bones[2].rotation[y]', times=[0, 0.5, 1.5, 2], values=[0, 0.7, -0.7, 0]),\n",
    "]\n",
    "\n",
    "wring_clip = AnimationClip(tracks=wring_tracks)\n",
    "wring_action = AnimationAction(AnimationMixer(mesh), wring_clip, mesh)"
   ]
  },
  {
   "cell_type": "code",
   "execution_count": null,
   "metadata": {},
   "outputs": [],
   "source": [
    "camera4 = PerspectiveCamera( position=[40, 24, 40], aspect=view_width/view_height)\n",
    "scene4 = Scene(children=[mesh, helper, camera4,\n",
    "                         DirectionalLight(position=[3, 5, 1], intensity=0.6),\n",
    "                         AmbientLight(intensity=0.5)])\n",
    "renderer4 = Renderer(camera=camera4, scene=scene4, controls=[OrbitControls(controlling=camera4)],\n",
    "                     width=view_width, height=view_height)\n",
    "display(renderer4)"
   ]
  },
  {
   "cell_type": "code",
   "execution_count": null,
   "metadata": {},
   "outputs": [],
   "source": [
    "bend_action"
   ]
  },
  {
   "cell_type": "code",
   "execution_count": null,
   "metadata": {},
   "outputs": [],
   "source": [
    "wring_action"
   ]
  },
  {
   "cell_type": "code",
   "execution_count": null,
   "metadata": {},
   "outputs": [],
   "source": []
  }
 ],
 "metadata": {
  "kernelspec": {
   "display_name": "Python 3",
   "language": "python",
   "name": "python3"
  },
  "language_info": {
   "codemirror_mode": {
    "name": "ipython",
    "version": 3
   },
   "file_extension": ".py",
   "mimetype": "text/x-python",
   "name": "python",
   "nbconvert_exporter": "python",
   "pygments_lexer": "ipython3",
   "version": "3.5.4"
  }
 },
 "nbformat": 4,
 "nbformat_minor": 2
}
