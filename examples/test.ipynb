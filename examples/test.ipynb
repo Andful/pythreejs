{
 "cells": [
  {
   "cell_type": "code",
   "execution_count": 1,
   "metadata": {
    "collapsed": false
   },
   "outputs": [],
   "source": [
    "from pythreejs import *\n",
    "from IPython.display import display"
   ]
  },
  {
   "cell_type": "code",
   "execution_count": 2,
   "metadata": {
    "collapsed": false
   },
   "outputs": [],
   "source": [
    "# Materials\n",
    "mat = MeshStandardMaterial(color='#ff0000')\n",
    "mat_green = MeshStandardMaterial(color='#00ff00')\n",
    "mat_blue = MeshStandardMaterial(color='#0000ff')"
   ]
  },
  {
   "cell_type": "code",
   "execution_count": 3,
   "metadata": {
    "collapsed": true
   },
   "outputs": [],
   "source": [
    "# Geometries\n",
    "torus = TorusGeometry(radius=12, tube=3, radialSegments=16, tubularSegments=100)\n",
    "sphere = SphereGeometry(radius=3)"
   ]
  },
  {
   "cell_type": "code",
   "execution_count": 4,
   "metadata": {
    "collapsed": true
   },
   "outputs": [],
   "source": [
    "# Objects\n",
    "mesh = Mesh(geometry=torus, material=mat)\n",
    "sphereMesh = Mesh(geometry=sphere, material=mat_green)\n",
    "\n",
    "left = Mesh(geometry=sphere, material=mat, position=[-10, 0, 0])\n",
    "center = Mesh(geometry=sphere, material=mat_green)\n",
    "right = Mesh(geometry=sphere, material=mat_blue, position=[10, 0, 0])"
   ]
  },
  {
   "cell_type": "code",
   "execution_count": 5,
   "metadata": {
    "collapsed": false
   },
   "outputs": [],
   "source": [
    "# Scenes\n",
    "scene = Scene()"
   ]
  },
  {
   "cell_type": "code",
   "execution_count": 6,
   "metadata": {
    "collapsed": true
   },
   "outputs": [],
   "source": [
    "scene.add(left)\n",
    "scene.add(center)\n",
    "scene.add(right)"
   ]
  },
  {
   "cell_type": "code",
   "execution_count": 7,
   "metadata": {
    "collapsed": true
   },
   "outputs": [],
   "source": [
    "# Cameras\n",
    "cam = PerspectiveCamera(position=[0, 0, 50], fov=75)\n",
    "cam.lookAt([0, 0, 0])"
   ]
  },
  {
   "cell_type": "code",
   "execution_count": 8,
   "metadata": {
    "collapsed": true
   },
   "outputs": [],
   "source": [
    "scene.add(cam)"
   ]
  },
  {
   "cell_type": "code",
   "execution_count": 9,
   "metadata": {
    "collapsed": true
   },
   "outputs": [],
   "source": [
    "# Lights\n",
    "amb = AmbientLight(color=\"#ffffff\", intensity=0.5)\n",
    "\n",
    "point = PointLight(color=\"#ffffff\", intensity=1.0, distance=0.0)\n",
    "point.position = [ -100, 100, 100 ]\n",
    "point.lookAt([0, 0, 0])"
   ]
  },
  {
   "cell_type": "code",
   "execution_count": 10,
   "metadata": {
    "collapsed": true
   },
   "outputs": [],
   "source": [
    "cam.add(amb)\n",
    "cam.add(point)"
   ]
  },
  {
   "cell_type": "code",
   "execution_count": 11,
   "metadata": {
    "collapsed": true
   },
   "outputs": [],
   "source": [
    "# Renderer\n",
    "renderer = WebGLRenderer()"
   ]
  },
  {
   "cell_type": "code",
   "execution_count": 12,
   "metadata": {
    "collapsed": true
   },
   "outputs": [],
   "source": [
    "renderer"
   ]
  },
  {
   "cell_type": "code",
   "execution_count": 13,
   "metadata": {
    "collapsed": false
   },
   "outputs": [],
   "source": [
    "renderer.render(scene, cam)"
   ]
  },
  {
   "cell_type": "code",
   "execution_count": null,
   "metadata": {
    "collapsed": true
   },
   "outputs": [],
   "source": []
  }
 ],
 "metadata": {
  "anaconda-cloud": {},
  "kernelspec": {
   "display_name": "Python [py27]",
   "language": "python",
   "name": "Python [py27]"
  },
  "language_info": {
   "codemirror_mode": {
    "name": "ipython",
    "version": 2
   },
   "file_extension": ".py",
   "mimetype": "text/x-python",
   "name": "python",
   "nbconvert_exporter": "python",
   "pygments_lexer": "ipython2",
   "version": "2.7.12"
  }
 },
 "nbformat": 4,
 "nbformat_minor": 0
}
