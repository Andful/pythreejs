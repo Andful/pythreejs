{
 "cells": [
  {
   "cell_type": "code",
   "execution_count": 4,
   "metadata": {
    "collapsed": false
   },
   "outputs": [
    {
     "data": {
      "application/javascript": [
       "require(['nbextensions/pythreejs/pythreejs'])"
      ],
      "text/plain": [
       "<IPython.core.display.Javascript object>"
      ]
     },
     "metadata": {},
     "output_type": "display_data"
    }
   ],
   "source": [
    "%%javascript\n",
    "require(['nbextensions/pythreejs/pythreejs'])"
   ]
  },
  {
   "cell_type": "code",
   "execution_count": 18,
   "metadata": {
    "collapsed": true
   },
   "outputs": [],
   "source": [
    "from pythreejs import *\n",
    "import numpy as np\n",
    "from IPython.display import display\n",
    "from IPython.html.widgets import *"
   ]
  },
  {
   "cell_type": "code",
   "execution_count": 25,
   "metadata": {
    "collapsed": true
   },
   "outputs": [],
   "source": [
    "nx,ny=(20,20)\n",
    "xmax=1\n",
    "x = np.linspace(-xmax,xmax,nx)\n",
    "y = np.linspace(-xmax,xmax,ny)\n",
    "xx, yy = np.meshgrid(x,y)\n",
    "z = xx**2-yy**2\n",
    "g = SurfaceGeometry(z=list(z[::-1].flat), \n",
    "                          width=2*xmax,\n",
    "                          height=2*xmax,\n",
    "                          width_segments=nx-1,\n",
    "                          height_segments=ny-1)\n",
    "surf = Mesh(geometry=g, material=LambertMaterial(color='white'))\n",
    "children = [surf, AmbientLight(color=0x777777)]\n",
    "children.append(SurfaceGrid(geometry=g, material=LineBasicMaterial(color='black')))\n",
    "\n",
    "scene = Scene(children=children)\n",
    "c = PerspectiveCamera(position=[0,5,5], up=[0,0,1], children=[DirectionalLight(color='white', \n",
    "                                                                             position=[3,5,1], \n",
    "                                                                             intensity=0.5)])\n",
    "renderer = Renderer(camera=c, scene = scene, controls=[OrbitControls(controlling=c)])\n",
    "display(renderer)"
   ]
  },
  {
   "cell_type": "code",
   "execution_count": 23,
   "metadata": {
    "collapsed": false
   },
   "outputs": [],
   "source": [
    "g = SphereGeometry(radius=1)\n",
    "surf = Mesh(geometry=g, material=LambertMaterial(color='red'), position=[2,1,0])\n",
    "children = [surf, AmbientLight(color=0x777777)]\n",
    "scene = Scene(children=children)\n",
    "c = PerspectiveCamera(position=[0,5,5], up=[0,0,1], children=[DirectionalLight(color='white', \n",
    "                                                                             position=[3,5,1], \n",
    "                                                                             intensity=0.5)])\n",
    "renderer = Renderer(camera=c, scene = scene, controls=[OrbitControls(controlling=c)])\n",
    "display(renderer)"
   ]
  },
  {
   "cell_type": "code",
   "execution_count": null,
   "metadata": {
    "collapsed": true
   },
   "outputs": [],
   "source": []
  }
 ],
 "metadata": {
  "kernelspec": {
   "display_name": "IPython (Python 2)",
   "name": "python2"
  },
  "language_info": {
   "codemirror_mode": {
    "name": "ipython",
    "version": 2
   },
   "mimetype": "text/x-python",
   "name": "python",
   "pygments_lexer": "ipython2"
  },
  "signature": "sha256:ce729364d9926a0aba12b3bccb8afbf0f34ff1c35793684bdfe514b99588dd2e"
 },
 "nbformat": 4,
 "nbformat_minor": 0
}