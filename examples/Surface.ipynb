{
 "metadata": {
  "name": "",
  "signature": "sha256:5da481ddee2fe5864bd7e3df32c1f08c7ab5d4becd4a30c8f0c031911456108a"
 },
 "nbformat": 3,
 "nbformat_minor": 0,
 "worksheets": [
  {
   "cells": [
    {
     "cell_type": "code",
     "collapsed": true,
     "input": [
      "from pythreejs import *\n",
      "import numpy as np\n",
      "from IPython.display import display\n",
      "from IPython.html.widgets import *"
     ],
     "language": "python",
     "metadata": {},
     "outputs": [],
     "prompt_number": 15
    },
    {
     "cell_type": "code",
     "collapsed": true,
     "input": [
      "# This is not working right now.  It should provide a 3d surface\n",
      "nx,ny=(20,20)\n",
      "xmax=1\n",
      "x = np.linspace(-xmax,xmax,nx)\n",
      "y = np.linspace(-xmax,xmax,ny)\n",
      "xx, yy = np.meshgrid(x,y)\n",
      "z = xx**2-yy**2\n",
      "g = SurfaceGeometry(z=list(z[::-1].flat), \n",
      "                          width=2*xmax,\n",
      "                          height=2*xmax,\n",
      "                          width_segments=nx-1,\n",
      "                          height_segments=ny-1)\n",
      "surf = Mesh(geometry=g, material=LambertMaterial(color='white'))\n",
      "children = [surf, AmbientLight(color=0x777777)]\n",
      "children.append(SurfaceGrid(geometry=g, material=LineBasicMaterial(color='black')))\n",
      "\n",
      "scene = Scene(children=children)\n",
      "c = PerspectiveCamera(position=[0,5,5], up=[0,0,1], children=[DirectionalLight(color='white', \n",
      "                                                                             position=[3,5,1], \n",
      "                                                                             intensity=0.5)])\n",
      "renderer = Renderer(camera=c, scene = scene, controls=[OrbitControls(controlling=c)])\n",
      "display(renderer)"
     ],
     "language": "python",
     "metadata": {},
     "outputs": [],
     "prompt_number": 17
    },
    {
     "cell_type": "code",
     "collapsed": true,
     "input": [],
     "language": "python",
     "metadata": {},
     "outputs": []
    }
   ],
   "metadata": {}
  }
 ]
}