{
 "metadata": {
  "name": "",
  "signature": "sha256:21d8434598c65975df36a3c2f24d9d3290a8a9c74638fe9c69bf99d1cc8564e7"
 },
 "nbformat": 3,
 "nbformat_minor": 0,
 "worksheets": [
  {
   "cells": [
    {
     "cell_type": "code",
     "collapsed": false,
     "input": [
      "%%javascript\n",
      "$.getScript('https://rawgit.com/jasongrout/pythreejs/master/pythreejs.js')"
     ],
     "language": "python",
     "metadata": {},
     "outputs": [
      {
       "javascript": [
        "$.getScript('https://rawgit.com/jasongrout/pythreejs/master/pythreejs.js')"
       ],
       "metadata": {},
       "output_type": "display_data",
       "text": [
        "<IPython.core.display.Javascript object>"
       ]
      }
     ],
     "prompt_number": 27
    },
    {
     "cell_type": "code",
     "collapsed": false,
     "input": [
      "import urllib\n",
      "urllib.urlretrieve('https://raw.githubusercontent.com/jasongrout/pythreejs/master/pythreejs.py', './pythreejs.py')\n"
     ],
     "language": "python",
     "metadata": {},
     "outputs": [
      {
       "metadata": {},
       "output_type": "pyout",
       "prompt_number": 28,
       "text": [
        "('./pythreejs.py', <httplib.HTTPMessage instance at 0x110f9b7a0>)"
       ]
      }
     ],
     "prompt_number": 28
    },
    {
     "cell_type": "code",
     "collapsed": false,
     "input": [
      "from pythreejs import *\n",
      "import numpy as np\n",
      "from IPython.display import display\n",
      "from IPython.html.widgets import *"
     ],
     "language": "python",
     "metadata": {},
     "outputs": [],
     "prompt_number": 29
    },
    {
     "cell_type": "code",
     "collapsed": false,
     "input": [
      "size = 4\n",
      "linesgeom = PlainGeometry(vertices=[[0,0,0],[size,0,0],[0,0,0],[0,size,0],[0,0,0],[0,0,size]],\n",
      "                          colors = ['red', 'red', 'green', 'green', 'white', 'white'])\n",
      "lines = Line(geometry=linesgeom, \n",
      "             material=LineBasicMaterial( linewidth=3, vertexColors='VertexColors'), \n",
      "             type='LineStrip')\n",
      "scene = Scene(children=[lines, DirectionalLight(color=0xccaabb, position=[0,10,0]),AmbientLight(color=0xcccccc)])\n",
      "c = PerspectiveCamera(position=[0,10,10])\n",
      "renderer = Renderer(camera=c, scene = scene, controls=[OrbitControls(controlling=c)])\n",
      "display(renderer)"
     ],
     "language": "python",
     "metadata": {},
     "outputs": [],
     "prompt_number": 34
    },
    {
     "cell_type": "code",
     "collapsed": false,
     "input": [],
     "language": "python",
     "metadata": {},
     "outputs": []
    }
   ],
   "metadata": {}
  }
 ]
}