{
 "metadata": {
  "name": "",
  "signature": "sha256:7d72875d4b1c999bfd752ecb8b30d46634ea07cb257aaf8d9e5dc54edce4bf87"
 },
 "nbformat": 3,
 "nbformat_minor": 0,
 "worksheets": [
  {
   "cells": [
    {
     "cell_type": "code",
     "collapsed": false,
     "input": [
      "%%javascript\n",
      "$.getScript('https://rawgit.com/jasongrout/pythreejs/lines/pythreejs.js')"
     ],
     "language": "python",
     "metadata": {},
     "outputs": [
      {
       "javascript": [
        "$.getScript('https://rawgit.com/jasongrout/pythreejs/lines/pythreejs.js')"
       ],
       "metadata": {},
       "output_type": "display_data",
       "text": [
        "<IPython.core.display.Javascript object>"
       ]
      }
     ],
     "prompt_number": 20
    },
    {
     "cell_type": "code",
     "collapsed": false,
     "input": [
      "import urllib\n",
      "urllib.urlretrieve('https://raw.githubusercontent.com/jasongrout/pythreejs/lines/pythreejs.py', './pythreejs.py')\n"
     ],
     "language": "python",
     "metadata": {},
     "outputs": [
      {
       "metadata": {},
       "output_type": "pyout",
       "prompt_number": 21,
       "text": [
        "('./pythreejs.py', <httplib.HTTPMessage instance at 0x110f7b9e0>)"
       ]
      }
     ],
     "prompt_number": 21
    },
    {
     "cell_type": "code",
     "collapsed": false,
     "input": [
      "from pythreejs import *\n",
      "import numpy as np\n",
      "from IPython.display import display\n",
      "from IPython.html.widgets import *"
     ],
     "language": "python",
     "metadata": {},
     "outputs": [],
     "prompt_number": 22
    },
    {
     "cell_type": "code",
     "collapsed": false,
     "input": [
      "size = 4\n",
      "linesgeom = PlainGeometry(vertices=[[0,0,0],[size,0,0],[0,0,0],[0,size,0],[0,0,0],[0,0,size]],\n",
      "                          colors = ['red', 'red', 'green', 'green', 'white', 'white'])\n",
      "lines = Line(geometry=linesgeom, material=LineBasicMaterial( linewidth=3, vertexColors='VertexColors'))\n",
      "scene = Scene(children=[lines, DirectionalLight(color=0xccaabb, position=[0,10,0]),AmbientLight(color=0xcccccc)])\n",
      "c = PerspectiveCamera(position=[0,10,10])\n",
      "renderer = Renderer(camera=c, scene = scene, controls=[OrbitControls(controlling=c)])\n",
      "display(renderer)"
     ],
     "language": "python",
     "metadata": {},
     "outputs": [],
     "prompt_number": 26
    },
    {
     "cell_type": "code",
     "collapsed": false,
     "input": [],
     "language": "python",
     "metadata": {},
     "outputs": []
    }
   ],
   "metadata": {}
  }
 ]
}