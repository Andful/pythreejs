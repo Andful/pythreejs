{
 "cells": [
  {
   "cell_type": "code",
   "execution_count": 471,
   "metadata": {
    "collapsed": true
   },
   "outputs": [],
   "source": [
    "%reset -f"
   ]
  },
  {
   "cell_type": "markdown",
   "metadata": {},
   "source": [
    "# Voxel painter in pythreejs\n",
    "Based on: [voxel painter](http://threejs.org/examples/webgl_interactive_voxelpainter.html) ([source](https://github.com/mrdoob/three.js/blob/master/examples/webgl_interactive_voxelpainter.html))\n",
    "\n",
    "TODO: \n",
    "    - Have rollOver helper snap to other voxel face\n",
    "    - Delete voxel when shift-clicked"
   ]
  },
  {
   "cell_type": "code",
   "execution_count": 472,
   "metadata": {
    "collapsed": false
   },
   "outputs": [],
   "source": [
    "from __future__ import division, print_function"
   ]
  },
  {
   "cell_type": "code",
   "execution_count": 473,
   "metadata": {
    "collapsed": false
   },
   "outputs": [],
   "source": [
    "from pythreejs import *\n",
    "from IPython.display import display\n",
    "from ipywidgets import HTML\n",
    "from traitlets import link"
   ]
  },
  {
   "cell_type": "code",
   "execution_count": 474,
   "metadata": {
    "collapsed": true
   },
   "outputs": [],
   "source": [
    "import random\n",
    "import math\n",
    "import numpy as np"
   ]
  },
  {
   "cell_type": "markdown",
   "metadata": {},
   "source": [
    "### Geometry definitions"
   ]
  },
  {
   "cell_type": "code",
   "execution_count": 475,
   "metadata": {
    "collapsed": true
   },
   "outputs": [],
   "source": [
    "csize = 50 # size of voxel\n",
    "stepx, stepy = csize, csize\n",
    "sizex, sizey = 10*csize, 10*csize"
   ]
  },
  {
   "cell_type": "markdown",
   "metadata": {},
   "source": [
    "### Helper functions"
   ]
  },
  {
   "cell_type": "code",
   "execution_count": 476,
   "metadata": {
    "collapsed": false
   },
   "outputs": [],
   "source": [
    "def normalize(list):\n",
    "    \"\"\" \n",
    "    Normalize vector list \n",
    "    \"\"\"\n",
    "    return [x/sum(list) for x in list]\n",
    "\n",
    "def rotation_matrix(angle, axis='x'):\n",
    "    \"\"\" \n",
    "    Return rotation matrix as list of rows used in the\n",
    "    Object3d.quaternion_from_rotation() class method\n",
    "    \"\"\"\n",
    "    if axis in ['x','y','z']:\n",
    "        sin = math.sin(angle)\n",
    "        cos = math.cos(angle)\n",
    "        # counter-clockwise rotation in yz-plane\n",
    "        if axis is 'x':\n",
    "            return [1, 0, 0, 0, cos, -sin, 0, sin, cos]\n",
    "        # counter-clockwise rotation in xz-plane\n",
    "        elif axis is 'y':\n",
    "            return [cos, 0, sin, 0, 1, 0, -sin, 0, cos]\n",
    "        # counter-clockwise rotation in xy-plane\n",
    "        elif axis is 'z':\n",
    "            return [cos, -sin, 0, sin, cos, 0, 0, 0, 1]\n",
    "    else:\n",
    "        raise ValueError('Cannot rotate about %s axis' % axis)"
   ]
  },
  {
   "cell_type": "markdown",
   "metadata": {},
   "source": [
    "### Scene objects:"
   ]
  },
  {
   "cell_type": "markdown",
   "metadata": {},
   "source": [
    "#### Voxels"
   ]
  },
  {
   "cell_type": "code",
   "execution_count": 477,
   "metadata": {
    "collapsed": true
   },
   "outputs": [],
   "source": [
    "cube_tex = ImageTexture(\n",
    "    imageuri = 'textures/square-outline-textured.png'\n",
    ")\n",
    "\n",
    "cube_geo = BoxGeometry(\n",
    "    width = csize,\n",
    "    height = csize,\n",
    "    depth = csize\n",
    ")\n",
    "\n",
    "cube_mat = LambertMaterial(\n",
    "    color = 0xfeb74c,\n",
    "    shading = 'FlatShading',\n",
    "    map = cube_tex\n",
    ")"
   ]
  },
  {
   "cell_type": "markdown",
   "metadata": {},
   "source": [
    "#### Roll-over helper"
   ]
  },
  {
   "cell_type": "code",
   "execution_count": 478,
   "metadata": {
    "collapsed": false
   },
   "outputs": [],
   "source": [
    "rollOver_geo = cube_geo\n",
    "\n",
    "rollOver_mat = BasicMaterial(\n",
    "    color = 0xff0000,\n",
    "    opacity = 0.5,\n",
    "    transparent = True\n",
    ")\n",
    "\n",
    "rollOver_point = Mesh(\n",
    "    geometry = rollOver_geo,\n",
    "    material = rollOver_mat\n",
    ")"
   ]
  },
  {
   "cell_type": "markdown",
   "metadata": {},
   "source": [
    "#### Surface"
   ]
  },
  {
   "cell_type": "code",
   "execution_count": 479,
   "metadata": {
    "collapsed": false
   },
   "outputs": [],
   "source": [
    "surf_geo = SurfaceGeometry(\n",
    "    z = [0]*sizex*sizey,\n",
    "    width = 2*sizex,\n",
    "    height = 2*sizey,\n",
    "    width_segments = 2*sizex//stepx,\n",
    "    height_segments = 2*sizey//stepy,\n",
    ")\n",
    "\n",
    "surf_grid = SurfaceGrid(\n",
    "    geometry = surf_geo,\n",
    "    material = LineBasicMaterial(\n",
    "        color = 0x000000,\n",
    "        opacity = 0.2,\n",
    "        transparant = True\n",
    "    ),\n",
    ")\n",
    "\n",
    "surface = Mesh(\n",
    "    geometry = surf_geo,\n",
    "    material = BasicMaterial(\n",
    "        color = 'red',\n",
    "        opacity = 0.2,\n",
    "    ),\n",
    "    visible = False\n",
    ")\n",
    "\n",
    "m = rotation_matrix(-math.pi/2)\n",
    "surface.quaternion_from_rotation(m)\n",
    "surf_grid.quaternion_from_rotation(m)"
   ]
  },
  {
   "cell_type": "markdown",
   "metadata": {},
   "source": [
    "### Pickers (raycasting)"
   ]
  },
  {
   "cell_type": "code",
   "execution_count": 480,
   "metadata": {
    "collapsed": false
   },
   "outputs": [],
   "source": [
    "click_picker = Picker(\n",
    "    root = surface,\n",
    "    event = 'click'\n",
    ")\n",
    "mousemove_picker = Picker(\n",
    "    root = surface,\n",
    "    event = 'mousemove'\n",
    ")"
   ]
  },
  {
   "cell_type": "code",
   "execution_count": 481,
   "metadata": {
    "collapsed": false
   },
   "outputs": [],
   "source": [
    "def map_to_grid(value):\n",
    "    \"\"\"\n",
    "    Convert continous to discrete coordinates\n",
    "    \"\"\"\n",
    "    # limit position to positive y-axis\n",
    "    if value[1] < 0: \n",
    "        value[1] = float(0)\n",
    "        \n",
    "    # limit to discrete steps based on cube size\n",
    "    pos = [int(x//csize*csize+csize/2) for x in value]\n",
    "\n",
    "    # if block already exist at this position, shift up\n",
    "    while tuple(pos) in objects.keys():\n",
    "        pos[1] += csize\n",
    "    return pos"
   ]
  },
  {
   "cell_type": "code",
   "execution_count": 482,
   "metadata": {
    "collapsed": false
   },
   "outputs": [],
   "source": [
    "objects = {} # contains all voxels added to the scene\n",
    "def on_click(name, value):\n",
    "    \"\"\"\n",
    "    Create new object when mouse is clicked\n",
    "    TODO: delete when shift-clicked\n",
    "    \"\"\"\n",
    "    # convert position to discrete coordinates\n",
    "    pos = map_to_grid(value)\n",
    "        \n",
    "    # create new object\n",
    "    point = Mesh(\n",
    "        geometry = cube_geo,\n",
    "        material = cube_mat,\n",
    "        position = pos\n",
    "    )\n",
    "    \n",
    "    # add new object to scene and object list\n",
    "    scene.children = scene.children + [point] #works\n",
    "    #scene.children.append(point) # doesnt work (see: https://github.com/jovyan/pythreejs/blob/master/pythreejs/pythreejs.py#L134)\n",
    "    objects[tuple(map(int,point.position))] = point"
   ]
  },
  {
   "cell_type": "code",
   "execution_count": 483,
   "metadata": {
    "collapsed": false
   },
   "outputs": [],
   "source": [
    "html = HTML()\n",
    "def on_mousemove(name, value):\n",
    "    \"\"\"\n",
    "    Show rollOver helper on mousemove\n",
    "    TODO: Snap rollOver helper to existing voxel\n",
    "    \"\"\"\n",
    "    # convert to discrete coordinates\n",
    "    pos = map_to_grid(value)\n",
    "    \n",
    "    # update rollOver helper position\n",
    "    rollOver_point.position = pos\n",
    "    \n",
    "    # write coordinates to html container\n",
    "    html.value = \"Coords: (%d, %d, %d)\" % tuple(pos)    \n",
    "\n",
    "# initialize with starting position\n",
    "on_mousemove(None, rollOver_point.position)"
   ]
  },
  {
   "cell_type": "code",
   "execution_count": 484,
   "metadata": {
    "collapsed": false
   },
   "outputs": [],
   "source": [
    "click_picker.on_trait_change(on_click, 'point')\n",
    "link((rollOver_point, 'position'), (mousemove_picker, 'point'))\n",
    "mousemove_picker.on_trait_change(on_mousemove, 'point')"
   ]
  },
  {
   "cell_type": "markdown",
   "metadata": {},
   "source": [
    "### Camera and scene"
   ]
  },
  {
   "cell_type": "code",
   "execution_count": 485,
   "metadata": {
    "code_folding": [
     0,
     5,
     12,
     23
    ],
    "collapsed": false
   },
   "outputs": [],
   "source": [
    "camera = PerspectiveCamera(\n",
    "    position = [500, 800, 1300],\n",
    "    fov = 35, \n",
    "    aspect = 16/10,\n",
    "    near = 1,\n",
    "    far = 10000\n",
    ")\n",
    "camera.look_at(camera.position, [0,0,0])"
   ]
  },
  {
   "cell_type": "code",
   "execution_count": 486,
   "metadata": {
    "collapsed": false
   },
   "outputs": [],
   "source": [
    "scene = Scene(\n",
    "    children = [\n",
    "        surface,\n",
    "        surf_grid,\n",
    "        rollOver_point,\n",
    "        AmbientLight(\n",
    "            color = 0x606060\n",
    "        ),\n",
    "        DirectionalLight(\n",
    "            color = 0xffffff,\n",
    "            position = normalize([1, 0.75, 0.5]),\n",
    "            intensity = 0.5\n",
    "        )\n",
    "    ]\n",
    ")"
   ]
  },
  {
   "cell_type": "markdown",
   "metadata": {},
   "source": [
    "### Render the scene"
   ]
  },
  {
   "cell_type": "code",
   "execution_count": 487,
   "metadata": {
    "collapsed": false
   },
   "outputs": [],
   "source": [
    "renderer = Renderer(\n",
    "    camera = camera,\n",
    "    scene = scene,\n",
    "    controls = [\n",
    "        OrbitControls(\n",
    "            controlling = camera\n",
    "        ),\n",
    "        click_picker,\n",
    "        mousemove_picker\n",
    "    ],\n",
    "    background = 0xf0f0f0,\n",
    "    antialias = True,\n",
    "    renderer_type = 'auto' #'auto', 'canvas', 'webgl'\n",
    ")"
   ]
  },
  {
   "cell_type": "code",
   "execution_count": 488,
   "metadata": {
    "collapsed": false
   },
   "outputs": [],
   "source": [
    "display(html, renderer)"
   ]
  }
 ],
 "metadata": {
  "kernelspec": {
   "display_name": "Python 2",
   "language": "python",
   "name": "python2"
  },
  "language_info": {
   "codemirror_mode": {
    "name": "ipython",
    "version": 2
   },
   "file_extension": ".py",
   "mimetype": "text/x-python",
   "name": "python",
   "nbconvert_exporter": "python",
   "pygments_lexer": "ipython2",
   "version": "2.7.10"
  }
 },
 "nbformat": 4,
 "nbformat_minor": 0
}
