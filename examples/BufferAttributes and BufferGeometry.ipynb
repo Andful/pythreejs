{
 "cells": [
  {
   "cell_type": "code",
   "execution_count": null,
   "metadata": {},
   "outputs": [],
   "source": [
    "from pythreejs import *\n",
    "from IPython.display import display\n",
    "import numpy as np"
   ]
  },
  {
   "cell_type": "code",
   "execution_count": null,
   "metadata": {},
   "outputs": [],
   "source": [
    "#\n",
    "# BufferAttribute\n",
    "#"
   ]
  },
  {
   "cell_type": "code",
   "execution_count": null,
   "metadata": {},
   "outputs": [],
   "source": [
    "b = BufferAttribute(\n",
    "    array=[\n",
    "        [11, 12, 13],\n",
    "        [21, 22, 23],\n",
    "        [31, 32, 33],\n",
    "    ],\n",
    "    normalized=False)"
   ]
  },
  {
   "cell_type": "code",
   "execution_count": null,
   "metadata": {},
   "outputs": [],
   "source": [
    "b.array = [ \n",
    "    [11, 12, 13],\n",
    "    [21,  0, 23],\n",
    "    [31, 32, 33],\n",
    "]"
   ]
  },
  {
   "cell_type": "code",
   "execution_count": null,
   "metadata": {},
   "outputs": [],
   "source": [
    "# should be able to modify elements in the array directly \n",
    "# but currently, change events are not fired when arrays are \n",
    "# updated using element-wise assignment\n",
    "# WON'T WORK\n",
    "b.array[0, 1] = 0"
   ]
  },
  {
   "cell_type": "code",
   "execution_count": null,
   "metadata": {},
   "outputs": [],
   "source": [
    "#\n",
    "# BufferGeometry\n",
    "#"
   ]
  },
  {
   "cell_type": "code",
   "execution_count": null,
   "metadata": {},
   "outputs": [],
   "source": [
    "# Simple square\n",
    "vertices = BufferAttribute(\n",
    "    array=np.array([\n",
    "        [-1.0, -1.0,  1.0],\n",
    "        [ 1.0, -1.0,  1.0],\n",
    "        [ 1.0,  1.0,  1.0],\n",
    "        \n",
    "        [ 1.0,  1.0,  1.0],\n",
    "        [-1.0,  1.0,  1.0],\n",
    "        [-1.0, -1.0,  1.0],\n",
    "    ], dtype=np.float32),\n",
    "    normalized=False)"
   ]
  },
  {
   "cell_type": "code",
   "execution_count": null,
   "metadata": {},
   "outputs": [],
   "source": [
    "geometry = PlainBufferGeometry(\n",
    "    attributes={'position': vertices},\n",
    ")"
   ]
  },
  {
   "cell_type": "code",
   "execution_count": null,
   "metadata": {},
   "outputs": [],
   "source": [
    "geometry"
   ]
  },
  {
   "cell_type": "code",
   "execution_count": null,
   "metadata": {},
   "outputs": [],
   "source": [
    "vertices.array = np.array([\n",
    "        [-1.0, -1.0,  1.0],\n",
    "        [ 2.0, -2.0,  2.0],\n",
    "        [ 1.0,  1.0,  1.0],\n",
    "        \n",
    "        [ 1.0,  1.0,  1.0],\n",
    "        [-1.0,  1.0,  1.0],\n",
    "        [-1.0, -1.0,  1.0],\n",
    "    ])"
   ]
  },
  {
   "cell_type": "code",
   "execution_count": null,
   "metadata": {},
   "outputs": [],
   "source": [
    "vertices.array = np.array([\n",
    "        [-1.0, -1.0,  1.0],\n",
    "        [ 1.0, -1.0,  1.0],\n",
    "        [ 1.0,  1.0,  1.0],\n",
    "        \n",
    "        [ 1.0,  1.0,  1.0],\n",
    "        [-1.0,  1.0,  1.0],\n",
    "        [-1.0, -1.0,  1.0],\n",
    "    ])"
   ]
  },
  {
   "cell_type": "code",
   "execution_count": null,
   "metadata": {},
   "outputs": [],
   "source": [
    "print(repr(geometry))"
   ]
  },
  {
   "cell_type": "code",
   "execution_count": null,
   "metadata": {},
   "outputs": [],
   "source": [
    "#\n",
    "# PlainBufferGeometry.from_geometry\n",
    "#"
   ]
  },
  {
   "cell_type": "code",
   "execution_count": null,
   "metadata": {},
   "outputs": [],
   "source": [
    "sphere = SphereBufferGeometry(10)"
   ]
  },
  {
   "cell_type": "code",
   "execution_count": null,
   "metadata": {},
   "outputs": [],
   "source": [
    "print(repr(sphere))"
   ]
  },
  {
   "cell_type": "code",
   "execution_count": null,
   "metadata": {},
   "outputs": [],
   "source": [
    "plain = PlainBufferGeometry.from_geometry(sphere)"
   ]
  },
  {
   "cell_type": "code",
   "execution_count": null,
   "metadata": {},
   "outputs": [],
   "source": [
    "plain"
   ]
  },
  {
   "cell_type": "code",
   "execution_count": null,
   "metadata": {},
   "outputs": [],
   "source": [
    "plain.attributes"
   ]
  },
  {
   "cell_type": "code",
   "execution_count": null,
   "metadata": {},
   "outputs": [],
   "source": []
  }
 ],
 "metadata": {
  "kernelspec": {
   "display_name": "Python 3",
   "language": "python",
   "name": "python3"
  },
  "language_info": {
   "codemirror_mode": {
    "name": "ipython",
    "version": 3
   },
   "file_extension": ".py",
   "mimetype": "text/x-python",
   "name": "python",
   "nbconvert_exporter": "python",
   "pygments_lexer": "ipython3",
   "version": "3.5.3"
  }
 },
 "nbformat": 4,
 "nbformat_minor": 1
}
