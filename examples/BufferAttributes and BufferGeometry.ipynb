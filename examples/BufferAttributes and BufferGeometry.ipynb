{
 "cells": [
  {
   "cell_type": "code",
   "execution_count": 1,
   "metadata": {},
   "outputs": [],
   "source": [
    "from pythreejs import *\n",
    "from IPython.display import display\n",
    "import numpy as np"
   ]
  },
  {
   "cell_type": "code",
   "execution_count": 2,
   "metadata": {},
   "outputs": [],
   "source": [
    "#\n",
    "# BufferAttribute\n",
    "# TODO: INCOMPLETE\n",
    "#"
   ]
  },
  {
   "cell_type": "code",
   "execution_count": 3,
   "metadata": {},
   "outputs": [],
   "source": [
    "b = BufferAttribute(\n",
    "    array=[\n",
    "        [11, 12, 13],\n",
    "        [21, 22, 23],\n",
    "        [31, 32, 33],\n",
    "    ],\n",
    "    normalized=False)"
   ]
  },
  {
   "cell_type": "code",
   "execution_count": 4,
   "metadata": {},
   "outputs": [],
   "source": [
    "b.array = [ \n",
    "    [11, 12, 13],\n",
    "    [21, 00, 23],\n",
    "    [31, 32, 33],\n",
    "]"
   ]
  },
  {
   "cell_type": "code",
   "execution_count": 5,
   "metadata": {},
   "outputs": [],
   "source": [
    "# should be able to modify elements in the array directly \n",
    "# but currently, change events are not fired when arrays are \n",
    "# updated using element-wise assignment\n",
    "# WON'T WORK\n",
    "b.array[0, 1] = 0"
   ]
  },
  {
   "cell_type": "code",
   "execution_count": 6,
   "metadata": {},
   "outputs": [],
   "source": [
    "#\n",
    "# BufferGeometry\n",
    "#"
   ]
  },
  {
   "cell_type": "code",
   "execution_count": 7,
   "metadata": {},
   "outputs": [],
   "source": [
    "# Simple square\n",
    "vertices = BufferAttribute(\n",
    "    array=np.array([\n",
    "        [-1.0, -1.0,  1.0],\n",
    "        [ 1.0, -1.0,  1.0],\n",
    "        [ 1.0,  1.0,  1.0],\n",
    "        \n",
    "        [ 1.0,  1.0,  1.0],\n",
    "        [-1.0,  1.0,  1.0],\n",
    "        [-1.0, -1.0,  1.0],\n",
    "    ], dtype=np.float32),\n",
    "    normalized=False)"
   ]
  },
  {
   "cell_type": "code",
   "execution_count": 8,
   "metadata": {},
   "outputs": [],
   "source": [
    "geometry = PlainBufferGeometry(\n",
    "    attributes={'position': vertices},\n",
    ")"
   ]
  },
  {
   "cell_type": "code",
   "execution_count": 16,
   "metadata": {},
   "outputs": [
    {
     "data": {
      "application/vnd.jupyter.widget-view+json": {
       "model_id": "e8e9822fd24d4155b35d135128267f4f",
       "version_major": "2",
       "version_minor": "0"
      },
      "text/plain": [
       "A Jupyter Widget"
      ]
     },
     "metadata": {},
     "output_type": "display_data"
    }
   ],
   "source": [
    "geometry"
   ]
  },
  {
   "cell_type": "code",
   "execution_count": 13,
   "metadata": {},
   "outputs": [],
   "source": [
    "vertices.array = np.array([\n",
    "        [-1.0, -1.0,  1.0],\n",
    "        [ 2.0, -2.0,  2.0],\n",
    "        [ 1.0,  1.0,  1.0],\n",
    "        \n",
    "        [ 1.0,  1.0,  1.0],\n",
    "        [-1.0,  1.0,  1.0],\n",
    "        [-1.0, -1.0,  1.0],\n",
    "    ])"
   ]
  },
  {
   "cell_type": "code",
   "execution_count": 15,
   "metadata": {},
   "outputs": [],
   "source": [
    "geometry.attributes['position'] = vertices"
   ]
  },
  {
   "cell_type": "code",
   "execution_count": 19,
   "metadata": {},
   "outputs": [
    {
     "data": {
      "text/plain": [
       "{'position': BufferAttribute(array=array([[-1., -1.,  1.],\n",
       "        [ 2., -2.,  2.],\n",
       "        [ 1.,  1.,  1.],\n",
       "        [ 1.,  1.,  1.],\n",
       "        [-1.,  1.,  1.],\n",
       "        [-1., -1.,  1.]], dtype=float32), count=6, normalized=False, version=0)}"
      ]
     },
     "execution_count": 19,
     "metadata": {},
     "output_type": "execute_result"
    }
   ],
   "source": [
    "geometry.attributes"
   ]
  },
  {
   "cell_type": "code",
   "execution_count": 23,
   "metadata": {},
   "outputs": [
    {
     "data": {
      "text/plain": [
       "\"PlainBufferGeometry(attributes={'position': BufferAttribute(array=array([[-1., -1.,  1.],\\n       [ 2., -2.,  2.],\\n       [ 1.,  1.,  1.],\\n       [ 1.,  1.,  1.],\\n       [-1.,  1.,  1.],\\n       [-1., -1.,  1.]], dtype=float32), count=6, normalized=False, version=0)}, type='BufferGeometry')\""
      ]
     },
     "execution_count": 23,
     "metadata": {},
     "output_type": "execute_result"
    }
   ],
   "source": [
    "repr(geometry)"
   ]
  },
  {
   "cell_type": "code",
   "execution_count": null,
   "metadata": {},
   "outputs": [],
   "source": []
  }
 ],
 "metadata": {
  "kernelspec": {
   "display_name": "Python 3",
   "language": "python",
   "name": "python3"
  },
  "language_info": {
   "codemirror_mode": {
    "name": "ipython",
    "version": 3
   },
   "file_extension": ".py",
   "mimetype": "text/x-python",
   "name": "python",
   "nbconvert_exporter": "python",
   "pygments_lexer": "ipython3",
   "version": "3.5.3"
  }
 },
 "nbformat": 4,
 "nbformat_minor": 1
}
